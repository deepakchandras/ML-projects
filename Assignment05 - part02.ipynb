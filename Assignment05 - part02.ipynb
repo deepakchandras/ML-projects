{
 "cells": [
  {
   "cell_type": "markdown",
   "metadata": {},
   "source": [
    "Question 2: Decision Trees for Classification\n",
    "The bill_authentication.csvPreview the document file is taken from UCI Machine Learning repository (https://archive.ics.uci.edu/ml/datasets/banknote+authentication (Links to an external site.)).\n",
    "\n",
    "Use this dataset to predict whether a bank note is authentic or fake depending upon the four different attributes of the image of the note. The attributes are Variance of wavelet transformed image, curtosis of the image, entropy, and skewness of the image.\n",
    "\n",
    "Use Decision Trees to build a classifier for the give data. Use Grid Search to find the optimal value for the hyperparameters, and evaluate your model on suitable metrics. Use graphviz to visualize your decision tree."
   ]
  },
  {
   "cell_type": "code",
   "execution_count": 2,
   "metadata": {},
   "outputs": [
    {
     "data": {
      "text/plain": [
       "'C:\\\\Users\\\\Admin'"
      ]
     },
     "execution_count": 2,
     "metadata": {},
     "output_type": "execute_result"
    }
   ],
   "source": [
    "#Set the working directory.\n",
    "import os\n",
    "os.chdir('C://Users//Admin')\n",
    "os.getcwd()"
   ]
  },
  {
   "cell_type": "code",
   "execution_count": 3,
   "metadata": {},
   "outputs": [],
   "source": [
    "# Import pandas and numpy libraries.\n",
    "import pandas as pd\n",
    "import numpy as np\n",
    "from pandas import DataFrame"
   ]
  },
  {
   "cell_type": "code",
   "execution_count": 4,
   "metadata": {},
   "outputs": [
    {
     "name": "stdout",
     "output_type": "stream",
     "text": [
      "Variance    float64\n",
      "Skewness    float64\n",
      "Curtosis    float64\n",
      "Entropy     float64\n",
      "Class         int64\n",
      "dtype: object\n"
     ]
    },
    {
     "data": {
      "text/html": [
       "<div>\n",
       "<style scoped>\n",
       "    .dataframe tbody tr th:only-of-type {\n",
       "        vertical-align: middle;\n",
       "    }\n",
       "\n",
       "    .dataframe tbody tr th {\n",
       "        vertical-align: top;\n",
       "    }\n",
       "\n",
       "    .dataframe thead th {\n",
       "        text-align: right;\n",
       "    }\n",
       "</style>\n",
       "<table border=\"1\" class=\"dataframe\">\n",
       "  <thead>\n",
       "    <tr style=\"text-align: right;\">\n",
       "      <th></th>\n",
       "      <th>Variance</th>\n",
       "      <th>Skewness</th>\n",
       "      <th>Curtosis</th>\n",
       "      <th>Entropy</th>\n",
       "      <th>Class</th>\n",
       "    </tr>\n",
       "  </thead>\n",
       "  <tbody>\n",
       "    <tr>\n",
       "      <th>0</th>\n",
       "      <td>3.62160</td>\n",
       "      <td>8.6661</td>\n",
       "      <td>-2.8073</td>\n",
       "      <td>-0.44699</td>\n",
       "      <td>0</td>\n",
       "    </tr>\n",
       "    <tr>\n",
       "      <th>1</th>\n",
       "      <td>4.54590</td>\n",
       "      <td>8.1674</td>\n",
       "      <td>-2.4586</td>\n",
       "      <td>-1.46210</td>\n",
       "      <td>0</td>\n",
       "    </tr>\n",
       "    <tr>\n",
       "      <th>2</th>\n",
       "      <td>3.86600</td>\n",
       "      <td>-2.6383</td>\n",
       "      <td>1.9242</td>\n",
       "      <td>0.10645</td>\n",
       "      <td>0</td>\n",
       "    </tr>\n",
       "    <tr>\n",
       "      <th>3</th>\n",
       "      <td>3.45660</td>\n",
       "      <td>9.5228</td>\n",
       "      <td>-4.0112</td>\n",
       "      <td>-3.59440</td>\n",
       "      <td>0</td>\n",
       "    </tr>\n",
       "    <tr>\n",
       "      <th>4</th>\n",
       "      <td>0.32924</td>\n",
       "      <td>-4.4552</td>\n",
       "      <td>4.5718</td>\n",
       "      <td>-0.98880</td>\n",
       "      <td>0</td>\n",
       "    </tr>\n",
       "  </tbody>\n",
       "</table>\n",
       "</div>"
      ],
      "text/plain": [
       "   Variance  Skewness  Curtosis  Entropy  Class\n",
       "0   3.62160    8.6661   -2.8073 -0.44699      0\n",
       "1   4.54590    8.1674   -2.4586 -1.46210      0\n",
       "2   3.86600   -2.6383    1.9242  0.10645      0\n",
       "3   3.45660    9.5228   -4.0112 -3.59440      0\n",
       "4   0.32924   -4.4552    4.5718 -0.98880      0"
      ]
     },
     "execution_count": 4,
     "metadata": {},
     "output_type": "execute_result"
    }
   ],
   "source": [
    "# Read the input dataset.\n",
    "file = pd.read_csv('bill_authentication.csv')\n",
    "print(file.dtypes)\n",
    "file.head()"
   ]
  },
  {
   "cell_type": "code",
   "execution_count": 117,
   "metadata": {},
   "outputs": [],
   "source": [
    "#Divide dataset into train and test sets.\n",
    "from sklearn.model_selection import train_test_split\n",
    "X_train, X_test, Y_train, Y_test = train_test_split(file.drop('Class', axis=1), file['Class'],\n",
    "                                                    test_size=0.3, random_state=123)"
   ]
  },
  {
   "cell_type": "code",
   "execution_count": 118,
   "metadata": {},
   "outputs": [],
   "source": [
    "#Import Decision Tree Regressor, and GridSearchCV and fit the model to the training data\n",
    "from sklearn.tree import DecisionTreeClassifier\n",
    "from sklearn.model_selection import GridSearchCV"
   ]
  },
  {
   "cell_type": "code",
   "execution_count": 119,
   "metadata": {},
   "outputs": [],
   "source": [
    "#Let's use GridSearchCV to try max_depth value is limited to maximum of 3(to avoid overfitting model)\n",
    "#and max_features can be of 2,3,4 or any values  in hyperparameters. \n",
    "#Being a medium dataset, Do a K-fold(interval - 10) Cross validation.\n",
    "param_grid = [{\"max_depth\":[1, 2, 3], \"max_features\":[2, 3, 4, None]}]\n",
    "gs = GridSearchCV(estimator=DecisionTreeClassifier(random_state=123),\\\n",
    "                 param_grid = param_grid,\\\n",
    "                 cv=10)"
   ]
  },
  {
   "cell_type": "code",
   "execution_count": 120,
   "metadata": {},
   "outputs": [
    {
     "data": {
      "text/plain": [
       "GridSearchCV(cv=10, error_score='raise-deprecating',\n",
       "             estimator=DecisionTreeClassifier(class_weight=None,\n",
       "                                              criterion='gini', max_depth=None,\n",
       "                                              max_features=None,\n",
       "                                              max_leaf_nodes=None,\n",
       "                                              min_impurity_decrease=0.0,\n",
       "                                              min_impurity_split=None,\n",
       "                                              min_samples_leaf=1,\n",
       "                                              min_samples_split=2,\n",
       "                                              min_weight_fraction_leaf=0.0,\n",
       "                                              presort=False, random_state=123,\n",
       "                                              splitter='best'),\n",
       "             iid='warn', n_jobs=None,\n",
       "             param_grid=[{'max_depth': [1, 2, 3],\n",
       "                          'max_features': [2, 3, 4, None]}],\n",
       "             pre_dispatch='2*n_jobs', refit=True, return_train_score=False,\n",
       "             scoring=None, verbose=0)"
      ]
     },
     "execution_count": 120,
     "metadata": {},
     "output_type": "execute_result"
    }
   ],
   "source": [
    "#Fit the model.\n",
    "gs.fit(X_train, Y_train)"
   ]
  },
  {
   "cell_type": "code",
   "execution_count": 121,
   "metadata": {},
   "outputs": [
    {
     "data": {
      "text/plain": [
       "[{'max_depth': 1, 'max_features': 2},\n",
       " {'max_depth': 1, 'max_features': 3},\n",
       " {'max_depth': 1, 'max_features': 4},\n",
       " {'max_depth': 1, 'max_features': None},\n",
       " {'max_depth': 2, 'max_features': 2},\n",
       " {'max_depth': 2, 'max_features': 3},\n",
       " {'max_depth': 2, 'max_features': 4},\n",
       " {'max_depth': 2, 'max_features': None},\n",
       " {'max_depth': 3, 'max_features': 2},\n",
       " {'max_depth': 3, 'max_features': 3},\n",
       " {'max_depth': 3, 'max_features': 4},\n",
       " {'max_depth': 3, 'max_features': None}]"
      ]
     },
     "execution_count": 121,
     "metadata": {},
     "output_type": "execute_result"
    }
   ],
   "source": [
    "#Print out all the hyperparameters combinations that the GridSearchCV has tried.\n",
    "gs.cv_results_['params']"
   ]
  },
  {
   "cell_type": "code",
   "execution_count": 122,
   "metadata": {},
   "outputs": [
    {
     "data": {
      "text/plain": [
       "{'max_depth': 3, 'max_features': 3}"
      ]
     },
     "execution_count": 122,
     "metadata": {},
     "output_type": "execute_result"
    }
   ],
   "source": [
    "gs.best_params_"
   ]
  },
  {
   "cell_type": "code",
   "execution_count": 123,
   "metadata": {},
   "outputs": [
    {
     "data": {
      "text/plain": [
       "array([9, 9, 9, 9, 8, 5, 5, 5, 4, 1, 1, 1])"
      ]
     },
     "execution_count": 123,
     "metadata": {},
     "output_type": "execute_result"
    }
   ],
   "source": [
    "# Print the rank for all tried combinations.\n",
    "gs.cv_results_['rank_test_score']"
   ]
  },
  {
   "cell_type": "code",
   "execution_count": 124,
   "metadata": {},
   "outputs": [
    {
     "data": {
      "text/plain": [
       "DecisionTreeClassifier(class_weight=None, criterion='gini', max_depth=3,\n",
       "                       max_features=3, max_leaf_nodes=None,\n",
       "                       min_impurity_decrease=0.0, min_impurity_split=None,\n",
       "                       min_samples_leaf=1, min_samples_split=2,\n",
       "                       min_weight_fraction_leaf=0.0, presort=False,\n",
       "                       random_state=123, splitter='best')"
      ]
     },
     "execution_count": 124,
     "metadata": {},
     "output_type": "execute_result"
    }
   ],
   "source": [
    "# Fitting the model, with best hyperparameter settings.\n",
    "gs.best_estimator_"
   ]
  },
  {
   "cell_type": "code",
   "execution_count": 125,
   "metadata": {},
   "outputs": [],
   "source": [
    "#Predict results of test data.\n",
    "predictions = gs.predict(X_test)"
   ]
  },
  {
   "cell_type": "code",
   "execution_count": 126,
   "metadata": {},
   "outputs": [],
   "source": [
    "# Calculate accuracy of prediction.\n",
    "from sklearn.metrics import accuracy_score, confusion_matrix"
   ]
  },
  {
   "cell_type": "code",
   "execution_count": 127,
   "metadata": {},
   "outputs": [
    {
     "data": {
      "text/plain": [
       "0.9368932038834952"
      ]
     },
     "execution_count": 127,
     "metadata": {},
     "output_type": "execute_result"
    }
   ],
   "source": [
    "# Calculate the accuracy of test data of model, with actual results.\n",
    "accuracy_score(Y_test, predictions)"
   ]
  },
  {
   "cell_type": "code",
   "execution_count": 128,
   "metadata": {},
   "outputs": [
    {
     "data": {
      "text/plain": [
       "386"
      ]
     },
     "execution_count": 128,
     "metadata": {},
     "output_type": "execute_result"
    }
   ],
   "source": [
    "accuracy_score(Y_test, predictions, normalize=False)"
   ]
  },
  {
   "cell_type": "code",
   "execution_count": 129,
   "metadata": {},
   "outputs": [],
   "source": [
    "#Let's plot confusion matrix for this result.\n",
    "import pandas as pd\n",
    "import matplotlib.pyplot as plt\n",
    "import seaborn as sns\n",
    "%matplotlib inline"
   ]
  },
  {
   "cell_type": "code",
   "execution_count": 130,
   "metadata": {},
   "outputs": [],
   "source": [
    "confusion_mat = confusion_matrix(Y_test, predictions)\n",
    "confusion_df = pd.DataFrame(confusion_mat, index=[0, 1],columns=[0, 1])"
   ]
  },
  {
   "cell_type": "code",
   "execution_count": 131,
   "metadata": {},
   "outputs": [
    {
     "data": {
      "text/html": [
       "<div>\n",
       "<style scoped>\n",
       "    .dataframe tbody tr th:only-of-type {\n",
       "        vertical-align: middle;\n",
       "    }\n",
       "\n",
       "    .dataframe tbody tr th {\n",
       "        vertical-align: top;\n",
       "    }\n",
       "\n",
       "    .dataframe thead th {\n",
       "        text-align: right;\n",
       "    }\n",
       "</style>\n",
       "<table border=\"1\" class=\"dataframe\">\n",
       "  <thead>\n",
       "    <tr style=\"text-align: right;\">\n",
       "      <th></th>\n",
       "      <th>0</th>\n",
       "      <th>1</th>\n",
       "    </tr>\n",
       "  </thead>\n",
       "  <tbody>\n",
       "    <tr>\n",
       "      <th>0</th>\n",
       "      <td>222</td>\n",
       "      <td>11</td>\n",
       "    </tr>\n",
       "    <tr>\n",
       "      <th>1</th>\n",
       "      <td>15</td>\n",
       "      <td>164</td>\n",
       "    </tr>\n",
       "  </tbody>\n",
       "</table>\n",
       "</div>"
      ],
      "text/plain": [
       "     0    1\n",
       "0  222   11\n",
       "1   15  164"
      ]
     },
     "execution_count": 131,
     "metadata": {},
     "output_type": "execute_result"
    }
   ],
   "source": [
    "confusion_df"
   ]
  },
  {
   "cell_type": "code",
   "execution_count": 132,
   "metadata": {},
   "outputs": [
    {
     "data": {
      "text/plain": [
       "<matplotlib.axes._subplots.AxesSubplot at 0x6b35160>"
      ]
     },
     "execution_count": 132,
     "metadata": {},
     "output_type": "execute_result"
    },
    {
     "data": {
      "image/png": "[encoded data removed]",
      "text/plain": [
       "<Figure size 432x288 with 2 Axes>"
      ]
     },
     "metadata": {
      "needs_background": "light"
     },
     "output_type": "display_data"
    }
   ],
   "source": [
    "sns.heatmap(confusion_df, cmap='coolwarm', annot=True)"
   ]
  },
  {
   "cell_type": "code",
   "execution_count": 133,
   "metadata": {},
   "outputs": [],
   "source": [
    "# We can also visualize the tree output using graphviz..\n",
    "from sklearn.tree import export_graphviz\n",
    "import graphviz\n"
   ]
  },
  {
   "cell_type": "code",
   "execution_count": 134,
   "metadata": {},
   "outputs": [],
   "source": [
    "#Create dot_data file using graphviz\n",
    "dot_data = export_graphviz(gs.best_estimator_, filled=True, rounded=True, \n",
    "                           feature_names=['Variance','Skewness', 'Curtosis', 'Entropy'],out_file=None)"
   ]
  },
  {
   "cell_type": "code",
   "execution_count": 135,
   "metadata": {},
   "outputs": [
    {
     "data": {
      "image/svg+xml": [
       "<?xml version=\"1.0\" encoding=\"UTF-8\" standalone=\"no\"?>\r\n",
       "<!DOCTYPE svg PUBLIC \"-//W3C//DTD SVG 1.1//EN\"\r\n",
       " \"http://www.w3.org/Graphics/SVG/1.1/DTD/svg11.dtd\">\r\n",
       "<!-- Generated by graphviz version 2.38.0 (20140413.2041)\r\n",
       " -->\r\n",
       "<!-- Title: Tree Pages: 1 -->\r\n",
       "<svg width=\"1008pt\" height=\"373pt\"\r\n",
       " viewBox=\"0.00 0.00 1007.50 373.00\" xmlns=\"http://www.w3.org/2000/svg\" xmlns:xlink=\"http://www.w3.org/1999/xlink\">\r\n",
       "<g id=\"graph0\" class=\"graph\" transform=\"scale(1 1) rotate(0) translate(4 369)\">\r\n",
       "<title>Tree</title>\r\n",
       "<polygon fill=\"white\" stroke=\"none\" points=\"-4,4 -4,-369 1003.5,-369 1003.5,4 -4,4\"/>\r\n",
       "<!-- 0 -->\r\n",
       "<g id=\"node1\" class=\"node\"><title>0</title>\r\n",
       "<path fill=\"#fae8da\" stroke=\"black\" d=\"M561,-365C561,-365 455,-365 455,-365 449,-365 443,-359 443,-353 443,-353 443,-309 443,-309 443,-303 449,-297 455,-297 455,-297 561,-297 561,-297 567,-297 573,-303 573,-309 573,-309 573,-353 573,-353 573,-359 567,-365 561,-365\"/>\r\n",
       "<text text-anchor=\"middle\" x=\"508\" y=\"-349.8\" font-family=\"Helvetica,sans-Serif\" font-size=\"14.00\">Variance &lt;= 0.32</text>\r\n",
       "<text text-anchor=\"middle\" x=\"508\" y=\"-334.8\" font-family=\"Helvetica,sans-Serif\" font-size=\"14.00\">gini = 0.495</text>\r\n",
       "<text text-anchor=\"middle\" x=\"508\" y=\"-319.8\" font-family=\"Helvetica,sans-Serif\" font-size=\"14.00\">samples = 960</text>\r\n",
       "<text text-anchor=\"middle\" x=\"508\" y=\"-304.8\" font-family=\"Helvetica,sans-Serif\" font-size=\"14.00\">value = [529, 431]</text>\r\n",
       "</g>\r\n",
       "<!-- 1 -->\r\n",
       "<g id=\"node2\" class=\"node\"><title>1</title>\r\n",
       "<path fill=\"#66b3eb\" stroke=\"black\" d=\"M474.5,-261C474.5,-261 355.5,-261 355.5,-261 349.5,-261 343.5,-255 343.5,-249 343.5,-249 343.5,-205 343.5,-205 343.5,-199 349.5,-193 355.5,-193 355.5,-193 474.5,-193 474.5,-193 480.5,-193 486.5,-199 486.5,-205 486.5,-205 486.5,-249 486.5,-249 486.5,-255 480.5,-261 474.5,-261\"/>\r\n",
       "<text text-anchor=\"middle\" x=\"415\" y=\"-245.8\" font-family=\"Helvetica,sans-Serif\" font-size=\"14.00\">Skewness &lt;= 7.764</text>\r\n",
       "<text text-anchor=\"middle\" x=\"415\" y=\"-230.8\" font-family=\"Helvetica,sans-Serif\" font-size=\"14.00\">gini = 0.302</text>\r\n",
       "<text text-anchor=\"middle\" x=\"415\" y=\"-215.8\" font-family=\"Helvetica,sans-Serif\" font-size=\"14.00\">samples = 470</text>\r\n",
       "<text text-anchor=\"middle\" x=\"415\" y=\"-200.8\" font-family=\"Helvetica,sans-Serif\" font-size=\"14.00\">value = [87, 383]</text>\r\n",
       "</g>\r\n",
       "<!-- 0&#45;&gt;1 -->\r\n",
       "<g id=\"edge1\" class=\"edge\"><title>0&#45;&gt;1</title>\r\n",
       "<path fill=\"none\" stroke=\"black\" d=\"M477.806,-296.884C469.684,-287.976 460.803,-278.235 452.343,-268.957\"/>\r\n",
       "<polygon fill=\"black\" stroke=\"black\" points=\"454.685,-266.331 445.361,-261.299 449.512,-271.047 454.685,-266.331\"/>\r\n",
       "<text text-anchor=\"middle\" x=\"444.209\" y=\"-282.573\" font-family=\"Helvetica,sans-Serif\" font-size=\"14.00\">True</text>\r\n",
       "</g>\r\n",
       "<!-- 8 -->\r\n",
       "<g id=\"node9\" class=\"node\"><title>8</title>\r\n",
       "<path fill=\"#e88f4f\" stroke=\"black\" d=\"M657,-261C657,-261 547,-261 547,-261 541,-261 535,-255 535,-249 535,-249 535,-205 535,-205 535,-199 541,-193 547,-193 547,-193 657,-193 657,-193 663,-193 669,-199 669,-205 669,-205 669,-249 669,-249 669,-255 663,-261 657,-261\"/>\r\n",
       "<text text-anchor=\"middle\" x=\"602\" y=\"-245.8\" font-family=\"Helvetica,sans-Serif\" font-size=\"14.00\">Curtosis &lt;= &#45;4.386</text>\r\n",
       "<text text-anchor=\"middle\" x=\"602\" y=\"-230.8\" font-family=\"Helvetica,sans-Serif\" font-size=\"14.00\">gini = 0.177</text>\r\n",
       "<text text-anchor=\"middle\" x=\"602\" y=\"-215.8\" font-family=\"Helvetica,sans-Serif\" font-size=\"14.00\">samples = 490</text>\r\n",
       "<text text-anchor=\"middle\" x=\"602\" y=\"-200.8\" font-family=\"Helvetica,sans-Serif\" font-size=\"14.00\">value = [442, 48]</text>\r\n",
       "</g>\r\n",
       "<!-- 0&#45;&gt;8 -->\r\n",
       "<g id=\"edge8\" class=\"edge\"><title>0&#45;&gt;8</title>\r\n",
       "<path fill=\"none\" stroke=\"black\" d=\"M538.519,-296.884C546.81,-287.887 555.884,-278.041 564.512,-268.678\"/>\r\n",
       "<polygon fill=\"black\" stroke=\"black\" points=\"567.109,-271.025 571.312,-261.299 561.962,-266.281 567.109,-271.025\"/>\r\n",
       "<text text-anchor=\"middle\" x=\"572.332\" y=\"-282.579\" font-family=\"Helvetica,sans-Serif\" font-size=\"14.00\">False</text>\r\n",
       "</g>\r\n",
       "<!-- 2 -->\r\n",
       "<g id=\"node3\" class=\"node\"><title>2</title>\r\n",
       "<path fill=\"#49a5e7\" stroke=\"black\" d=\"M253.5,-157C253.5,-157 140.5,-157 140.5,-157 134.5,-157 128.5,-151 128.5,-145 128.5,-145 128.5,-101 128.5,-101 128.5,-95 134.5,-89 140.5,-89 140.5,-89 253.5,-89 253.5,-89 259.5,-89 265.5,-95 265.5,-101 265.5,-101 265.5,-145 265.5,-145 265.5,-151 259.5,-157 253.5,-157\"/>\r\n",
       "<text text-anchor=\"middle\" x=\"197\" y=\"-141.8\" font-family=\"Helvetica,sans-Serif\" font-size=\"14.00\">Variance &lt;= &#45;0.459</text>\r\n",
       "<text text-anchor=\"middle\" x=\"197\" y=\"-126.8\" font-family=\"Helvetica,sans-Serif\" font-size=\"14.00\">gini = 0.139</text>\r\n",
       "<text text-anchor=\"middle\" x=\"197\" y=\"-111.8\" font-family=\"Helvetica,sans-Serif\" font-size=\"14.00\">samples = 400</text>\r\n",
       "<text text-anchor=\"middle\" x=\"197\" y=\"-96.8\" font-family=\"Helvetica,sans-Serif\" font-size=\"14.00\">value = [30, 370]</text>\r\n",
       "</g>\r\n",
       "<!-- 1&#45;&gt;2 -->\r\n",
       "<g id=\"edge2\" class=\"edge\"><title>1&#45;&gt;2</title>\r\n",
       "<path fill=\"none\" stroke=\"black\" d=\"M344.222,-192.884C322.04,-182.505 297.44,-170.995 274.801,-160.402\"/>\r\n",
       "<polygon fill=\"black\" stroke=\"black\" points=\"276.107,-157.149 265.566,-156.082 273.141,-163.49 276.107,-157.149\"/>\r\n",
       "</g>\r\n",
       "<!-- 5 -->\r\n",
       "<g id=\"node6\" class=\"node\"><title>5</title>\r\n",
       "<path fill=\"#eb9e66\" stroke=\"black\" d=\"M471.5,-157C471.5,-157 358.5,-157 358.5,-157 352.5,-157 346.5,-151 346.5,-145 346.5,-145 346.5,-101 346.5,-101 346.5,-95 352.5,-89 358.5,-89 358.5,-89 471.5,-89 471.5,-89 477.5,-89 483.5,-95 483.5,-101 483.5,-101 483.5,-145 483.5,-145 483.5,-151 477.5,-157 471.5,-157\"/>\r\n",
       "<text text-anchor=\"middle\" x=\"415\" y=\"-141.8\" font-family=\"Helvetica,sans-Serif\" font-size=\"14.00\">Variance &lt;= &#45;4.726</text>\r\n",
       "<text text-anchor=\"middle\" x=\"415\" y=\"-126.8\" font-family=\"Helvetica,sans-Serif\" font-size=\"14.00\">gini = 0.302</text>\r\n",
       "<text text-anchor=\"middle\" x=\"415\" y=\"-111.8\" font-family=\"Helvetica,sans-Serif\" font-size=\"14.00\">samples = 70</text>\r\n",
       "<text text-anchor=\"middle\" x=\"415\" y=\"-96.8\" font-family=\"Helvetica,sans-Serif\" font-size=\"14.00\">value = [57, 13]</text>\r\n",
       "</g>\r\n",
       "<!-- 1&#45;&gt;5 -->\r\n",
       "<g id=\"edge5\" class=\"edge\"><title>1&#45;&gt;5</title>\r\n",
       "<path fill=\"none\" stroke=\"black\" d=\"M415,-192.884C415,-184.778 415,-175.982 415,-167.472\"/>\r\n",
       "<polygon fill=\"black\" stroke=\"black\" points=\"418.5,-167.299 415,-157.299 411.5,-167.299 418.5,-167.299\"/>\r\n",
       "</g>\r\n",
       "<!-- 3 -->\r\n",
       "<g id=\"node4\" class=\"node\"><title>3</title>\r\n",
       "<path fill=\"#40a1e6\" stroke=\"black\" d=\"M110,-53C110,-53 12,-53 12,-53 6,-53 7.10543e-015,-47 7.10543e-015,-41 7.10543e-015,-41 7.10543e-015,-12 7.10543e-015,-12 7.10543e-015,-6 6,-0 12,-0 12,-0 110,-0 110,-0 116,-0 122,-6 122,-12 122,-12 122,-41 122,-41 122,-47 116,-53 110,-53\"/>\r\n",
       "<text text-anchor=\"middle\" x=\"61\" y=\"-37.8\" font-family=\"Helvetica,sans-Serif\" font-size=\"14.00\">gini = 0.069</text>\r\n",
       "<text text-anchor=\"middle\" x=\"61\" y=\"-22.8\" font-family=\"Helvetica,sans-Serif\" font-size=\"14.00\">samples = 337</text>\r\n",
       "<text text-anchor=\"middle\" x=\"61\" y=\"-7.8\" font-family=\"Helvetica,sans-Serif\" font-size=\"14.00\">value = [12, 325]</text>\r\n",
       "</g>\r\n",
       "<!-- 2&#45;&gt;3 -->\r\n",
       "<g id=\"edge3\" class=\"edge\"><title>2&#45;&gt;3</title>\r\n",
       "<path fill=\"none\" stroke=\"black\" d=\"M149.434,-88.9485C135.478,-79.2516 120.257,-68.6752 106.438,-59.073\"/>\r\n",
       "<polygon fill=\"black\" stroke=\"black\" points=\"108.248,-56.0687 98.0391,-53.2367 104.254,-61.8172 108.248,-56.0687\"/>\r\n",
       "</g>\r\n",
       "<!-- 4 -->\r\n",
       "<g id=\"node5\" class=\"node\"><title>4</title>\r\n",
       "<path fill=\"#88c4ef\" stroke=\"black\" d=\"M241.5,-53C241.5,-53 152.5,-53 152.5,-53 146.5,-53 140.5,-47 140.5,-41 140.5,-41 140.5,-12 140.5,-12 140.5,-6 146.5,-0 152.5,-0 152.5,-0 241.5,-0 241.5,-0 247.5,-0 253.5,-6 253.5,-12 253.5,-12 253.5,-41 253.5,-41 253.5,-47 247.5,-53 241.5,-53\"/>\r\n",
       "<text text-anchor=\"middle\" x=\"197\" y=\"-37.8\" font-family=\"Helvetica,sans-Serif\" font-size=\"14.00\">gini = 0.408</text>\r\n",
       "<text text-anchor=\"middle\" x=\"197\" y=\"-22.8\" font-family=\"Helvetica,sans-Serif\" font-size=\"14.00\">samples = 63</text>\r\n",
       "<text text-anchor=\"middle\" x=\"197\" y=\"-7.8\" font-family=\"Helvetica,sans-Serif\" font-size=\"14.00\">value = [18, 45]</text>\r\n",
       "</g>\r\n",
       "<!-- 2&#45;&gt;4 -->\r\n",
       "<g id=\"edge4\" class=\"edge\"><title>2&#45;&gt;4</title>\r\n",
       "<path fill=\"none\" stroke=\"black\" d=\"M197,-88.9485C197,-80.7153 197,-71.848 197,-63.4814\"/>\r\n",
       "<polygon fill=\"black\" stroke=\"black\" points=\"200.5,-63.2367 197,-53.2367 193.5,-63.2367 200.5,-63.2367\"/>\r\n",
       "</g>\r\n",
       "<!-- 6 -->\r\n",
       "<g id=\"node7\" class=\"node\"><title>6</title>\r\n",
       "<path fill=\"#399de5\" stroke=\"black\" d=\"M364.5,-53C364.5,-53 283.5,-53 283.5,-53 277.5,-53 271.5,-47 271.5,-41 271.5,-41 271.5,-12 271.5,-12 271.5,-6 277.5,-0 283.5,-0 283.5,-0 364.5,-0 364.5,-0 370.5,-0 376.5,-6 376.5,-12 376.5,-12 376.5,-41 376.5,-41 376.5,-47 370.5,-53 364.5,-53\"/>\r\n",
       "<text text-anchor=\"middle\" x=\"324\" y=\"-37.8\" font-family=\"Helvetica,sans-Serif\" font-size=\"14.00\">gini = 0.0</text>\r\n",
       "<text text-anchor=\"middle\" x=\"324\" y=\"-22.8\" font-family=\"Helvetica,sans-Serif\" font-size=\"14.00\">samples = 13</text>\r\n",
       "<text text-anchor=\"middle\" x=\"324\" y=\"-7.8\" font-family=\"Helvetica,sans-Serif\" font-size=\"14.00\">value = [0, 13]</text>\r\n",
       "</g>\r\n",
       "<!-- 5&#45;&gt;6 -->\r\n",
       "<g id=\"edge6\" class=\"edge\"><title>5&#45;&gt;6</title>\r\n",
       "<path fill=\"none\" stroke=\"black\" d=\"M383.173,-88.9485C374.363,-79.8005 364.8,-69.8697 355.982,-60.7126\"/>\r\n",
       "<polygon fill=\"black\" stroke=\"black\" points=\"358.241,-58.0122 348.783,-53.2367 353.199,-62.8677 358.241,-58.0122\"/>\r\n",
       "</g>\r\n",
       "<!-- 7 -->\r\n",
       "<g id=\"node8\" class=\"node\"><title>7</title>\r\n",
       "<path fill=\"#e58139\" stroke=\"black\" d=\"M487.5,-53C487.5,-53 406.5,-53 406.5,-53 400.5,-53 394.5,-47 394.5,-41 394.5,-41 394.5,-12 394.5,-12 394.5,-6 400.5,-0 406.5,-0 406.5,-0 487.5,-0 487.5,-0 493.5,-0 499.5,-6 499.5,-12 499.5,-12 499.5,-41 499.5,-41 499.5,-47 493.5,-53 487.5,-53\"/>\r\n",
       "<text text-anchor=\"middle\" x=\"447\" y=\"-37.8\" font-family=\"Helvetica,sans-Serif\" font-size=\"14.00\">gini = 0.0</text>\r\n",
       "<text text-anchor=\"middle\" x=\"447\" y=\"-22.8\" font-family=\"Helvetica,sans-Serif\" font-size=\"14.00\">samples = 57</text>\r\n",
       "<text text-anchor=\"middle\" x=\"447\" y=\"-7.8\" font-family=\"Helvetica,sans-Serif\" font-size=\"14.00\">value = [57, 0]</text>\r\n",
       "</g>\r\n",
       "<!-- 5&#45;&gt;7 -->\r\n",
       "<g id=\"edge7\" class=\"edge\"><title>5&#45;&gt;7</title>\r\n",
       "<path fill=\"none\" stroke=\"black\" d=\"M426.192,-88.9485C429.042,-80.5323 432.116,-71.4536 435.004,-62.9243\"/>\r\n",
       "<polygon fill=\"black\" stroke=\"black\" points=\"438.393,-63.831 438.285,-53.2367 431.762,-61.5858 438.393,-63.831\"/>\r\n",
       "</g>\r\n",
       "<!-- 9 -->\r\n",
       "<g id=\"node10\" class=\"node\"><title>9</title>\r\n",
       "<path fill=\"#70b8ec\" stroke=\"black\" d=\"M656.5,-157C656.5,-157 547.5,-157 547.5,-157 541.5,-157 535.5,-151 535.5,-145 535.5,-145 535.5,-101 535.5,-101 535.5,-95 541.5,-89 547.5,-89 547.5,-89 656.5,-89 656.5,-89 662.5,-89 668.5,-95 668.5,-101 668.5,-101 668.5,-145 668.5,-145 668.5,-151 662.5,-157 656.5,-157\"/>\r\n",
       "<text text-anchor=\"middle\" x=\"602\" y=\"-141.8\" font-family=\"Helvetica,sans-Serif\" font-size=\"14.00\">Variance &lt;= 3.399</text>\r\n",
       "<text text-anchor=\"middle\" x=\"602\" y=\"-126.8\" font-family=\"Helvetica,sans-Serif\" font-size=\"14.00\">gini = 0.34</text>\r\n",
       "<text text-anchor=\"middle\" x=\"602\" y=\"-111.8\" font-family=\"Helvetica,sans-Serif\" font-size=\"14.00\">samples = 23</text>\r\n",
       "<text text-anchor=\"middle\" x=\"602\" y=\"-96.8\" font-family=\"Helvetica,sans-Serif\" font-size=\"14.00\">value = [5, 18]</text>\r\n",
       "</g>\r\n",
       "<!-- 8&#45;&gt;9 -->\r\n",
       "<g id=\"edge9\" class=\"edge\"><title>8&#45;&gt;9</title>\r\n",
       "<path fill=\"none\" stroke=\"black\" d=\"M602,-192.884C602,-184.778 602,-175.982 602,-167.472\"/>\r\n",
       "<polygon fill=\"black\" stroke=\"black\" points=\"605.5,-167.299 602,-157.299 598.5,-167.299 605.5,-167.299\"/>\r\n",
       "</g>\r\n",
       "<!-- 12 -->\r\n",
       "<g id=\"node13\" class=\"node\"><title>12</title>\r\n",
       "<path fill=\"#e78a47\" stroke=\"black\" d=\"M861,-157C861,-157 763,-157 763,-157 757,-157 751,-151 751,-145 751,-145 751,-101 751,-101 751,-95 757,-89 763,-89 763,-89 861,-89 861,-89 867,-89 873,-95 873,-101 873,-101 873,-145 873,-145 873,-151 867,-157 861,-157\"/>\r\n",
       "<text text-anchor=\"middle\" x=\"812\" y=\"-141.8\" font-family=\"Helvetica,sans-Serif\" font-size=\"14.00\">Variance &lt;= 1.5</text>\r\n",
       "<text text-anchor=\"middle\" x=\"812\" y=\"-126.8\" font-family=\"Helvetica,sans-Serif\" font-size=\"14.00\">gini = 0.12</text>\r\n",
       "<text text-anchor=\"middle\" x=\"812\" y=\"-111.8\" font-family=\"Helvetica,sans-Serif\" font-size=\"14.00\">samples = 467</text>\r\n",
       "<text text-anchor=\"middle\" x=\"812\" y=\"-96.8\" font-family=\"Helvetica,sans-Serif\" font-size=\"14.00\">value = [437, 30]</text>\r\n",
       "</g>\r\n",
       "<!-- 8&#45;&gt;12 -->\r\n",
       "<g id=\"edge12\" class=\"edge\"><title>8&#45;&gt;12</title>\r\n",
       "<path fill=\"none\" stroke=\"black\" d=\"M669.023,-193.446C692.23,-182.174 718.297,-169.513 741.756,-158.118\"/>\r\n",
       "<polygon fill=\"black\" stroke=\"black\" points=\"743.482,-161.171 750.947,-153.654 740.423,-154.875 743.482,-161.171\"/>\r\n",
       "</g>\r\n",
       "<!-- 10 -->\r\n",
       "<g id=\"node11\" class=\"node\"><title>10</title>\r\n",
       "<path fill=\"#399de5\" stroke=\"black\" d=\"M610.5,-53C610.5,-53 529.5,-53 529.5,-53 523.5,-53 517.5,-47 517.5,-41 517.5,-41 517.5,-12 517.5,-12 517.5,-6 523.5,-0 529.5,-0 529.5,-0 610.5,-0 610.5,-0 616.5,-0 622.5,-6 622.5,-12 622.5,-12 622.5,-41 622.5,-41 622.5,-47 616.5,-53 610.5,-53\"/>\r\n",
       "<text text-anchor=\"middle\" x=\"570\" y=\"-37.8\" font-family=\"Helvetica,sans-Serif\" font-size=\"14.00\">gini = 0.0</text>\r\n",
       "<text text-anchor=\"middle\" x=\"570\" y=\"-22.8\" font-family=\"Helvetica,sans-Serif\" font-size=\"14.00\">samples = 18</text>\r\n",
       "<text text-anchor=\"middle\" x=\"570\" y=\"-7.8\" font-family=\"Helvetica,sans-Serif\" font-size=\"14.00\">value = [0, 18]</text>\r\n",
       "</g>\r\n",
       "<!-- 9&#45;&gt;10 -->\r\n",
       "<g id=\"edge10\" class=\"edge\"><title>9&#45;&gt;10</title>\r\n",
       "<path fill=\"none\" stroke=\"black\" d=\"M590.808,-88.9485C587.958,-80.5323 584.884,-71.4536 581.996,-62.9243\"/>\r\n",
       "<polygon fill=\"black\" stroke=\"black\" points=\"585.238,-61.5858 578.715,-53.2367 578.607,-63.831 585.238,-61.5858\"/>\r\n",
       "</g>\r\n",
       "<!-- 11 -->\r\n",
       "<g id=\"node12\" class=\"node\"><title>11</title>\r\n",
       "<path fill=\"#e58139\" stroke=\"black\" d=\"M725.5,-53C725.5,-53 652.5,-53 652.5,-53 646.5,-53 640.5,-47 640.5,-41 640.5,-41 640.5,-12 640.5,-12 640.5,-6 646.5,-0 652.5,-0 652.5,-0 725.5,-0 725.5,-0 731.5,-0 737.5,-6 737.5,-12 737.5,-12 737.5,-41 737.5,-41 737.5,-47 731.5,-53 725.5,-53\"/>\r\n",
       "<text text-anchor=\"middle\" x=\"689\" y=\"-37.8\" font-family=\"Helvetica,sans-Serif\" font-size=\"14.00\">gini = 0.0</text>\r\n",
       "<text text-anchor=\"middle\" x=\"689\" y=\"-22.8\" font-family=\"Helvetica,sans-Serif\" font-size=\"14.00\">samples = 5</text>\r\n",
       "<text text-anchor=\"middle\" x=\"689\" y=\"-7.8\" font-family=\"Helvetica,sans-Serif\" font-size=\"14.00\">value = [5, 0]</text>\r\n",
       "</g>\r\n",
       "<!-- 9&#45;&gt;11 -->\r\n",
       "<g id=\"edge11\" class=\"edge\"><title>9&#45;&gt;11</title>\r\n",
       "<path fill=\"none\" stroke=\"black\" d=\"M632.428,-88.9485C640.85,-79.8005 649.993,-69.8697 658.423,-60.7126\"/>\r\n",
       "<polygon fill=\"black\" stroke=\"black\" points=\"661.108,-62.9643 665.306,-53.2367 655.958,-58.2231 661.108,-62.9643\"/>\r\n",
       "</g>\r\n",
       "<!-- 13 -->\r\n",
       "<g id=\"node14\" class=\"node\"><title>13</title>\r\n",
       "<path fill=\"#edaa79\" stroke=\"black\" d=\"M856.5,-53C856.5,-53 767.5,-53 767.5,-53 761.5,-53 755.5,-47 755.5,-41 755.5,-41 755.5,-12 755.5,-12 755.5,-6 761.5,-0 767.5,-0 767.5,-0 856.5,-0 856.5,-0 862.5,-0 868.5,-6 868.5,-12 868.5,-12 868.5,-41 868.5,-41 868.5,-47 862.5,-53 856.5,-53\"/>\r\n",
       "<text text-anchor=\"middle\" x=\"812\" y=\"-37.8\" font-family=\"Helvetica,sans-Serif\" font-size=\"14.00\">gini = 0.37</text>\r\n",
       "<text text-anchor=\"middle\" x=\"812\" y=\"-22.8\" font-family=\"Helvetica,sans-Serif\" font-size=\"14.00\">samples = 110</text>\r\n",
       "<text text-anchor=\"middle\" x=\"812\" y=\"-7.8\" font-family=\"Helvetica,sans-Serif\" font-size=\"14.00\">value = [83, 27]</text>\r\n",
       "</g>\r\n",
       "<!-- 12&#45;&gt;13 -->\r\n",
       "<g id=\"edge13\" class=\"edge\"><title>12&#45;&gt;13</title>\r\n",
       "<path fill=\"none\" stroke=\"black\" d=\"M812,-88.9485C812,-80.7153 812,-71.848 812,-63.4814\"/>\r\n",
       "<polygon fill=\"black\" stroke=\"black\" points=\"815.5,-63.2367 812,-53.2367 808.5,-63.2367 815.5,-63.2367\"/>\r\n",
       "</g>\r\n",
       "<!-- 14 -->\r\n",
       "<g id=\"node15\" class=\"node\"><title>14</title>\r\n",
       "<path fill=\"#e5823b\" stroke=\"black\" d=\"M987.5,-53C987.5,-53 898.5,-53 898.5,-53 892.5,-53 886.5,-47 886.5,-41 886.5,-41 886.5,-12 886.5,-12 886.5,-6 892.5,-0 898.5,-0 898.5,-0 987.5,-0 987.5,-0 993.5,-0 999.5,-6 999.5,-12 999.5,-12 999.5,-41 999.5,-41 999.5,-47 993.5,-53 987.5,-53\"/>\r\n",
       "<text text-anchor=\"middle\" x=\"943\" y=\"-37.8\" font-family=\"Helvetica,sans-Serif\" font-size=\"14.00\">gini = 0.017</text>\r\n",
       "<text text-anchor=\"middle\" x=\"943\" y=\"-22.8\" font-family=\"Helvetica,sans-Serif\" font-size=\"14.00\">samples = 357</text>\r\n",
       "<text text-anchor=\"middle\" x=\"943\" y=\"-7.8\" font-family=\"Helvetica,sans-Serif\" font-size=\"14.00\">value = [354, 3]</text>\r\n",
       "</g>\r\n",
       "<!-- 12&#45;&gt;14 -->\r\n",
       "<g id=\"edge14\" class=\"edge\"><title>12&#45;&gt;14</title>\r\n",
       "<path fill=\"none\" stroke=\"black\" d=\"M857.817,-88.9485C871.133,-79.3431 885.645,-68.8747 898.855,-59.345\"/>\r\n",
       "<polygon fill=\"black\" stroke=\"black\" points=\"901.26,-61.9257 907.323,-53.2367 897.165,-56.2486 901.26,-61.9257\"/>\r\n",
       "</g>\r\n",
       "</g>\r\n",
       "</svg>\r\n"
      ],
      "text/plain": [
       "<graphviz.files.Source at 0x6baeb00>"
      ]
     },
     "execution_count": 135,
     "metadata": {},
     "output_type": "execute_result"
    }
   ],
   "source": [
    "#create a diagrammatic view of decision tree, using graphviz.\n",
    "graphviz.Source(dot_data)"
   ]
  }
 ],
 "metadata": {
  "kernelspec": {
   "display_name": "Python 3",
   "language": "python",
   "name": "python3"
  },
  "language_info": {
   "codemirror_mode": {
    "name": "ipython",
    "version": 3
   },
   "file_extension": ".py",
   "mimetype": "text/x-python",
   "name": "python",
   "nbconvert_exporter": "python",
   "pygments_lexer": "ipython3",
   "version": "3.7.3"
  }
 },
 "nbformat": 4,
 "nbformat_minor": 2
}
