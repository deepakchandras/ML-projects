{
 "cells": [
  {
   "cell_type": "code",
   "execution_count": 18,
   "metadata": {},
   "outputs": [],
   "source": [
    "# Set the working directory\n",
    "import os\n",
    "os.chdir('C://Users//Admin//Downloads')"
   ]
  },
  {
   "cell_type": "code",
   "execution_count": 19,
   "metadata": {},
   "outputs": [],
   "source": [
    "#Import pandas library\n",
    "import pandas as pd\n",
    "from pandas import DataFrame\n"
   ]
  },
  {
   "cell_type": "code",
   "execution_count": 25,
   "metadata": {},
   "outputs": [],
   "source": [
    "# The file \"gestational_study.csv\" contains data from a small study involving 17 infants on the relationship \n",
    "# between gestational age at birth (measured in weeks) and birth weight (measured in grams).\n",
    "# Write your own code in Python that performs the following operations on this dataset:\n",
    "file = pd.read_csv('gestational_study.csv')\n"
   ]
  },
  {
   "cell_type": "code",
   "execution_count": 26,
   "metadata": {},
   "outputs": [
    {
     "name": "stdout",
     "output_type": "stream",
     "text": [
      "                 Gestational_Age  Birth_Weight\n",
      "Gestational_Age         1.000000      0.819783\n",
      "Birth_Weight            0.819783      1.000000\n"
     ]
    },
    {
     "data": {
      "text/plain": [
       "Birth_Weight    0.819783\n",
       "Name: Gestational_Age, dtype: float64"
      ]
     },
     "execution_count": 26,
     "metadata": {},
     "output_type": "execute_result"
    }
   ],
   "source": [
    "#Calculate the correlation between Gestational Age and Birth Weight \n",
    "#use the corr() function in Pandas to calculate the correlation).\n",
    "correl = file[['Gestational_Age', 'Birth_Weight']] \n",
    "coeff = correl.corr(method='pearson')\n",
    "print(coeff)\n",
    "coeff.loc['Gestational_Age', ['Birth_Weight']]\n",
    "# The correlation coefficient is 0.819783. As the coefficient is greater than zero and lesser than 1, the correlation\n",
    "# is positive."
   ]
  },
  {
   "cell_type": "code",
   "execution_count": 27,
   "metadata": {},
   "outputs": [
    {
     "data": {
      "image/png": "[encoded data removed]",
      "text/plain": [
       "<Figure size 432x288 with 1 Axes>"
      ]
     },
     "metadata": {
      "needs_background": "light"
     },
     "output_type": "display_data"
    }
   ],
   "source": [
    "#Generate a scatter plot to visualize the relationships between these two variables.\n",
    "#Does the scatter plot confirm the correlation value you calculated? \n",
    "#Does there seem to be a strong correlation between the two predictors?\n",
    "import matplotlib.pyplot as plt\n",
    "\n",
    "plt.scatter(x=file['Gestational_Age'], y= file['Birth_Weight'], color = \"magenta\", alpha = 0.6)\n",
    "plt.title(\" Relationship between Gestation period and Birth Weight\")\n",
    "plt.xlabel('Gestation Period in weeks')\n",
    "plt.ylabel('Birth Weight in grams')\n",
    "plt.show()\n",
    "#The diagram shows that as Gestation period increases, birth weight also increases. Hence positively correlated,\n",
    "# as mentioned previously, as per calculated correlation coefficient(0.819783)"
   ]
  },
  {
   "cell_type": "code",
   "execution_count": 28,
   "metadata": {},
   "outputs": [
    {
     "name": "stdout",
     "output_type": "stream",
     "text": [
      "The correlation coefficient is  0.8197828031536366\n",
      "The probability is  5.6210785283336966e-05\n",
      "Alternate hypothesis : There is a correlation between Gestation period and Birth weight!\n",
      "Positively correlated!\n"
     ]
    }
   ],
   "source": [
    "#Perform a hypothesis test and state the confidence level at which you can confirm a correlation between the two variables \n",
    "#(use the scipy.stats.pearsonr() function--consult the SciPy documentation for details (Links to an external site.) \n",
    "# about its inputs and outputs).\n",
    "from scipy import array, stats\n",
    "x = array(file['Gestational_Age'])\n",
    "y = array(file['Birth_Weight'])\n",
    "r_row, p_value = stats.pearsonr(x, y)\n",
    "print(\"The correlation coefficient is \",r_row)\n",
    "print(\"The probability is \",p_value)\n",
    "\n",
    "#With 95% of confidence level(significance level: 0.05)\n",
    "if(p_value > 0.05):\n",
    "    print(\"Null Hypothesis : There is no correlation between Gestation period and Birth weight!\")\n",
    "else:\n",
    "    print(\"Alternate hypothesis : There is a correlation between Gestation period and Birth weight!\")\n",
    "\n",
    "    \n",
    "if(r_row == 0):\n",
    "    print(\"No correlation!\")\n",
    "if (r_row > 0 and r_row < 1):\n",
    "    print(\"Positively correlated!\")\n",
    "if (r_row < 0 and r_row > -1):\n",
    "    print(\"Negatively correlated!\")\n",
    "if(r_row < -1 and r_row > 1):\n",
    "    print(\"Invalid operational value!\")\n",
    "\n"
   ]
  }
 ],
 "metadata": {
  "kernelspec": {
   "display_name": "Python 3",
   "language": "python",
   "name": "python3"
  },
  "language_info": {
   "codemirror_mode": {
    "name": "ipython",
    "version": 3
   },
   "file_extension": ".py",
   "mimetype": "text/x-python",
   "name": "python",
   "nbconvert_exporter": "python",
   "pygments_lexer": "ipython3",
   "version": "3.7.3"
  }
 },
 "nbformat": 4,
 "nbformat_minor": 2
}
