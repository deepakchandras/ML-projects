{
 "cells": [
  {
   "cell_type": "code",
   "execution_count": 1,
   "metadata": {},
   "outputs": [],
   "source": [
    "import numpy as np\n",
    "import pandas as pd"
   ]
  },
  {
   "cell_type": "code",
   "execution_count": 2,
   "metadata": {},
   "outputs": [],
   "source": [
    "url = \"https://datafaculty.s3.us-east-2.amazonaws.com/chicago/nyt.frame.csv\"\n",
    "data = pd.read_csv(url)"
   ]
  },
  {
   "cell_type": "code",
   "execution_count": 3,
   "metadata": {},
   "outputs": [
    {
     "data": {
      "text/html": [
       "<div>\n",
       "<style scoped>\n",
       "    .dataframe tbody tr th:only-of-type {\n",
       "        vertical-align: middle;\n",
       "    }\n",
       "\n",
       "    .dataframe tbody tr th {\n",
       "        vertical-align: top;\n",
       "    }\n",
       "\n",
       "    .dataframe thead th {\n",
       "        text-align: right;\n",
       "    }\n",
       "</style>\n",
       "<table border=\"1\" class=\"dataframe\">\n",
       "  <thead>\n",
       "    <tr style=\"text-align: right;\">\n",
       "      <th></th>\n",
       "      <th>class.labels</th>\n",
       "      <th>X.</th>\n",
       "      <th>X.d</th>\n",
       "      <th>X.nd</th>\n",
       "      <th>X.s</th>\n",
       "      <th>X.th</th>\n",
       "      <th>X.this</th>\n",
       "      <th>a</th>\n",
       "      <th>abandoned</th>\n",
       "      <th>abc</th>\n",
       "      <th>...</th>\n",
       "      <th>yorkers</th>\n",
       "      <th>yorks</th>\n",
       "      <th>you</th>\n",
       "      <th>young</th>\n",
       "      <th>younger</th>\n",
       "      <th>your</th>\n",
       "      <th>youre</th>\n",
       "      <th>youth</th>\n",
       "      <th>youthful</th>\n",
       "      <th>yu</th>\n",
       "    </tr>\n",
       "  </thead>\n",
       "  <tbody>\n",
       "    <tr>\n",
       "      <th>0</th>\n",
       "      <td>art</td>\n",
       "      <td>0.008707</td>\n",
       "      <td>0.0</td>\n",
       "      <td>0.0</td>\n",
       "      <td>0.000000</td>\n",
       "      <td>0.009251</td>\n",
       "      <td>0.0</td>\n",
       "      <td>0.007564</td>\n",
       "      <td>0.0</td>\n",
       "      <td>0.0</td>\n",
       "      <td>...</td>\n",
       "      <td>0.0</td>\n",
       "      <td>0.0</td>\n",
       "      <td>0.000000</td>\n",
       "      <td>0.0</td>\n",
       "      <td>0.0</td>\n",
       "      <td>0.0</td>\n",
       "      <td>0.0</td>\n",
       "      <td>0.0</td>\n",
       "      <td>0.0</td>\n",
       "      <td>0.0</td>\n",
       "    </tr>\n",
       "    <tr>\n",
       "      <th>1</th>\n",
       "      <td>art</td>\n",
       "      <td>0.005848</td>\n",
       "      <td>0.0</td>\n",
       "      <td>0.0</td>\n",
       "      <td>0.000000</td>\n",
       "      <td>0.000000</td>\n",
       "      <td>0.0</td>\n",
       "      <td>0.001418</td>\n",
       "      <td>0.0</td>\n",
       "      <td>0.0</td>\n",
       "      <td>...</td>\n",
       "      <td>0.0</td>\n",
       "      <td>0.0</td>\n",
       "      <td>0.000000</td>\n",
       "      <td>0.0</td>\n",
       "      <td>0.0</td>\n",
       "      <td>0.0</td>\n",
       "      <td>0.0</td>\n",
       "      <td>0.0</td>\n",
       "      <td>0.0</td>\n",
       "      <td>0.0</td>\n",
       "    </tr>\n",
       "    <tr>\n",
       "      <th>2</th>\n",
       "      <td>art</td>\n",
       "      <td>0.016036</td>\n",
       "      <td>0.0</td>\n",
       "      <td>0.0</td>\n",
       "      <td>0.011403</td>\n",
       "      <td>0.000000</td>\n",
       "      <td>0.0</td>\n",
       "      <td>0.010063</td>\n",
       "      <td>0.0</td>\n",
       "      <td>0.0</td>\n",
       "      <td>...</td>\n",
       "      <td>0.0</td>\n",
       "      <td>0.0</td>\n",
       "      <td>0.000000</td>\n",
       "      <td>0.0</td>\n",
       "      <td>0.0</td>\n",
       "      <td>0.0</td>\n",
       "      <td>0.0</td>\n",
       "      <td>0.0</td>\n",
       "      <td>0.0</td>\n",
       "      <td>0.0</td>\n",
       "    </tr>\n",
       "    <tr>\n",
       "      <th>3</th>\n",
       "      <td>art</td>\n",
       "      <td>0.026415</td>\n",
       "      <td>0.0</td>\n",
       "      <td>0.0</td>\n",
       "      <td>0.000000</td>\n",
       "      <td>0.000000</td>\n",
       "      <td>0.0</td>\n",
       "      <td>0.008677</td>\n",
       "      <td>0.0</td>\n",
       "      <td>0.0</td>\n",
       "      <td>...</td>\n",
       "      <td>0.0</td>\n",
       "      <td>0.0</td>\n",
       "      <td>0.000000</td>\n",
       "      <td>0.0</td>\n",
       "      <td>0.0</td>\n",
       "      <td>0.0</td>\n",
       "      <td>0.0</td>\n",
       "      <td>0.0</td>\n",
       "      <td>0.0</td>\n",
       "      <td>0.0</td>\n",
       "    </tr>\n",
       "    <tr>\n",
       "      <th>4</th>\n",
       "      <td>art</td>\n",
       "      <td>0.007285</td>\n",
       "      <td>0.0</td>\n",
       "      <td>0.0</td>\n",
       "      <td>0.011008</td>\n",
       "      <td>0.000000</td>\n",
       "      <td>0.0</td>\n",
       "      <td>0.008390</td>\n",
       "      <td>0.0</td>\n",
       "      <td>0.0</td>\n",
       "      <td>...</td>\n",
       "      <td>0.0</td>\n",
       "      <td>0.0</td>\n",
       "      <td>0.048151</td>\n",
       "      <td>0.0</td>\n",
       "      <td>0.0</td>\n",
       "      <td>0.0</td>\n",
       "      <td>0.0</td>\n",
       "      <td>0.0</td>\n",
       "      <td>0.0</td>\n",
       "      <td>0.0</td>\n",
       "    </tr>\n",
       "  </tbody>\n",
       "</table>\n",
       "<p>5 rows × 4432 columns</p>\n",
       "</div>"
      ],
      "text/plain": [
       "  class.labels        X.  X.d  X.nd       X.s      X.th  X.this         a  \\\n",
       "0          art  0.008707  0.0   0.0  0.000000  0.009251     0.0  0.007564   \n",
       "1          art  0.005848  0.0   0.0  0.000000  0.000000     0.0  0.001418   \n",
       "2          art  0.016036  0.0   0.0  0.011403  0.000000     0.0  0.010063   \n",
       "3          art  0.026415  0.0   0.0  0.000000  0.000000     0.0  0.008677   \n",
       "4          art  0.007285  0.0   0.0  0.011008  0.000000     0.0  0.008390   \n",
       "\n",
       "   abandoned  abc  ...  yorkers  yorks       you  young  younger  your  youre  \\\n",
       "0        0.0  0.0  ...      0.0    0.0  0.000000    0.0      0.0   0.0    0.0   \n",
       "1        0.0  0.0  ...      0.0    0.0  0.000000    0.0      0.0   0.0    0.0   \n",
       "2        0.0  0.0  ...      0.0    0.0  0.000000    0.0      0.0   0.0    0.0   \n",
       "3        0.0  0.0  ...      0.0    0.0  0.000000    0.0      0.0   0.0    0.0   \n",
       "4        0.0  0.0  ...      0.0    0.0  0.048151    0.0      0.0   0.0    0.0   \n",
       "\n",
       "   youth  youthful   yu  \n",
       "0    0.0       0.0  0.0  \n",
       "1    0.0       0.0  0.0  \n",
       "2    0.0       0.0  0.0  \n",
       "3    0.0       0.0  0.0  \n",
       "4    0.0       0.0  0.0  \n",
       "\n",
       "[5 rows x 4432 columns]"
      ]
     },
     "execution_count": 3,
     "metadata": {},
     "output_type": "execute_result"
    }
   ],
   "source": [
    "data.head()"
   ]
  },
  {
   "cell_type": "code",
   "execution_count": 4,
   "metadata": {},
   "outputs": [
    {
     "data": {
      "text/plain": [
       "(102, 4432)"
      ]
     },
     "execution_count": 4,
     "metadata": {},
     "output_type": "execute_result"
    }
   ],
   "source": [
    "data.shape"
   ]
  },
  {
   "cell_type": "code",
   "execution_count": 5,
   "metadata": {},
   "outputs": [
    {
     "data": {
      "text/plain": [
       "array(['art', 'music'], dtype=object)"
      ]
     },
     "execution_count": 5,
     "metadata": {},
     "output_type": "execute_result"
    }
   ],
   "source": [
    "data['class.labels'].unique()"
   ]
  },
  {
   "cell_type": "code",
   "execution_count": 7,
   "metadata": {},
   "outputs": [],
   "source": [
    "import sklearn.decomposition as decomp"
   ]
  },
  {
   "cell_type": "code",
   "execution_count": 8,
   "metadata": {},
   "outputs": [],
   "source": [
    "decompose = decomp.PCA(n_components = 50)"
   ]
  },
  {
   "cell_type": "code",
   "execution_count": 11,
   "metadata": {},
   "outputs": [],
   "source": [
    "x = data.drop(\"class.labels\", axis = 1)"
   ]
  },
  {
   "cell_type": "code",
   "execution_count": 12,
   "metadata": {},
   "outputs": [
    {
     "data": {
      "text/plain": [
       "PCA(copy=True, iterated_power='auto', n_components=50, random_state=None,\n",
       "    svd_solver='auto', tol=0.0, whiten=False)"
      ]
     },
     "execution_count": 12,
     "metadata": {},
     "output_type": "execute_result"
    }
   ],
   "source": [
    "decompose.fit(x)"
   ]
  },
  {
   "cell_type": "code",
   "execution_count": 13,
   "metadata": {},
   "outputs": [
    {
     "data": {
      "text/plain": [
       "array([[-0.02694065, -0.04125824,  0.0069695 , ..., -0.00053028,\n",
       "         0.0075259 , -0.00521438],\n",
       "       [ 0.00420554, -0.00219802, -0.00340105, ...,  0.00496524,\n",
       "        -0.00722542, -0.00607281],\n",
       "       [ 0.04465877,  0.02567317,  0.00847306, ..., -0.00323756,\n",
       "        -0.00429873, -0.00793915],\n",
       "       ...,\n",
       "       [ 0.01412902,  0.02556062, -0.01744403, ...,  0.00407748,\n",
       "         0.01547471,  0.00837637],\n",
       "       [ 0.01360439,  0.03843162, -0.01401103, ..., -0.00938467,\n",
       "         0.01555365,  0.00838747],\n",
       "       [ 0.02507464,  0.01651583,  0.02584714, ..., -0.00230493,\n",
       "         0.00849791,  0.01074877]])"
      ]
     },
     "execution_count": 13,
     "metadata": {},
     "output_type": "execute_result"
    }
   ],
   "source": [
    "decompose.components_"
   ]
  },
  {
   "cell_type": "code",
   "execution_count": 14,
   "metadata": {},
   "outputs": [
    {
     "data": {
      "text/plain": [
       "(50, 4431)"
      ]
     },
     "execution_count": 14,
     "metadata": {},
     "output_type": "execute_result"
    }
   ],
   "source": [
    "decompose.components_.shape"
   ]
  },
  {
   "cell_type": "code",
   "execution_count": 15,
   "metadata": {},
   "outputs": [
    {
     "data": {
      "text/plain": [
       "array([0.01988289, 0.01861809, 0.01723527, 0.01534565, 0.01437065,\n",
       "       0.01389864, 0.01300251, 0.01275392, 0.0121597 , 0.01192065,\n",
       "       0.01180664, 0.01163543, 0.01150265, 0.01138849, 0.01129077,\n",
       "       0.01114976, 0.01098779, 0.01090328, 0.01084515, 0.01073628,\n",
       "       0.01070558, 0.01057001, 0.01043106, 0.01040633, 0.01033313,\n",
       "       0.01023072, 0.01012763, 0.01002812, 0.00993268, 0.0099177 ,\n",
       "       0.00982988, 0.00981457, 0.00972382, 0.00962572, 0.00960634,\n",
       "       0.00952928, 0.00948394, 0.00937489, 0.00937236, 0.00931361,\n",
       "       0.00922834, 0.00913032, 0.00906599, 0.00900525, 0.00896274,\n",
       "       0.00884562, 0.00875559, 0.00868129, 0.00861602, 0.0085708 ])"
      ]
     },
     "execution_count": 15,
     "metadata": {},
     "output_type": "execute_result"
    }
   ],
   "source": [
    "decompose.explained_variance_ ## eigen values"
   ]
  },
  {
   "cell_type": "code",
   "execution_count": 16,
   "metadata": {},
   "outputs": [
    {
     "data": {
      "text/plain": [
       "array([0.0209328 , 0.0196012 , 0.01814537, 0.01615597, 0.01512949,\n",
       "       0.01463255, 0.0136891 , 0.01342738, 0.01280178, 0.01255011,\n",
       "       0.01243008, 0.01224983, 0.01211004, 0.01198986, 0.01188697,\n",
       "       0.01173852, 0.01156799, 0.01147903, 0.01141782, 0.0113032 ,\n",
       "       0.01127088, 0.01112815, 0.01098186, 0.01095583, 0.01087877,\n",
       "       0.01077095, 0.01066241, 0.01055765, 0.01045717, 0.0104414 ,\n",
       "       0.01034894, 0.01033283, 0.01023729, 0.010134  , 0.0101136 ,\n",
       "       0.01003246, 0.00998474, 0.00986993, 0.00986726, 0.00980541,\n",
       "       0.00971564, 0.00961244, 0.00954471, 0.00948077, 0.00943601,\n",
       "       0.00931271, 0.00921793, 0.0091397 , 0.00907098, 0.00902337])"
      ]
     },
     "execution_count": 16,
     "metadata": {},
     "output_type": "execute_result"
    }
   ],
   "source": [
    "decompose.explained_variance_ratio_"
   ]
  },
  {
   "cell_type": "code",
   "execution_count": 17,
   "metadata": {},
   "outputs": [
    {
     "data": {
      "text/plain": [
       "array([0.0209328 , 0.040534  , 0.05867937, 0.07483534, 0.08996483,\n",
       "       0.10459737, 0.11828647, 0.13171386, 0.14451564, 0.15706575,\n",
       "       0.16949583, 0.18174566, 0.1938557 , 0.20584555, 0.21773253,\n",
       "       0.22947105, 0.24103904, 0.25251807, 0.26393589, 0.27523909,\n",
       "       0.28650997, 0.29763812, 0.30861999, 0.31957582, 0.33045459,\n",
       "       0.34122554, 0.35188795, 0.3624456 , 0.37290277, 0.38334417,\n",
       "       0.39369311, 0.40402594, 0.41426323, 0.42439723, 0.43451083,\n",
       "       0.44454329, 0.45452803, 0.46439796, 0.47426522, 0.48407063,\n",
       "       0.49378627, 0.50339872, 0.51294343, 0.5224242 , 0.53186021,\n",
       "       0.54117292, 0.55039084, 0.55953054, 0.56860153, 0.5776249 ])"
      ]
     },
     "execution_count": 17,
     "metadata": {},
     "output_type": "execute_result"
    }
   ],
   "source": [
    "decompose.explained_variance_ratio_.cumsum()"
   ]
  },
  {
   "cell_type": "code",
   "execution_count": 18,
   "metadata": {},
   "outputs": [],
   "source": [
    "pca_data = decompose.transform(x)"
   ]
  },
  {
   "cell_type": "code",
   "execution_count": 19,
   "metadata": {},
   "outputs": [
    {
     "data": {
      "text/plain": [
       "(102, 50)"
      ]
     },
     "execution_count": 19,
     "metadata": {},
     "output_type": "execute_result"
    }
   ],
   "source": [
    "pca_data.shape"
   ]
  },
  {
   "cell_type": "code",
   "execution_count": null,
   "metadata": {},
   "outputs": [],
   "source": [
    "#Exploratory device"
   ]
  },
  {
   "cell_type": "code",
   "execution_count": 21,
   "metadata": {},
   "outputs": [
    {
     "data": {
      "text/plain": [
       "array([-0.02694065, -0.04125824,  0.0069695 , ..., -0.00053028,\n",
       "        0.0075259 , -0.00521438])"
      ]
     },
     "execution_count": 21,
     "metadata": {},
     "output_type": "execute_result"
    }
   ],
   "source": [
    "decompose.components_[0,:]"
   ]
  },
  {
   "cell_type": "code",
   "execution_count": 25,
   "metadata": {},
   "outputs": [
    {
     "data": {
      "text/plain": [
       "music       -0.109681\n",
       "trio        -0.084132\n",
       "theater     -0.081055\n",
       "orchestra   -0.066403\n",
       "composers   -0.058693\n",
       "opera       -0.057621\n",
       "theaters    -0.055302\n",
       "dtype: float64"
      ]
     },
     "execution_count": 25,
     "metadata": {},
     "output_type": "execute_result"
    }
   ],
   "source": [
    "ind = x.columns\n",
    "pd.Series(decompose.components_[0,:], index=ind).sort_values().head(7)"
   ]
  },
  {
   "cell_type": "code",
   "execution_count": 26,
   "metadata": {},
   "outputs": [
    {
     "data": {
      "text/plain": [
       "art         -0.152789\n",
       "museum      -0.121245\n",
       "images      -0.093313\n",
       "artists     -0.092161\n",
       "donations   -0.075356\n",
       "painting    -0.074673\n",
       "museums     -0.072591\n",
       "dtype: float64"
      ]
     },
     "execution_count": 26,
     "metadata": {},
     "output_type": "execute_result"
    }
   ],
   "source": [
    "pd.Series(decompose.components_[1,:], index=ind).sort_values().head(7)"
   ]
  },
  {
   "cell_type": "code",
   "execution_count": 32,
   "metadata": {},
   "outputs": [],
   "source": [
    "def get_variance(n, data):\n",
    "    decompose = decomp.PCA(n_components = n)\n",
    "    x = data.drop(\"class.labels\", axis=1)\n",
    "    decompose.fit(x)\n",
    "    return decompose.explained_variance_ratio_.cumsum()[-1]"
   ]
  },
  {
   "cell_type": "code",
   "execution_count": 34,
   "metadata": {},
   "outputs": [
    {
     "data": {
      "text/plain": [
       "0.8035249271633162"
      ]
     },
     "execution_count": 34,
     "metadata": {},
     "output_type": "execute_result"
    }
   ],
   "source": [
    "get_variance(75, data)"
   ]
  },
  {
   "cell_type": "code",
   "execution_count": null,
   "metadata": {},
   "outputs": [],
   "source": []
  }
 ],
 "metadata": {
  "kernelspec": {
   "display_name": "Python 3",
   "language": "python",
   "name": "python3"
  },
  "language_info": {
   "codemirror_mode": {
    "name": "ipython",
    "version": 3
   },
   "file_extension": ".py",
   "mimetype": "text/x-python",
   "name": "python",
   "nbconvert_exporter": "python",
   "pygments_lexer": "ipython3",
   "version": "3.7.3"
  }
 },
 "nbformat": 4,
 "nbformat_minor": 2
}
