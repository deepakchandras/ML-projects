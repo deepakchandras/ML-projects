{
 "cells": [
  {
   "cell_type": "code",
   "execution_count": 61,
   "metadata": {},
   "outputs": [],
   "source": [
    "import os\n",
    "os.chdir('C://Users//Admin//Downloads')"
   ]
  },
  {
   "cell_type": "code",
   "execution_count": 62,
   "metadata": {},
   "outputs": [],
   "source": [
    "import pandas as pd\n",
    "from pandas import DataFrame\n"
   ]
  },
  {
   "cell_type": "code",
   "execution_count": 63,
   "metadata": {},
   "outputs": [
    {
     "data": {
      "text/html": [
       "<div>\n",
       "<style scoped>\n",
       "    .dataframe tbody tr th:only-of-type {\n",
       "        vertical-align: middle;\n",
       "    }\n",
       "\n",
       "    .dataframe tbody tr th {\n",
       "        vertical-align: top;\n",
       "    }\n",
       "\n",
       "    .dataframe thead th {\n",
       "        text-align: right;\n",
       "    }\n",
       "</style>\n",
       "<table border=\"1\" class=\"dataframe\">\n",
       "  <thead>\n",
       "    <tr style=\"text-align: right;\">\n",
       "      <th></th>\n",
       "      <th>Infant_id</th>\n",
       "      <th>Gestational_Age</th>\n",
       "      <th>Birth_Weight</th>\n",
       "    </tr>\n",
       "  </thead>\n",
       "  <tbody>\n",
       "    <tr>\n",
       "      <th>0</th>\n",
       "      <td>1</td>\n",
       "      <td>35.0</td>\n",
       "      <td>1895</td>\n",
       "    </tr>\n",
       "    <tr>\n",
       "      <th>1</th>\n",
       "      <td>2</td>\n",
       "      <td>36.0</td>\n",
       "      <td>2030</td>\n",
       "    </tr>\n",
       "    <tr>\n",
       "      <th>2</th>\n",
       "      <td>3</td>\n",
       "      <td>29.0</td>\n",
       "      <td>1440</td>\n",
       "    </tr>\n",
       "    <tr>\n",
       "      <th>3</th>\n",
       "      <td>4</td>\n",
       "      <td>40.0</td>\n",
       "      <td>2835</td>\n",
       "    </tr>\n",
       "    <tr>\n",
       "      <th>4</th>\n",
       "      <td>5</td>\n",
       "      <td>36.0</td>\n",
       "      <td>3090</td>\n",
       "    </tr>\n",
       "    <tr>\n",
       "      <th>5</th>\n",
       "      <td>6</td>\n",
       "      <td>42.0</td>\n",
       "      <td>3827</td>\n",
       "    </tr>\n",
       "    <tr>\n",
       "      <th>6</th>\n",
       "      <td>7</td>\n",
       "      <td>40.0</td>\n",
       "      <td>3260</td>\n",
       "    </tr>\n",
       "    <tr>\n",
       "      <th>7</th>\n",
       "      <td>8</td>\n",
       "      <td>37.0</td>\n",
       "      <td>2690</td>\n",
       "    </tr>\n",
       "    <tr>\n",
       "      <th>8</th>\n",
       "      <td>9</td>\n",
       "      <td>41.0</td>\n",
       "      <td>3285</td>\n",
       "    </tr>\n",
       "    <tr>\n",
       "      <th>9</th>\n",
       "      <td>10</td>\n",
       "      <td>38.0</td>\n",
       "      <td>2920</td>\n",
       "    </tr>\n",
       "    <tr>\n",
       "      <th>10</th>\n",
       "      <td>11</td>\n",
       "      <td>39.0</td>\n",
       "      <td>3430</td>\n",
       "    </tr>\n",
       "    <tr>\n",
       "      <th>11</th>\n",
       "      <td>12</td>\n",
       "      <td>41.4</td>\n",
       "      <td>3657</td>\n",
       "    </tr>\n",
       "    <tr>\n",
       "      <th>12</th>\n",
       "      <td>13</td>\n",
       "      <td>40.0</td>\n",
       "      <td>3685</td>\n",
       "    </tr>\n",
       "    <tr>\n",
       "      <th>13</th>\n",
       "      <td>14</td>\n",
       "      <td>40.0</td>\n",
       "      <td>3345</td>\n",
       "    </tr>\n",
       "    <tr>\n",
       "      <th>14</th>\n",
       "      <td>15</td>\n",
       "      <td>41.0</td>\n",
       "      <td>3260</td>\n",
       "    </tr>\n",
       "    <tr>\n",
       "      <th>15</th>\n",
       "      <td>16</td>\n",
       "      <td>38.0</td>\n",
       "      <td>2680</td>\n",
       "    </tr>\n",
       "    <tr>\n",
       "      <th>16</th>\n",
       "      <td>17</td>\n",
       "      <td>39.0</td>\n",
       "      <td>2005</td>\n",
       "    </tr>\n",
       "  </tbody>\n",
       "</table>\n",
       "</div>"
      ],
      "text/plain": [
       "    Infant_id  Gestational_Age  Birth_Weight\n",
       "0           1             35.0          1895\n",
       "1           2             36.0          2030\n",
       "2           3             29.0          1440\n",
       "3           4             40.0          2835\n",
       "4           5             36.0          3090\n",
       "5           6             42.0          3827\n",
       "6           7             40.0          3260\n",
       "7           8             37.0          2690\n",
       "8           9             41.0          3285\n",
       "9          10             38.0          2920\n",
       "10         11             39.0          3430\n",
       "11         12             41.4          3657\n",
       "12         13             40.0          3685\n",
       "13         14             40.0          3345\n",
       "14         15             41.0          3260\n",
       "15         16             38.0          2680\n",
       "16         17             39.0          2005"
      ]
     },
     "execution_count": 63,
     "metadata": {},
     "output_type": "execute_result"
    }
   ],
   "source": [
    "#The file \"nyc-rolling-sales_clean.csvPreview the document\" contains New York City \n",
    "#property sales data taken from Kaggle (Links to an external site.). \n",
    "#The data has already been cleaned and a few columns have been dropped.\n",
    "#Write your own code in Python that performs the following operations on this dataset:\n",
    "file = pd.read_csv('gestational_study.csv')\n",
    "file"
   ]
  },
  {
   "cell_type": "code",
   "execution_count": 64,
   "metadata": {},
   "outputs": [
    {
     "name": "stdout",
     "output_type": "stream",
     "text": [
      "                 Gestational_Age  Birth_Weight\n",
      "Gestational_Age         1.000000      0.819783\n",
      "Birth_Weight            0.819783      1.000000\n"
     ]
    },
    {
     "data": {
      "text/plain": [
       "Birth_Weight    0.819783\n",
       "Name: Gestational_Age, dtype: float64"
      ]
     },
     "execution_count": 64,
     "metadata": {},
     "output_type": "execute_result"
    }
   ],
   "source": [
    "#Calculate the correlation between Gestational Age and Birth Weight \n",
    "#use the corr() function in Pandas to calculate the correlation).\n",
    "correl = file[['Gestational_Age', 'Birth_Weight']] \n",
    "coeff = correl.corr(method='pearson')\n",
    "print(coeff)\n",
    "coeff.loc['Gestational_Age', ['Birth_Weight']]\n",
    "# The correlation coefficient is 0.819783. As the coefficient is greater than zero and lesser than 1, the correlation\n",
    "# is positive."
   ]
  },
  {
   "cell_type": "code",
   "execution_count": 65,
   "metadata": {},
   "outputs": [
    {
     "data": {
      "image/png": "[encoded data removed]",
      "text/plain": [
       "<Figure size 432x288 with 1 Axes>"
      ]
     },
     "metadata": {
      "needs_background": "light"
     },
     "output_type": "display_data"
    }
   ],
   "source": [
    "#Generate a scatter plot to visualize the relationships between these two variables.\n",
    "#Does the scatter plot confirm the correlation value you calculated? \n",
    "#Does there seem to be a strong correlation between the two predictors?\n",
    "import matplotlib.pyplot as plt\n",
    "\n",
    "plt.scatter(x=file['Gestational_Age'], y= file['Birth_Weight'], color = \"magenta\", alpha = 0.6)\n",
    "plt.title(\" Relationship between Gestation period and Birth Weight\")\n",
    "plt.xlabel('Gestation Period in weeks')\n",
    "plt.ylabel('Birth Weight in grams')\n",
    "plt.show()\n",
    "#The diagram shows that as Gestation period increases, birth weight also increases. Hence positively correlated,\n",
    "# as mentioned previously, as per calculated correlation coefficient(0.819783)"
   ]
  },
  {
   "cell_type": "code",
   "execution_count": 47,
   "metadata": {},
   "outputs": [
    {
     "name": "stdout",
     "output_type": "stream",
     "text": [
      "The correlation coefficient is  0.8197828031536366\n",
      "The probability is  5.6210785283336966e-05\n",
      "Alternate hypothesis : There is a correlation between Gestation period and Birth weight\n",
      "Positively correlated!\n"
     ]
    }
   ],
   "source": [
    "#Perform a hypothesis test and state the confidence level at which you can confirm a correlation between the two variables \n",
    "#(use the scipy.stats.pearsonr() function--consult the SciPy documentation for details (Links to an external site.) \n",
    "# about its inputs and outputs).\n",
    "import scipy as sc\n",
    "x = sc.array(file['Gestational_Age'])\n",
    "y = sc.array(file['Birth_Weight'])\n",
    "r_row, p_value = sc.stats.pearsonr(x, y)\n",
    "print(\"The correlation coefficient is \",r_row)\n",
    "print(\"The probability is \",p_value)\n",
    "\n",
    "#With 95% of confidence level:\n",
    "if(p_value > 0.05):\n",
    "    print(\"Null Hypothesis : There is no correlation between Gestation period and Birth weight\")\n",
    "else:\n",
    "    print(\"Alternate hypothesis : There is a correlation between Gestation period and Birth weight\")\n",
    "\n",
    "    \n",
    "if(r_row == 0):\n",
    "    print(\"No correlation!\")\n",
    "if (r_row > 0 and r_row < 1):\n",
    "    print(\"Positively correlated!\")\n",
    "if (r_row < 0 and r_row > -1):\n",
    "    print(\"Negatively correlated!\")\n",
    "if(r_row < -1 and r_row > 1):\n",
    "    print(\"Invalid operational value!\")\n",
    "\n"
   ]
  }
 ],
 "metadata": {
  "kernelspec": {
   "display_name": "Python 3",
   "language": "python",
   "name": "python3"
  },
  "language_info": {
   "codemirror_mode": {
    "name": "ipython",
    "version": 3
   },
   "file_extension": ".py",
   "mimetype": "text/x-python",
   "name": "python",
   "nbconvert_exporter": "python",
   "pygments_lexer": "ipython3",
   "version": "3.7.3"
  }
 },
 "nbformat": 4,
 "nbformat_minor": 2
}
