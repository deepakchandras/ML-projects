{
 "cells": [
  {
   "cell_type": "code",
   "execution_count": 37,
   "metadata": {},
   "outputs": [
    {
     "data": {
      "text/plain": [
       "'C:\\\\Users\\\\Admin'"
      ]
     },
     "execution_count": 37,
     "metadata": {},
     "output_type": "execute_result"
    }
   ],
   "source": [
    "# To build a model that predicts housing values in Boston suburbs, using various predictor variables.\n",
    "import os\n",
    "os.getcwd()"
   ]
  },
  {
   "cell_type": "code",
   "execution_count": 38,
   "metadata": {},
   "outputs": [
    {
     "name": "stdout",
     "output_type": "stream",
     "text": [
      "      CRIM  INDUS    NOX     RM        AGE     DIS  TAX         PT  \\\n",
      "0  0.00632   2.31  0.538  6.575  65.199997  4.0900  296  15.300000   \n",
      "1  0.02731   7.07  0.469  6.421  78.900002  4.9671  242  17.799999   \n",
      "2  0.02729   7.07  0.469  7.185  61.099998  4.9671  242  17.799999   \n",
      "3  0.03237   2.18  0.458  6.998  45.799999  6.0622  222  18.700001   \n",
      "4  0.06905   2.18  0.458  7.147  54.200001  6.0622  222  18.700001   \n",
      "\n",
      "            B         MV  \n",
      "0  396.899994  24.000000  \n",
      "1  396.899994  21.600000  \n",
      "2  392.829987  34.700001  \n",
      "3  394.630005  33.400002  \n",
      "4  396.899994  36.200001  \n",
      "(506, 10)\n"
     ]
    }
   ],
   "source": [
    "# import and read boston dataset.\n",
    "import pandas as pd\n",
    "import statsmodels.api as sm\n",
    "my_bos = pd.read_csv(\"boston.csv\")\n",
    "print(my_bos.head())\n",
    "print(my_bos.shape)"
   ]
  },
  {
   "cell_type": "code",
   "execution_count": 40,
   "metadata": {},
   "outputs": [],
   "source": [
    "#Split the data with 30% in test data and 70 % in training data.\n",
    "from sklearn.model_selection import train_test_split\n",
    "X_train, X_test, Y_train, Y_test = train_test_split(my_bos.drop('MV', axis=1), my_bos['MV'], test_size=0.3, random_state = 112)"
   ]
  },
  {
   "cell_type": "code",
   "execution_count": 41,
   "metadata": {},
   "outputs": [
    {
     "name": "stdout",
     "output_type": "stream",
     "text": [
      "                            OLS Regression Results                            \n",
      "==============================================================================\n",
      "Dep. Variable:                     MV   R-squared:                       0.674\n",
      "Model:                            OLS   Adj. R-squared:                  0.666\n",
      "Method:                 Least Squares   F-statistic:                     79.12\n",
      "Date:                Mon, 12 Aug 2019   Prob (F-statistic):           2.49e-78\n",
      "Time:                        13:35:05   Log-Likelihood:                -1089.8\n",
      "No. Observations:                 354   AIC:                             2200.\n",
      "Df Residuals:                     344   BIC:                             2238.\n",
      "Df Model:                           9                                         \n",
      "Covariance Type:            nonrobust                                         \n",
      "==============================================================================\n",
      "                 coef    std err          t      P>|t|      [0.025      0.975]\n",
      "------------------------------------------------------------------------------\n",
      "const         14.1337      6.145      2.300      0.022       2.046      26.221\n",
      "CRIM          -0.1215      0.037     -3.320      0.001      -0.193      -0.050\n",
      "INDUS         -0.1458      0.081     -1.803      0.072      -0.305       0.013\n",
      "NOX          -15.4731      5.006     -3.091      0.002     -25.319      -5.627\n",
      "RM             6.7127      0.462     14.538      0.000       5.804       7.621\n",
      "AGE           -0.0561      0.016     -3.467      0.001      -0.088      -0.024\n",
      "DIS           -1.3640      0.238     -5.735      0.000      -1.832      -0.896\n",
      "TAX         2.091e-05      0.003      0.007      0.995      -0.006       0.006\n",
      "PT            -0.9300      0.158     -5.871      0.000      -1.242      -0.618\n",
      "B              0.0085      0.004      2.305      0.022       0.001       0.016\n",
      "==============================================================================\n",
      "Omnibus:                      242.800   Durbin-Watson:                   2.004\n",
      "Prob(Omnibus):                  0.000   Jarque-Bera (JB):             3711.686\n",
      "Skew:                           2.650   Prob(JB):                         0.00\n",
      "Kurtosis:                      17.951   Cond. No.                     1.39e+04\n",
      "==============================================================================\n",
      "\n",
      "Warnings:\n",
      "[1] Standard Errors assume that the covariance matrix of the errors is correctly specified.\n",
      "[2] The condition number is large, 1.39e+04. This might indicate that there are\n",
      "strong multicollinearity or other numerical problems.\n"
     ]
    }
   ],
   "source": [
    "# add constant for Independent variables.\n",
    "X_train = sm.add_constant(X_train)\n",
    "my_model = sm.OLS(Y_train, X_train)\n",
    "result = my_model.fit()\n",
    "print(result.summary())"
   ]
  },
  {
   "cell_type": "code",
   "execution_count": 42,
   "metadata": {},
   "outputs": [
    {
     "name": "stdout",
     "output_type": "stream",
     "text": [
      "                            OLS Regression Results                            \n",
      "==============================================================================\n",
      "Dep. Variable:                     MV   R-squared:                       0.671\n",
      "Model:                            OLS   Adj. R-squared:                  0.664\n",
      "Method:                 Least Squares   F-statistic:                     100.6\n",
      "Date:                Mon, 12 Aug 2019   Prob (F-statistic):           1.70e-79\n",
      "Time:                        13:35:14   Log-Likelihood:                -1091.8\n",
      "No. Observations:                 354   AIC:                             2200.\n",
      "Df Residuals:                     346   BIC:                             2230.\n",
      "Df Model:                           7                                         \n",
      "Covariance Type:            nonrobust                                         \n",
      "==============================================================================\n",
      "                 coef    std err          t      P>|t|      [0.025      0.975]\n",
      "------------------------------------------------------------------------------\n",
      "const         14.2840      6.102      2.341      0.020       2.283      26.285\n",
      "CRIM          -0.1230      0.034     -3.611      0.000      -0.190      -0.056\n",
      "NOX          -19.2918      4.455     -4.330      0.000     -28.054     -10.530\n",
      "RM             6.9326      0.447     15.492      0.000       6.052       7.813\n",
      "AGE           -0.0580      0.016     -3.592      0.000      -0.090      -0.026\n",
      "DIS           -1.2661      0.232     -5.448      0.000      -1.723      -0.809\n",
      "PT            -1.0117      0.146     -6.944      0.000      -1.298      -0.725\n",
      "B              0.0092      0.004      2.535      0.012       0.002       0.016\n",
      "==============================================================================\n",
      "Omnibus:                      237.250   Durbin-Watson:                   2.035\n",
      "Prob(Omnibus):                  0.000   Jarque-Bera (JB):             3496.676\n",
      "Skew:                           2.578   Prob(JB):                         0.00\n",
      "Kurtosis:                      17.508   Cond. No.                     9.09e+03\n",
      "==============================================================================\n",
      "\n",
      "Warnings:\n",
      "[1] Standard Errors assume that the covariance matrix of the errors is correctly specified.\n",
      "[2] The condition number is large, 9.09e+03. This might indicate that there are\n",
      "strong multicollinearity or other numerical problems.\n"
     ]
    }
   ],
   "source": [
    "# Please note that attributes - TAX and INDUS are not a significant contributors. And confidence interval varies \n",
    "#for those 2 variables from negative to positive, which is not expected. Moreover, With 5% of significance level, \n",
    "#probability of those 2 variables(INDUS and TAX) are more than 0.05. So, eliminating those 2 variables from modeling.\n",
    "X_train =  X_train.drop(\"INDUS\", axis=1)\n",
    "X_train =  X_train.drop(\"TAX\", axis=1)\n",
    "X_test =  X_test.drop(\"INDUS\", axis=1)\n",
    "X_test =  X_test.drop(\"TAX\", axis=1)\n",
    "updated_model = sm.OLS(Y_train, X_train)\n",
    "result2 = updated_model.fit()\n",
    "print(result2.summary())"
   ]
  },
  {
   "cell_type": "code",
   "execution_count": 47,
   "metadata": {},
   "outputs": [
    {
     "name": "stderr",
     "output_type": "stream",
     "text": [
      "C:\\Users\\Admin\\Anaconda\\lib\\site-packages\\numpy\\core\\fromnumeric.py:2389: FutureWarning: Method .ptp is deprecated and will be removed in a future version. Use numpy.ptp instead.\n",
      "  return ptp(axis=axis, out=out, **kwargs)\n"
     ]
    },
    {
     "data": {
      "text/plain": [
       "0.631059313834835"
      ]
     },
     "execution_count": 47,
     "metadata": {},
     "output_type": "execute_result"
    }
   ],
   "source": [
    "#From the above updated model summary, it's clear that R2 and Adjusted R2 values have been reduced from that of the \n",
    "#earlier model summary. hence, the verdict is that Model didn't get improved, even after removing 2 invaluable predictors, \n",
    "# from the dataset.\n",
    "from sklearn.metrics import r2_score\n",
    "X_test = sm.add_constant(X_test)\n",
    "predictions = result2.predict(X_test)\n",
    "r2_score(Y_test, predictions)\n"
   ]
  }
 ],
 "metadata": {
  "kernelspec": {
   "display_name": "Python 3",
   "language": "python",
   "name": "python3"
  },
  "language_info": {
   "codemirror_mode": {
    "name": "ipython",
    "version": 3
   },
   "file_extension": ".py",
   "mimetype": "text/x-python",
   "name": "python",
   "nbconvert_exporter": "python",
   "pygments_lexer": "ipython3",
   "version": "3.7.3"
  }
 },
 "nbformat": 4,
 "nbformat_minor": 2
}
