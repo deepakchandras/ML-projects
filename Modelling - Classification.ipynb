{
 "cells": [
  {
   "cell_type": "code",
   "execution_count": 325,
   "metadata": {},
   "outputs": [],
   "source": [
    "import numpy as np\n",
    "import pandas as pd\n",
    "import seaborn as sns\n",
    "import matplotlib.pyplot as plt\n",
    "%matplotlib inline"
   ]
  },
  {
   "cell_type": "code",
   "execution_count": 326,
   "metadata": {},
   "outputs": [
    {
     "data": {
      "text/plain": [
       "'C:\\\\Users\\\\Admin'"
      ]
     },
     "execution_count": 326,
     "metadata": {},
     "output_type": "execute_result"
    }
   ],
   "source": [
    "import os\n",
    "os.getcwd()"
   ]
  },
  {
   "cell_type": "code",
   "execution_count": 327,
   "metadata": {},
   "outputs": [],
   "source": [
    "# read the dataset:\n",
    "data = pd.read_csv('bank-full.csv')"
   ]
  },
  {
   "cell_type": "code",
   "execution_count": 328,
   "metadata": {},
   "outputs": [
    {
     "data": {
      "text/plain": [
       "Index(['age', 'job', 'marital', 'education', 'default', 'balance', 'housing',\n",
       "       'loan', 'contact', 'day', 'month', 'duration', 'campaign', 'pdays',\n",
       "       'previous', 'poutcome', 'y'],\n",
       "      dtype='object')"
      ]
     },
     "execution_count": 328,
     "metadata": {},
     "output_type": "execute_result"
    }
   ],
   "source": [
    "data.columns"
   ]
  },
  {
   "cell_type": "code",
   "execution_count": 329,
   "metadata": {},
   "outputs": [
    {
     "data": {
      "text/plain": [
       "age           int64\n",
       "job          object\n",
       "marital      object\n",
       "education    object\n",
       "default      object\n",
       "balance       int64\n",
       "housing      object\n",
       "loan         object\n",
       "contact      object\n",
       "day           int64\n",
       "month        object\n",
       "duration      int64\n",
       "campaign      int64\n",
       "pdays         int64\n",
       "previous      int64\n",
       "poutcome     object\n",
       "y            object\n",
       "dtype: object"
      ]
     },
     "execution_count": 329,
     "metadata": {},
     "output_type": "execute_result"
    }
   ],
   "source": [
    "data.dtypes"
   ]
  },
  {
   "cell_type": "code",
   "execution_count": 330,
   "metadata": {},
   "outputs": [
    {
     "data": {
      "text/plain": [
       "45211"
      ]
     },
     "execution_count": 330,
     "metadata": {},
     "output_type": "execute_result"
    }
   ],
   "source": [
    "len(data)"
   ]
  },
  {
   "cell_type": "code",
   "execution_count": 331,
   "metadata": {},
   "outputs": [],
   "source": [
    "import pandas_profiling as pp\n",
    "f = pp.ProfileReport(data)\n",
    "f.to_file(\"./EDA_report.html\")"
   ]
  },
  {
   "cell_type": "code",
   "execution_count": 332,
   "metadata": {},
   "outputs": [
    {
     "data": {
      "text/plain": [
       "y            0\n",
       "loan         0\n",
       "job          0\n",
       "marital      0\n",
       "education    0\n",
       "default      0\n",
       "balance      0\n",
       "housing      0\n",
       "contact      0\n",
       "poutcome     0\n",
       "day          0\n",
       "month        0\n",
       "duration     0\n",
       "campaign     0\n",
       "pdays        0\n",
       "previous     0\n",
       "age          0\n",
       "dtype: int64"
      ]
     },
     "execution_count": 332,
     "metadata": {},
     "output_type": "execute_result"
    }
   ],
   "source": [
    "data.isnull().sum().sort_values(ascending=False)"
   ]
  },
  {
   "cell_type": "code",
   "execution_count": 333,
   "metadata": {},
   "outputs": [
    {
     "data": {
      "text/plain": [
       "no     0.883015\n",
       "yes    0.116985\n",
       "Name: y, dtype: float64"
      ]
     },
     "execution_count": 333,
     "metadata": {},
     "output_type": "execute_result"
    }
   ],
   "source": [
    "data.y.value_counts(normalize=True)"
   ]
  },
  {
   "cell_type": "code",
   "execution_count": 334,
   "metadata": {},
   "outputs": [
    {
     "data": {
      "text/plain": [
       "45211"
      ]
     },
     "execution_count": 334,
     "metadata": {},
     "output_type": "execute_result"
    }
   ],
   "source": [
    "data.drop_duplicates(inplace=True)\n",
    "len(data)"
   ]
  },
  {
   "cell_type": "code",
   "execution_count": 335,
   "metadata": {},
   "outputs": [
    {
     "data": {
      "text/plain": [
       "20    2752\n",
       "18    2308\n",
       "21    2026\n",
       "17    1939\n",
       "6     1932\n",
       "5     1910\n",
       "14    1848\n",
       "8     1842\n",
       "28    1830\n",
       "7     1817\n",
       "19    1757\n",
       "29    1745\n",
       "15    1703\n",
       "12    1603\n",
       "13    1585\n",
       "30    1566\n",
       "9     1561\n",
       "11    1479\n",
       "4     1445\n",
       "16    1415\n",
       "2     1293\n",
       "27    1121\n",
       "3     1079\n",
       "26    1035\n",
       "23     939\n",
       "22     905\n",
       "25     840\n",
       "31     643\n",
       "10     524\n",
       "24     447\n",
       "1      322\n",
       "Name: day, dtype: int64"
      ]
     },
     "execution_count": 335,
     "metadata": {},
     "output_type": "execute_result"
    }
   ],
   "source": [
    "data['day'].value_counts()"
   ]
  },
  {
   "cell_type": "code",
   "execution_count": 336,
   "metadata": {},
   "outputs": [],
   "source": [
    "def find_category(cols):\n",
    "    df = cols[0]\n",
    "    for x in df.columns:\n",
    "        if df[x].dtypes == 'object':\n",
    "            nbr = len(np.unique(df[x]))\n",
    "            print(\"The feature '{C}' has '{N}' unique values\".format(C=x, N=nbr))\n",
    "\n",
    "            "
   ]
  },
  {
   "cell_type": "code",
   "execution_count": 337,
   "metadata": {},
   "outputs": [
    {
     "name": "stdout",
     "output_type": "stream",
     "text": [
      "The feature 'job' has '12' unique values\n",
      "The feature 'marital' has '3' unique values\n",
      "The feature 'education' has '4' unique values\n",
      "The feature 'default' has '2' unique values\n",
      "The feature 'housing' has '2' unique values\n",
      "The feature 'loan' has '2' unique values\n",
      "The feature 'contact' has '3' unique values\n",
      "The feature 'month' has '12' unique values\n",
      "The feature 'poutcome' has '4' unique values\n",
      "The feature 'y' has '2' unique values\n"
     ]
    }
   ],
   "source": [
    "find_category([data])"
   ]
  },
  {
   "cell_type": "code",
   "execution_count": 338,
   "metadata": {},
   "outputs": [
    {
     "data": {
      "text/html": [
       "<div>\n",
       "<style scoped>\n",
       "    .dataframe tbody tr th:only-of-type {\n",
       "        vertical-align: middle;\n",
       "    }\n",
       "\n",
       "    .dataframe tbody tr th {\n",
       "        vertical-align: top;\n",
       "    }\n",
       "\n",
       "    .dataframe thead th {\n",
       "        text-align: right;\n",
       "    }\n",
       "</style>\n",
       "<table border=\"1\" class=\"dataframe\">\n",
       "  <thead>\n",
       "    <tr style=\"text-align: right;\">\n",
       "      <th>job</th>\n",
       "      <th>admin.</th>\n",
       "      <th>blue-collar</th>\n",
       "      <th>entrepreneur</th>\n",
       "      <th>housemaid</th>\n",
       "      <th>management</th>\n",
       "      <th>retired</th>\n",
       "      <th>self-employed</th>\n",
       "      <th>services</th>\n",
       "      <th>student</th>\n",
       "      <th>technician</th>\n",
       "      <th>unemployed</th>\n",
       "      <th>unknown</th>\n",
       "    </tr>\n",
       "    <tr>\n",
       "      <th>y</th>\n",
       "      <th></th>\n",
       "      <th></th>\n",
       "      <th></th>\n",
       "      <th></th>\n",
       "      <th></th>\n",
       "      <th></th>\n",
       "      <th></th>\n",
       "      <th></th>\n",
       "      <th></th>\n",
       "      <th></th>\n",
       "      <th></th>\n",
       "      <th></th>\n",
       "    </tr>\n",
       "  </thead>\n",
       "  <tbody>\n",
       "    <tr>\n",
       "      <th>no</th>\n",
       "      <td>4540</td>\n",
       "      <td>9024</td>\n",
       "      <td>1364</td>\n",
       "      <td>1131</td>\n",
       "      <td>8157</td>\n",
       "      <td>1748</td>\n",
       "      <td>1392</td>\n",
       "      <td>3785</td>\n",
       "      <td>669</td>\n",
       "      <td>6757</td>\n",
       "      <td>1101</td>\n",
       "      <td>254</td>\n",
       "    </tr>\n",
       "    <tr>\n",
       "      <th>yes</th>\n",
       "      <td>631</td>\n",
       "      <td>708</td>\n",
       "      <td>123</td>\n",
       "      <td>109</td>\n",
       "      <td>1301</td>\n",
       "      <td>516</td>\n",
       "      <td>187</td>\n",
       "      <td>369</td>\n",
       "      <td>269</td>\n",
       "      <td>840</td>\n",
       "      <td>202</td>\n",
       "      <td>34</td>\n",
       "    </tr>\n",
       "  </tbody>\n",
       "</table>\n",
       "</div>"
      ],
      "text/plain": [
       "job  admin.  blue-collar  entrepreneur  housemaid  management  retired  \\\n",
       "y                                                                        \n",
       "no     4540         9024          1364       1131        8157     1748   \n",
       "yes     631          708           123        109        1301      516   \n",
       "\n",
       "job  self-employed  services  student  technician  unemployed  unknown  \n",
       "y                                                                       \n",
       "no            1392      3785      669        6757        1101      254  \n",
       "yes            187       369      269         840         202       34  "
      ]
     },
     "execution_count": 338,
     "metadata": {},
     "output_type": "execute_result"
    }
   ],
   "source": [
    "pd.crosstab(data['y'], data['job'])"
   ]
  },
  {
   "cell_type": "code",
   "execution_count": 339,
   "metadata": {},
   "outputs": [
    {
     "data": {
      "text/plain": [
       "['admin.',\n",
       " 'blue-collar',\n",
       " 'entrepreneur',\n",
       " 'housemaid',\n",
       " 'management',\n",
       " 'retired',\n",
       " 'self-employed',\n",
       " 'services',\n",
       " 'student',\n",
       " 'technician',\n",
       " 'unemployed',\n",
       " 'unknown']"
      ]
     },
     "execution_count": 339,
     "metadata": {},
     "output_type": "execute_result"
    }
   ],
   "source": [
    "np.unique(data[['job']]).tolist()"
   ]
  },
  {
   "cell_type": "code",
   "execution_count": 340,
   "metadata": {},
   "outputs": [
    {
     "data": {
      "text/plain": [
       "['primary', 'secondary', 'tertiary', 'unknown']"
      ]
     },
     "execution_count": 340,
     "metadata": {},
     "output_type": "execute_result"
    }
   ],
   "source": [
    "np.unique(data[['education']]).tolist()"
   ]
  },
  {
   "cell_type": "code",
   "execution_count": 341,
   "metadata": {},
   "outputs": [
    {
     "data": {
      "text/plain": [
       "['failure', 'other', 'success', 'unknown']"
      ]
     },
     "execution_count": 341,
     "metadata": {},
     "output_type": "execute_result"
    }
   ],
   "source": [
    "np.unique(data[['poutcome']]).tolist()"
   ]
  },
  {
   "cell_type": "code",
   "execution_count": 342,
   "metadata": {},
   "outputs": [
    {
     "data": {
      "text/plain": [
       "['cellular', 'telephone', 'unknown']"
      ]
     },
     "execution_count": 342,
     "metadata": {},
     "output_type": "execute_result"
    }
   ],
   "source": [
    "np.unique(data[['contact']]).tolist()"
   ]
  },
  {
   "cell_type": "code",
   "execution_count": 343,
   "metadata": {},
   "outputs": [
    {
     "data": {
      "text/plain": [
       "['no', 'yes']"
      ]
     },
     "execution_count": 343,
     "metadata": {},
     "output_type": "execute_result"
    }
   ],
   "source": [
    "np.unique(data[['default']]).tolist()"
   ]
  },
  {
   "cell_type": "code",
   "execution_count": 344,
   "metadata": {},
   "outputs": [
    {
     "data": {
      "text/plain": [
       "['no', 'yes']"
      ]
     },
     "execution_count": 344,
     "metadata": {},
     "output_type": "execute_result"
    }
   ],
   "source": [
    "np.unique(data[['housing']]).tolist()"
   ]
  },
  {
   "cell_type": "code",
   "execution_count": 345,
   "metadata": {},
   "outputs": [
    {
     "data": {
      "text/plain": [
       "['no', 'yes']"
      ]
     },
     "execution_count": 345,
     "metadata": {},
     "output_type": "execute_result"
    }
   ],
   "source": [
    "np.unique(data[['loan']]).tolist()"
   ]
  },
  {
   "cell_type": "code",
   "execution_count": 346,
   "metadata": {},
   "outputs": [
    {
     "data": {
      "text/plain": [
       "<matplotlib.axes._subplots.AxesSubplot at 0x13c3c898>"
      ]
     },
     "execution_count": 346,
     "metadata": {},
     "output_type": "execute_result"
    },
    {
     "data": {
      "image/png": "[encoded data removed]",
      "text/plain": [
       "<Figure size 1440x1440 with 1 Axes>"
      ]
     },
     "metadata": {
      "needs_background": "light"
     },
     "output_type": "display_data"
    }
   ],
   "source": [
    "plt.figure(figsize=(20,20))\n",
    "sns.countplot(data['y'], hue=data['job'])\n",
    "    "
   ]
  },
  {
   "cell_type": "code",
   "execution_count": 347,
   "metadata": {},
   "outputs": [
    {
     "data": {
      "text/html": [
       "<div>\n",
       "<style scoped>\n",
       "    .dataframe tbody tr th:only-of-type {\n",
       "        vertical-align: middle;\n",
       "    }\n",
       "\n",
       "    .dataframe tbody tr th {\n",
       "        vertical-align: top;\n",
       "    }\n",
       "\n",
       "    .dataframe thead th {\n",
       "        text-align: right;\n",
       "    }\n",
       "</style>\n",
       "<table border=\"1\" class=\"dataframe\">\n",
       "  <thead>\n",
       "    <tr style=\"text-align: right;\">\n",
       "      <th>education</th>\n",
       "      <th>primary</th>\n",
       "      <th>secondary</th>\n",
       "      <th>tertiary</th>\n",
       "      <th>unknown</th>\n",
       "    </tr>\n",
       "    <tr>\n",
       "      <th>job</th>\n",
       "      <th></th>\n",
       "      <th></th>\n",
       "      <th></th>\n",
       "      <th></th>\n",
       "    </tr>\n",
       "  </thead>\n",
       "  <tbody>\n",
       "    <tr>\n",
       "      <th>admin.</th>\n",
       "      <td>209</td>\n",
       "      <td>4219</td>\n",
       "      <td>572</td>\n",
       "      <td>171</td>\n",
       "    </tr>\n",
       "    <tr>\n",
       "      <th>blue-collar</th>\n",
       "      <td>3758</td>\n",
       "      <td>5371</td>\n",
       "      <td>149</td>\n",
       "      <td>454</td>\n",
       "    </tr>\n",
       "    <tr>\n",
       "      <th>entrepreneur</th>\n",
       "      <td>183</td>\n",
       "      <td>542</td>\n",
       "      <td>686</td>\n",
       "      <td>76</td>\n",
       "    </tr>\n",
       "    <tr>\n",
       "      <th>housemaid</th>\n",
       "      <td>627</td>\n",
       "      <td>395</td>\n",
       "      <td>173</td>\n",
       "      <td>45</td>\n",
       "    </tr>\n",
       "    <tr>\n",
       "      <th>management</th>\n",
       "      <td>294</td>\n",
       "      <td>1121</td>\n",
       "      <td>7801</td>\n",
       "      <td>242</td>\n",
       "    </tr>\n",
       "    <tr>\n",
       "      <th>retired</th>\n",
       "      <td>795</td>\n",
       "      <td>984</td>\n",
       "      <td>366</td>\n",
       "      <td>119</td>\n",
       "    </tr>\n",
       "    <tr>\n",
       "      <th>self-employed</th>\n",
       "      <td>130</td>\n",
       "      <td>577</td>\n",
       "      <td>833</td>\n",
       "      <td>39</td>\n",
       "    </tr>\n",
       "    <tr>\n",
       "      <th>services</th>\n",
       "      <td>345</td>\n",
       "      <td>3457</td>\n",
       "      <td>202</td>\n",
       "      <td>150</td>\n",
       "    </tr>\n",
       "    <tr>\n",
       "      <th>student</th>\n",
       "      <td>44</td>\n",
       "      <td>508</td>\n",
       "      <td>223</td>\n",
       "      <td>163</td>\n",
       "    </tr>\n",
       "    <tr>\n",
       "      <th>technician</th>\n",
       "      <td>158</td>\n",
       "      <td>5229</td>\n",
       "      <td>1968</td>\n",
       "      <td>242</td>\n",
       "    </tr>\n",
       "    <tr>\n",
       "      <th>unemployed</th>\n",
       "      <td>257</td>\n",
       "      <td>728</td>\n",
       "      <td>289</td>\n",
       "      <td>29</td>\n",
       "    </tr>\n",
       "    <tr>\n",
       "      <th>unknown</th>\n",
       "      <td>51</td>\n",
       "      <td>71</td>\n",
       "      <td>39</td>\n",
       "      <td>127</td>\n",
       "    </tr>\n",
       "  </tbody>\n",
       "</table>\n",
       "</div>"
      ],
      "text/plain": [
       "education      primary  secondary  tertiary  unknown\n",
       "job                                                 \n",
       "admin.             209       4219       572      171\n",
       "blue-collar       3758       5371       149      454\n",
       "entrepreneur       183        542       686       76\n",
       "housemaid          627        395       173       45\n",
       "management         294       1121      7801      242\n",
       "retired            795        984       366      119\n",
       "self-employed      130        577       833       39\n",
       "services           345       3457       202      150\n",
       "student             44        508       223      163\n",
       "technician         158       5229      1968      242\n",
       "unemployed         257        728       289       29\n",
       "unknown             51         71        39      127"
      ]
     },
     "execution_count": 347,
     "metadata": {},
     "output_type": "execute_result"
    }
   ],
   "source": [
    "pd.crosstab(data['job'], data['education'])"
   ]
  },
  {
   "cell_type": "code",
   "execution_count": 348,
   "metadata": {},
   "outputs": [],
   "source": [
    "c = pd.crosstab(data['job'], data['loan'])"
   ]
  },
  {
   "cell_type": "code",
   "execution_count": 350,
   "metadata": {},
   "outputs": [],
   "source": [
    "data['job'] = ['retired' if x =='unknown' else x for x in data['job']]"
   ]
  },
  {
   "cell_type": "code",
   "execution_count": 351,
   "metadata": {},
   "outputs": [
    {
     "data": {
      "text/plain": [
       "blue-collar      9732\n",
       "management       9458\n",
       "technician       7597\n",
       "admin.           5171\n",
       "services         4154\n",
       "retired          2552\n",
       "self-employed    1579\n",
       "entrepreneur     1487\n",
       "unemployed       1303\n",
       "housemaid        1240\n",
       "student           938\n",
       "Name: job, dtype: int64"
      ]
     },
     "execution_count": 351,
     "metadata": {},
     "output_type": "execute_result"
    }
   ],
   "source": [
    "data['job'].value_counts()"
   ]
  },
  {
   "cell_type": "code",
   "execution_count": 352,
   "metadata": {},
   "outputs": [],
   "source": [
    "def impute_job(cols):\n",
    "    job = cols[0]\n",
    "    if(job == 'blue-collar' or job == 'management' or job == 'entrepreneur'):\n",
    "        return 'high'\n",
    "    elif (job == 'admin' or job == 'services' or job == 'technician' or  job == 'self-employed'):\n",
    "        return 'medium'\n",
    "    else:\n",
    "        return 'low'"
   ]
  },
  {
   "cell_type": "code",
   "execution_count": 353,
   "metadata": {},
   "outputs": [],
   "source": [
    "data['status'] = data[['job']].apply(impute_job, axis=1)"
   ]
  },
  {
   "cell_type": "code",
   "execution_count": 354,
   "metadata": {},
   "outputs": [
    {
     "data": {
      "text/html": [
       "<div>\n",
       "<style scoped>\n",
       "    .dataframe tbody tr th:only-of-type {\n",
       "        vertical-align: middle;\n",
       "    }\n",
       "\n",
       "    .dataframe tbody tr th {\n",
       "        vertical-align: top;\n",
       "    }\n",
       "\n",
       "    .dataframe thead th {\n",
       "        text-align: right;\n",
       "    }\n",
       "</style>\n",
       "<table border=\"1\" class=\"dataframe\">\n",
       "  <thead>\n",
       "    <tr style=\"text-align: right;\">\n",
       "      <th>status</th>\n",
       "      <th>high</th>\n",
       "      <th>low</th>\n",
       "      <th>medium</th>\n",
       "      <th>All</th>\n",
       "    </tr>\n",
       "    <tr>\n",
       "      <th>y</th>\n",
       "      <th></th>\n",
       "      <th></th>\n",
       "      <th></th>\n",
       "      <th></th>\n",
       "    </tr>\n",
       "  </thead>\n",
       "  <tbody>\n",
       "    <tr>\n",
       "      <th>no</th>\n",
       "      <td>18545</td>\n",
       "      <td>9443</td>\n",
       "      <td>11934</td>\n",
       "      <td>39922</td>\n",
       "    </tr>\n",
       "    <tr>\n",
       "      <th>yes</th>\n",
       "      <td>2132</td>\n",
       "      <td>1761</td>\n",
       "      <td>1396</td>\n",
       "      <td>5289</td>\n",
       "    </tr>\n",
       "    <tr>\n",
       "      <th>All</th>\n",
       "      <td>20677</td>\n",
       "      <td>11204</td>\n",
       "      <td>13330</td>\n",
       "      <td>45211</td>\n",
       "    </tr>\n",
       "  </tbody>\n",
       "</table>\n",
       "</div>"
      ],
      "text/plain": [
       "status   high    low  medium    All\n",
       "y                                  \n",
       "no      18545   9443   11934  39922\n",
       "yes      2132   1761    1396   5289\n",
       "All     20677  11204   13330  45211"
      ]
     },
     "execution_count": 354,
     "metadata": {},
     "output_type": "execute_result"
    }
   ],
   "source": [
    "pd.crosstab(data['y'], data['status'], margins=True)"
   ]
  },
  {
   "cell_type": "code",
   "execution_count": 355,
   "metadata": {},
   "outputs": [
    {
     "data": {
      "text/html": [
       "<div>\n",
       "<style scoped>\n",
       "    .dataframe tbody tr th:only-of-type {\n",
       "        vertical-align: middle;\n",
       "    }\n",
       "\n",
       "    .dataframe tbody tr th {\n",
       "        vertical-align: top;\n",
       "    }\n",
       "\n",
       "    .dataframe thead th {\n",
       "        text-align: right;\n",
       "    }\n",
       "</style>\n",
       "<table border=\"1\" class=\"dataframe\">\n",
       "  <thead>\n",
       "    <tr style=\"text-align: right;\">\n",
       "      <th>loan</th>\n",
       "      <th>no</th>\n",
       "      <th>yes</th>\n",
       "    </tr>\n",
       "    <tr>\n",
       "      <th>education</th>\n",
       "      <th></th>\n",
       "      <th></th>\n",
       "    </tr>\n",
       "  </thead>\n",
       "  <tbody>\n",
       "    <tr>\n",
       "      <th>primary</th>\n",
       "      <td>0.128885</td>\n",
       "      <td>0.022649</td>\n",
       "    </tr>\n",
       "    <tr>\n",
       "      <th>secondary</th>\n",
       "      <td>0.418018</td>\n",
       "      <td>0.095176</td>\n",
       "    </tr>\n",
       "    <tr>\n",
       "      <th>tertiary</th>\n",
       "      <td>0.254739</td>\n",
       "      <td>0.039459</td>\n",
       "    </tr>\n",
       "    <tr>\n",
       "      <th>unknown</th>\n",
       "      <td>0.038132</td>\n",
       "      <td>0.002942</td>\n",
       "    </tr>\n",
       "  </tbody>\n",
       "</table>\n",
       "</div>"
      ],
      "text/plain": [
       "loan             no       yes\n",
       "education                    \n",
       "primary    0.128885  0.022649\n",
       "secondary  0.418018  0.095176\n",
       "tertiary   0.254739  0.039459\n",
       "unknown    0.038132  0.002942"
      ]
     },
     "execution_count": 355,
     "metadata": {},
     "output_type": "execute_result"
    }
   ],
   "source": [
    "pd.crosstab(data['education'], data['loan'], normalize=True)"
   ]
  },
  {
   "cell_type": "code",
   "execution_count": 356,
   "metadata": {},
   "outputs": [],
   "source": [
    "data['education'] = ['secondary' if x == 'unknown' else x for x in data['education']]"
   ]
  },
  {
   "cell_type": "code",
   "execution_count": 357,
   "metadata": {},
   "outputs": [
    {
     "data": {
      "text/html": [
       "<div>\n",
       "<style scoped>\n",
       "    .dataframe tbody tr th:only-of-type {\n",
       "        vertical-align: middle;\n",
       "    }\n",
       "\n",
       "    .dataframe tbody tr th {\n",
       "        vertical-align: top;\n",
       "    }\n",
       "\n",
       "    .dataframe thead th {\n",
       "        text-align: right;\n",
       "    }\n",
       "</style>\n",
       "<table border=\"1\" class=\"dataframe\">\n",
       "  <thead>\n",
       "    <tr style=\"text-align: right;\">\n",
       "      <th>loan</th>\n",
       "      <th>no</th>\n",
       "      <th>yes</th>\n",
       "    </tr>\n",
       "    <tr>\n",
       "      <th>education</th>\n",
       "      <th></th>\n",
       "      <th></th>\n",
       "    </tr>\n",
       "  </thead>\n",
       "  <tbody>\n",
       "    <tr>\n",
       "      <th>primary</th>\n",
       "      <td>0.128885</td>\n",
       "      <td>0.022649</td>\n",
       "    </tr>\n",
       "    <tr>\n",
       "      <th>secondary</th>\n",
       "      <td>0.456150</td>\n",
       "      <td>0.098118</td>\n",
       "    </tr>\n",
       "    <tr>\n",
       "      <th>tertiary</th>\n",
       "      <td>0.254739</td>\n",
       "      <td>0.039459</td>\n",
       "    </tr>\n",
       "  </tbody>\n",
       "</table>\n",
       "</div>"
      ],
      "text/plain": [
       "loan             no       yes\n",
       "education                    \n",
       "primary    0.128885  0.022649\n",
       "secondary  0.456150  0.098118\n",
       "tertiary   0.254739  0.039459"
      ]
     },
     "execution_count": 357,
     "metadata": {},
     "output_type": "execute_result"
    }
   ],
   "source": [
    "pd.crosstab(data['education'], data['loan'], normalize=True)"
   ]
  },
  {
   "cell_type": "code",
   "execution_count": 358,
   "metadata": {},
   "outputs": [
    {
     "data": {
      "text/plain": [
       "array(['may', 'jun', 'jul', 'aug', 'oct', 'nov', 'dec', 'jan', 'feb',\n",
       "       'mar', 'apr', 'sep'], dtype=object)"
      ]
     },
     "execution_count": 358,
     "metadata": {},
     "output_type": "execute_result"
    }
   ],
   "source": [
    "data['month'].unique()"
   ]
  },
  {
   "cell_type": "code",
   "execution_count": 359,
   "metadata": {},
   "outputs": [],
   "source": [
    "def impute_month(cols):\n",
    "    mon = cols[0]\n",
    "    if (mon=='jan' or mon=='feb' or mon=='mar'):\n",
    "        return 1\n",
    "    elif(mon=='apr' or mon=='may' or mon=='jun'):\n",
    "        return 2\n",
    "    elif(mon=='jul' or mon=='aug' or mon=='sep'):\n",
    "        return 3\n",
    "    else:\n",
    "        return 4"
   ]
  },
  {
   "cell_type": "code",
   "execution_count": 360,
   "metadata": {},
   "outputs": [],
   "source": [
    "data['month'] = data[['month']].apply(impute_month, axis=1)"
   ]
  },
  {
   "cell_type": "code",
   "execution_count": 361,
   "metadata": {},
   "outputs": [],
   "source": [
    "data['month'] = pd.to_numeric(data['month'])"
   ]
  },
  {
   "cell_type": "code",
   "execution_count": 362,
   "metadata": {},
   "outputs": [
    {
     "data": {
      "text/html": [
       "<div>\n",
       "<style scoped>\n",
       "    .dataframe tbody tr th:only-of-type {\n",
       "        vertical-align: middle;\n",
       "    }\n",
       "\n",
       "    .dataframe tbody tr th {\n",
       "        vertical-align: top;\n",
       "    }\n",
       "\n",
       "    .dataframe thead th {\n",
       "        text-align: right;\n",
       "    }\n",
       "</style>\n",
       "<table border=\"1\" class=\"dataframe\">\n",
       "  <thead>\n",
       "    <tr style=\"text-align: right;\">\n",
       "      <th>job</th>\n",
       "      <th>admin.</th>\n",
       "      <th>blue-collar</th>\n",
       "      <th>entrepreneur</th>\n",
       "      <th>housemaid</th>\n",
       "      <th>management</th>\n",
       "      <th>retired</th>\n",
       "      <th>self-employed</th>\n",
       "      <th>services</th>\n",
       "      <th>student</th>\n",
       "      <th>technician</th>\n",
       "      <th>unemployed</th>\n",
       "    </tr>\n",
       "    <tr>\n",
       "      <th>y</th>\n",
       "      <th></th>\n",
       "      <th></th>\n",
       "      <th></th>\n",
       "      <th></th>\n",
       "      <th></th>\n",
       "      <th></th>\n",
       "      <th></th>\n",
       "      <th></th>\n",
       "      <th></th>\n",
       "      <th></th>\n",
       "      <th></th>\n",
       "    </tr>\n",
       "  </thead>\n",
       "  <tbody>\n",
       "    <tr>\n",
       "      <th>no</th>\n",
       "      <td>4540</td>\n",
       "      <td>9024</td>\n",
       "      <td>1364</td>\n",
       "      <td>1131</td>\n",
       "      <td>8157</td>\n",
       "      <td>2002</td>\n",
       "      <td>1392</td>\n",
       "      <td>3785</td>\n",
       "      <td>669</td>\n",
       "      <td>6757</td>\n",
       "      <td>1101</td>\n",
       "    </tr>\n",
       "    <tr>\n",
       "      <th>yes</th>\n",
       "      <td>631</td>\n",
       "      <td>708</td>\n",
       "      <td>123</td>\n",
       "      <td>109</td>\n",
       "      <td>1301</td>\n",
       "      <td>550</td>\n",
       "      <td>187</td>\n",
       "      <td>369</td>\n",
       "      <td>269</td>\n",
       "      <td>840</td>\n",
       "      <td>202</td>\n",
       "    </tr>\n",
       "  </tbody>\n",
       "</table>\n",
       "</div>"
      ],
      "text/plain": [
       "job  admin.  blue-collar  entrepreneur  housemaid  management  retired  \\\n",
       "y                                                                        \n",
       "no     4540         9024          1364       1131        8157     2002   \n",
       "yes     631          708           123        109        1301      550   \n",
       "\n",
       "job  self-employed  services  student  technician  unemployed  \n",
       "y                                                              \n",
       "no            1392      3785      669        6757        1101  \n",
       "yes            187       369      269         840         202  "
      ]
     },
     "execution_count": 362,
     "metadata": {},
     "output_type": "execute_result"
    }
   ],
   "source": [
    "pd.crosstab(data['y'], data['job'])"
   ]
  },
  {
   "cell_type": "code",
   "execution_count": 363,
   "metadata": {},
   "outputs": [
    {
     "name": "stdout",
     "output_type": "stream",
     "text": [
      "The feature 'job' has '11' unique values\n",
      "The feature 'marital' has '3' unique values\n",
      "The feature 'education' has '3' unique values\n",
      "The feature 'default' has '2' unique values\n",
      "The feature 'housing' has '2' unique values\n",
      "The feature 'loan' has '2' unique values\n",
      "The feature 'contact' has '3' unique values\n",
      "The feature 'poutcome' has '4' unique values\n",
      "The feature 'y' has '2' unique values\n",
      "The feature 'status' has '3' unique values\n"
     ]
    }
   ],
   "source": [
    "find_category([data])"
   ]
  },
  {
   "cell_type": "code",
   "execution_count": 364,
   "metadata": {},
   "outputs": [],
   "source": [
    "import statistics as stats\n",
    "data['contact'] = ['cellular' if x == 'unknown' else x for x in data['contact']]"
   ]
  },
  {
   "cell_type": "code",
   "execution_count": 365,
   "metadata": {},
   "outputs": [
    {
     "data": {
      "text/plain": [
       "cellular     42305\n",
       "telephone     2906\n",
       "Name: contact, dtype: int64"
      ]
     },
     "execution_count": 365,
     "metadata": {},
     "output_type": "execute_result"
    }
   ],
   "source": [
    "data['contact'].value_counts()"
   ]
  },
  {
   "cell_type": "code",
   "execution_count": 366,
   "metadata": {},
   "outputs": [
    {
     "data": {
      "text/html": [
       "<div>\n",
       "<style scoped>\n",
       "    .dataframe tbody tr th:only-of-type {\n",
       "        vertical-align: middle;\n",
       "    }\n",
       "\n",
       "    .dataframe tbody tr th {\n",
       "        vertical-align: top;\n",
       "    }\n",
       "\n",
       "    .dataframe thead th {\n",
       "        text-align: right;\n",
       "    }\n",
       "</style>\n",
       "<table border=\"1\" class=\"dataframe\">\n",
       "  <thead>\n",
       "    <tr style=\"text-align: right;\">\n",
       "      <th></th>\n",
       "      <th>age</th>\n",
       "      <th>job</th>\n",
       "      <th>marital</th>\n",
       "      <th>education</th>\n",
       "      <th>default</th>\n",
       "      <th>balance</th>\n",
       "      <th>housing</th>\n",
       "      <th>loan</th>\n",
       "      <th>contact</th>\n",
       "      <th>day</th>\n",
       "      <th>month</th>\n",
       "      <th>duration</th>\n",
       "      <th>campaign</th>\n",
       "      <th>pdays</th>\n",
       "      <th>previous</th>\n",
       "      <th>poutcome</th>\n",
       "      <th>y</th>\n",
       "      <th>status</th>\n",
       "    </tr>\n",
       "  </thead>\n",
       "  <tbody>\n",
       "    <tr>\n",
       "      <th>0</th>\n",
       "      <td>58</td>\n",
       "      <td>management</td>\n",
       "      <td>married</td>\n",
       "      <td>tertiary</td>\n",
       "      <td>no</td>\n",
       "      <td>2143</td>\n",
       "      <td>yes</td>\n",
       "      <td>no</td>\n",
       "      <td>cellular</td>\n",
       "      <td>5</td>\n",
       "      <td>2</td>\n",
       "      <td>261</td>\n",
       "      <td>1</td>\n",
       "      <td>-1</td>\n",
       "      <td>0</td>\n",
       "      <td>unknown</td>\n",
       "      <td>no</td>\n",
       "      <td>high</td>\n",
       "    </tr>\n",
       "    <tr>\n",
       "      <th>1</th>\n",
       "      <td>44</td>\n",
       "      <td>technician</td>\n",
       "      <td>single</td>\n",
       "      <td>secondary</td>\n",
       "      <td>no</td>\n",
       "      <td>29</td>\n",
       "      <td>yes</td>\n",
       "      <td>no</td>\n",
       "      <td>cellular</td>\n",
       "      <td>5</td>\n",
       "      <td>2</td>\n",
       "      <td>151</td>\n",
       "      <td>1</td>\n",
       "      <td>-1</td>\n",
       "      <td>0</td>\n",
       "      <td>unknown</td>\n",
       "      <td>no</td>\n",
       "      <td>medium</td>\n",
       "    </tr>\n",
       "    <tr>\n",
       "      <th>2</th>\n",
       "      <td>33</td>\n",
       "      <td>entrepreneur</td>\n",
       "      <td>married</td>\n",
       "      <td>secondary</td>\n",
       "      <td>no</td>\n",
       "      <td>2</td>\n",
       "      <td>yes</td>\n",
       "      <td>yes</td>\n",
       "      <td>cellular</td>\n",
       "      <td>5</td>\n",
       "      <td>2</td>\n",
       "      <td>76</td>\n",
       "      <td>1</td>\n",
       "      <td>-1</td>\n",
       "      <td>0</td>\n",
       "      <td>unknown</td>\n",
       "      <td>no</td>\n",
       "      <td>high</td>\n",
       "    </tr>\n",
       "    <tr>\n",
       "      <th>3</th>\n",
       "      <td>47</td>\n",
       "      <td>blue-collar</td>\n",
       "      <td>married</td>\n",
       "      <td>secondary</td>\n",
       "      <td>no</td>\n",
       "      <td>1506</td>\n",
       "      <td>yes</td>\n",
       "      <td>no</td>\n",
       "      <td>cellular</td>\n",
       "      <td>5</td>\n",
       "      <td>2</td>\n",
       "      <td>92</td>\n",
       "      <td>1</td>\n",
       "      <td>-1</td>\n",
       "      <td>0</td>\n",
       "      <td>unknown</td>\n",
       "      <td>no</td>\n",
       "      <td>high</td>\n",
       "    </tr>\n",
       "    <tr>\n",
       "      <th>4</th>\n",
       "      <td>33</td>\n",
       "      <td>retired</td>\n",
       "      <td>single</td>\n",
       "      <td>secondary</td>\n",
       "      <td>no</td>\n",
       "      <td>1</td>\n",
       "      <td>no</td>\n",
       "      <td>no</td>\n",
       "      <td>cellular</td>\n",
       "      <td>5</td>\n",
       "      <td>2</td>\n",
       "      <td>198</td>\n",
       "      <td>1</td>\n",
       "      <td>-1</td>\n",
       "      <td>0</td>\n",
       "      <td>unknown</td>\n",
       "      <td>no</td>\n",
       "      <td>low</td>\n",
       "    </tr>\n",
       "  </tbody>\n",
       "</table>\n",
       "</div>"
      ],
      "text/plain": [
       "   age           job  marital  education default  balance housing loan  \\\n",
       "0   58    management  married   tertiary      no     2143     yes   no   \n",
       "1   44    technician   single  secondary      no       29     yes   no   \n",
       "2   33  entrepreneur  married  secondary      no        2     yes  yes   \n",
       "3   47   blue-collar  married  secondary      no     1506     yes   no   \n",
       "4   33       retired   single  secondary      no        1      no   no   \n",
       "\n",
       "    contact  day  month  duration  campaign  pdays  previous poutcome   y  \\\n",
       "0  cellular    5      2       261         1     -1         0  unknown  no   \n",
       "1  cellular    5      2       151         1     -1         0  unknown  no   \n",
       "2  cellular    5      2        76         1     -1         0  unknown  no   \n",
       "3  cellular    5      2        92         1     -1         0  unknown  no   \n",
       "4  cellular    5      2       198         1     -1         0  unknown  no   \n",
       "\n",
       "   status  \n",
       "0    high  \n",
       "1  medium  \n",
       "2    high  \n",
       "3    high  \n",
       "4     low  "
      ]
     },
     "execution_count": 366,
     "metadata": {},
     "output_type": "execute_result"
    }
   ],
   "source": [
    "data.head()"
   ]
  },
  {
   "cell_type": "code",
   "execution_count": 367,
   "metadata": {},
   "outputs": [
    {
     "data": {
      "text/plain": [
       "married     27214\n",
       "single      12790\n",
       "divorced     5207\n",
       "Name: marital, dtype: int64"
      ]
     },
     "execution_count": 367,
     "metadata": {},
     "output_type": "execute_result"
    }
   ],
   "source": [
    "data['marital'].value_counts()"
   ]
  },
  {
   "cell_type": "code",
   "execution_count": 368,
   "metadata": {},
   "outputs": [
    {
     "data": {
      "text/plain": [
       "unknown    36959\n",
       "failure     4901\n",
       "other       1840\n",
       "success     1511\n",
       "Name: poutcome, dtype: int64"
      ]
     },
     "execution_count": 368,
     "metadata": {},
     "output_type": "execute_result"
    }
   ],
   "source": [
    "data['poutcome'].value_counts()"
   ]
  },
  {
   "cell_type": "code",
   "execution_count": 369,
   "metadata": {},
   "outputs": [],
   "source": [
    "data.drop(['job', 'poutcome', 'day'], axis=1, inplace=True)"
   ]
  },
  {
   "cell_type": "code",
   "execution_count": 370,
   "metadata": {},
   "outputs": [],
   "source": [
    "categ = ['marital', 'education', 'default', 'housing', 'loan', 'contact', 'y', 'status', 'month']"
   ]
  },
  {
   "cell_type": "code",
   "execution_count": 371,
   "metadata": {},
   "outputs": [
    {
     "data": {
      "text/html": [
       "<div>\n",
       "<style scoped>\n",
       "    .dataframe tbody tr th:only-of-type {\n",
       "        vertical-align: middle;\n",
       "    }\n",
       "\n",
       "    .dataframe tbody tr th {\n",
       "        vertical-align: top;\n",
       "    }\n",
       "\n",
       "    .dataframe thead th {\n",
       "        text-align: right;\n",
       "    }\n",
       "</style>\n",
       "<table border=\"1\" class=\"dataframe\">\n",
       "  <thead>\n",
       "    <tr style=\"text-align: right;\">\n",
       "      <th></th>\n",
       "      <th>age</th>\n",
       "      <th>marital</th>\n",
       "      <th>education</th>\n",
       "      <th>default</th>\n",
       "      <th>balance</th>\n",
       "      <th>housing</th>\n",
       "      <th>loan</th>\n",
       "      <th>contact</th>\n",
       "      <th>month</th>\n",
       "      <th>duration</th>\n",
       "      <th>campaign</th>\n",
       "      <th>pdays</th>\n",
       "      <th>previous</th>\n",
       "      <th>y</th>\n",
       "      <th>status</th>\n",
       "    </tr>\n",
       "  </thead>\n",
       "  <tbody>\n",
       "    <tr>\n",
       "      <th>0</th>\n",
       "      <td>58</td>\n",
       "      <td>married</td>\n",
       "      <td>tertiary</td>\n",
       "      <td>no</td>\n",
       "      <td>2143</td>\n",
       "      <td>yes</td>\n",
       "      <td>no</td>\n",
       "      <td>cellular</td>\n",
       "      <td>2</td>\n",
       "      <td>261</td>\n",
       "      <td>1</td>\n",
       "      <td>-1</td>\n",
       "      <td>0</td>\n",
       "      <td>no</td>\n",
       "      <td>high</td>\n",
       "    </tr>\n",
       "    <tr>\n",
       "      <th>1</th>\n",
       "      <td>44</td>\n",
       "      <td>single</td>\n",
       "      <td>secondary</td>\n",
       "      <td>no</td>\n",
       "      <td>29</td>\n",
       "      <td>yes</td>\n",
       "      <td>no</td>\n",
       "      <td>cellular</td>\n",
       "      <td>2</td>\n",
       "      <td>151</td>\n",
       "      <td>1</td>\n",
       "      <td>-1</td>\n",
       "      <td>0</td>\n",
       "      <td>no</td>\n",
       "      <td>medium</td>\n",
       "    </tr>\n",
       "    <tr>\n",
       "      <th>2</th>\n",
       "      <td>33</td>\n",
       "      <td>married</td>\n",
       "      <td>secondary</td>\n",
       "      <td>no</td>\n",
       "      <td>2</td>\n",
       "      <td>yes</td>\n",
       "      <td>yes</td>\n",
       "      <td>cellular</td>\n",
       "      <td>2</td>\n",
       "      <td>76</td>\n",
       "      <td>1</td>\n",
       "      <td>-1</td>\n",
       "      <td>0</td>\n",
       "      <td>no</td>\n",
       "      <td>high</td>\n",
       "    </tr>\n",
       "    <tr>\n",
       "      <th>3</th>\n",
       "      <td>47</td>\n",
       "      <td>married</td>\n",
       "      <td>secondary</td>\n",
       "      <td>no</td>\n",
       "      <td>1506</td>\n",
       "      <td>yes</td>\n",
       "      <td>no</td>\n",
       "      <td>cellular</td>\n",
       "      <td>2</td>\n",
       "      <td>92</td>\n",
       "      <td>1</td>\n",
       "      <td>-1</td>\n",
       "      <td>0</td>\n",
       "      <td>no</td>\n",
       "      <td>high</td>\n",
       "    </tr>\n",
       "    <tr>\n",
       "      <th>4</th>\n",
       "      <td>33</td>\n",
       "      <td>single</td>\n",
       "      <td>secondary</td>\n",
       "      <td>no</td>\n",
       "      <td>1</td>\n",
       "      <td>no</td>\n",
       "      <td>no</td>\n",
       "      <td>cellular</td>\n",
       "      <td>2</td>\n",
       "      <td>198</td>\n",
       "      <td>1</td>\n",
       "      <td>-1</td>\n",
       "      <td>0</td>\n",
       "      <td>no</td>\n",
       "      <td>low</td>\n",
       "    </tr>\n",
       "  </tbody>\n",
       "</table>\n",
       "</div>"
      ],
      "text/plain": [
       "   age  marital  education default  balance housing loan   contact  month  \\\n",
       "0   58  married   tertiary      no     2143     yes   no  cellular      2   \n",
       "1   44   single  secondary      no       29     yes   no  cellular      2   \n",
       "2   33  married  secondary      no        2     yes  yes  cellular      2   \n",
       "3   47  married  secondary      no     1506     yes   no  cellular      2   \n",
       "4   33   single  secondary      no        1      no   no  cellular      2   \n",
       "\n",
       "   duration  campaign  pdays  previous   y  status  \n",
       "0       261         1     -1         0  no    high  \n",
       "1       151         1     -1         0  no  medium  \n",
       "2        76         1     -1         0  no    high  \n",
       "3        92         1     -1         0  no    high  \n",
       "4       198         1     -1         0  no     low  "
      ]
     },
     "execution_count": 371,
     "metadata": {},
     "output_type": "execute_result"
    }
   ],
   "source": [
    "data.head() "
   ]
  },
  {
   "cell_type": "code",
   "execution_count": 372,
   "metadata": {},
   "outputs": [],
   "source": [
    "data.balance = [0 if x < 0 else x for x in data['balance']]"
   ]
  },
  {
   "cell_type": "code",
   "execution_count": 373,
   "metadata": {},
   "outputs": [],
   "source": [
    "# Function to dummy all the categorical variables used for modeling\n",
    "def dummy_df(df, todummy_list):\n",
    "    for x in todummy_list:\n",
    "        dummies = pd.get_dummies(df[x], prefix=x, dummy_na=False, drop_first=True)\n",
    "        df = df.drop(x, 1)\n",
    "        df = pd.concat([df, dummies], axis=1)\n",
    "    return df"
   ]
  },
  {
   "cell_type": "code",
   "execution_count": 374,
   "metadata": {},
   "outputs": [],
   "source": [
    "data = dummy_df(data, categ)"
   ]
  },
  {
   "cell_type": "code",
   "execution_count": 375,
   "metadata": {},
   "outputs": [
    {
     "data": {
      "text/plain": [
       "age                    int64\n",
       "balance                int64\n",
       "duration               int64\n",
       "campaign               int64\n",
       "pdays                  int64\n",
       "previous               int64\n",
       "marital_married        uint8\n",
       "marital_single         uint8\n",
       "education_secondary    uint8\n",
       "education_tertiary     uint8\n",
       "default_yes            uint8\n",
       "housing_yes            uint8\n",
       "loan_yes               uint8\n",
       "contact_telephone      uint8\n",
       "y_yes                  uint8\n",
       "status_low             uint8\n",
       "status_medium          uint8\n",
       "month_2                uint8\n",
       "month_3                uint8\n",
       "month_4                uint8\n",
       "dtype: object"
      ]
     },
     "execution_count": 375,
     "metadata": {},
     "output_type": "execute_result"
    }
   ],
   "source": [
    "data.dtypes"
   ]
  },
  {
   "cell_type": "code",
   "execution_count": 376,
   "metadata": {},
   "outputs": [
    {
     "data": {
      "text/plain": [
       "<matplotlib.axes._subplots.AxesSubplot at 0x237b2048>"
      ]
     },
     "execution_count": 376,
     "metadata": {},
     "output_type": "execute_result"
    },
    {
     "data": {
      "image/png": "[encoded data removed]",
      "text/plain": [
       "<Figure size 1800x1800 with 2 Axes>"
      ]
     },
     "metadata": {
      "needs_background": "light"
     },
     "output_type": "display_data"
    }
   ],
   "source": [
    "plt.figure(figsize=(25,25))\n",
    "sns.heatmap(data.corr(), vmin=-1, vmax=1)"
   ]
  },
  {
   "cell_type": "code",
   "execution_count": 377,
   "metadata": {},
   "outputs": [
    {
     "data": {
      "text/html": [
       "<div>\n",
       "<style scoped>\n",
       "    .dataframe tbody tr th:only-of-type {\n",
       "        vertical-align: middle;\n",
       "    }\n",
       "\n",
       "    .dataframe tbody tr th {\n",
       "        vertical-align: top;\n",
       "    }\n",
       "\n",
       "    .dataframe thead th {\n",
       "        text-align: right;\n",
       "    }\n",
       "</style>\n",
       "<table border=\"1\" class=\"dataframe\">\n",
       "  <thead>\n",
       "    <tr style=\"text-align: right;\">\n",
       "      <th></th>\n",
       "      <th>age</th>\n",
       "      <th>balance</th>\n",
       "      <th>duration</th>\n",
       "      <th>campaign</th>\n",
       "      <th>pdays</th>\n",
       "      <th>previous</th>\n",
       "      <th>marital_married</th>\n",
       "      <th>marital_single</th>\n",
       "      <th>education_secondary</th>\n",
       "      <th>education_tertiary</th>\n",
       "      <th>default_yes</th>\n",
       "      <th>housing_yes</th>\n",
       "      <th>loan_yes</th>\n",
       "      <th>contact_telephone</th>\n",
       "      <th>y_yes</th>\n",
       "      <th>status_low</th>\n",
       "      <th>status_medium</th>\n",
       "      <th>month_2</th>\n",
       "      <th>month_3</th>\n",
       "      <th>month_4</th>\n",
       "    </tr>\n",
       "  </thead>\n",
       "  <tbody>\n",
       "    <tr>\n",
       "      <th>age</th>\n",
       "      <td>1.000000</td>\n",
       "      <td>0.097730</td>\n",
       "      <td>-0.004648</td>\n",
       "      <td>0.004760</td>\n",
       "      <td>-0.023758</td>\n",
       "      <td>0.001288</td>\n",
       "      <td>0.286257</td>\n",
       "      <td>-0.427817</td>\n",
       "      <td>-0.066689</td>\n",
       "      <td>-0.081629</td>\n",
       "      <td>-0.017879</td>\n",
       "      <td>-0.185513</td>\n",
       "      <td>-0.015655</td>\n",
       "      <td>0.170349</td>\n",
       "      <td>0.025155</td>\n",
       "      <td>0.161979</td>\n",
       "      <td>-0.101208</td>\n",
       "      <td>-0.098132</td>\n",
       "      <td>0.065622</td>\n",
       "      <td>0.059278</td>\n",
       "    </tr>\n",
       "    <tr>\n",
       "      <th>balance</th>\n",
       "      <td>0.097730</td>\n",
       "      <td>1.000000</td>\n",
       "      <td>0.021325</td>\n",
       "      <td>-0.014164</td>\n",
       "      <td>0.002730</td>\n",
       "      <td>0.016018</td>\n",
       "      <td>0.026306</td>\n",
       "      <td>-0.013739</td>\n",
       "      <td>-0.064951</td>\n",
       "      <td>0.083429</td>\n",
       "      <td>-0.057112</td>\n",
       "      <td>-0.065279</td>\n",
       "      <td>-0.079532</td>\n",
       "      <td>0.036993</td>\n",
       "      <td>0.051370</td>\n",
       "      <td>0.009239</td>\n",
       "      <td>-0.029581</td>\n",
       "      <td>-0.037209</td>\n",
       "      <td>-0.038617</td>\n",
       "      <td>0.126724</td>\n",
       "    </tr>\n",
       "    <tr>\n",
       "      <th>duration</th>\n",
       "      <td>-0.004648</td>\n",
       "      <td>0.021325</td>\n",
       "      <td>1.000000</td>\n",
       "      <td>-0.084570</td>\n",
       "      <td>-0.001565</td>\n",
       "      <td>0.001203</td>\n",
       "      <td>-0.022683</td>\n",
       "      <td>0.020328</td>\n",
       "      <td>0.001823</td>\n",
       "      <td>0.000891</td>\n",
       "      <td>-0.010021</td>\n",
       "      <td>0.005075</td>\n",
       "      <td>-0.012412</td>\n",
       "      <td>-0.023201</td>\n",
       "      <td>0.394521</td>\n",
       "      <td>0.003068</td>\n",
       "      <td>-0.003648</td>\n",
       "      <td>0.012811</td>\n",
       "      <td>-0.013737</td>\n",
       "      <td>0.004843</td>\n",
       "    </tr>\n",
       "    <tr>\n",
       "      <th>campaign</th>\n",
       "      <td>0.004760</td>\n",
       "      <td>-0.014164</td>\n",
       "      <td>-0.084570</td>\n",
       "      <td>1.000000</td>\n",
       "      <td>-0.088628</td>\n",
       "      <td>-0.032855</td>\n",
       "      <td>0.031371</td>\n",
       "      <td>-0.023120</td>\n",
       "      <td>-0.018732</td>\n",
       "      <td>0.012866</td>\n",
       "      <td>0.016822</td>\n",
       "      <td>-0.023599</td>\n",
       "      <td>0.009980</td>\n",
       "      <td>0.053895</td>\n",
       "      <td>-0.073172</td>\n",
       "      <td>-0.042319</td>\n",
       "      <td>0.016253</td>\n",
       "      <td>-0.067709</td>\n",
       "      <td>0.185327</td>\n",
       "      <td>-0.100505</td>\n",
       "    </tr>\n",
       "    <tr>\n",
       "      <th>pdays</th>\n",
       "      <td>-0.023758</td>\n",
       "      <td>0.002730</td>\n",
       "      <td>-0.001565</td>\n",
       "      <td>-0.088628</td>\n",
       "      <td>1.000000</td>\n",
       "      <td>0.454820</td>\n",
       "      <td>-0.027600</td>\n",
       "      <td>0.027943</td>\n",
       "      <td>0.019471</td>\n",
       "      <td>-0.007568</td>\n",
       "      <td>-0.029979</td>\n",
       "      <td>0.124178</td>\n",
       "      <td>-0.022754</td>\n",
       "      <td>0.016006</td>\n",
       "      <td>0.103621</td>\n",
       "      <td>0.006438</td>\n",
       "      <td>-0.011604</td>\n",
       "      <td>0.070757</td>\n",
       "      <td>-0.166559</td>\n",
       "      <td>0.040694</td>\n",
       "    </tr>\n",
       "    <tr>\n",
       "      <th>previous</th>\n",
       "      <td>0.001288</td>\n",
       "      <td>0.016018</td>\n",
       "      <td>0.001203</td>\n",
       "      <td>-0.032855</td>\n",
       "      <td>0.454820</td>\n",
       "      <td>1.000000</td>\n",
       "      <td>-0.012691</td>\n",
       "      <td>0.017006</td>\n",
       "      <td>-0.008932</td>\n",
       "      <td>0.022888</td>\n",
       "      <td>-0.018329</td>\n",
       "      <td>0.037076</td>\n",
       "      <td>-0.011043</td>\n",
       "      <td>0.028097</td>\n",
       "      <td>0.093236</td>\n",
       "      <td>0.010499</td>\n",
       "      <td>-0.008797</td>\n",
       "      <td>-0.011406</td>\n",
       "      <td>-0.088359</td>\n",
       "      <td>0.064422</td>\n",
       "    </tr>\n",
       "    <tr>\n",
       "      <th>marital_married</th>\n",
       "      <td>0.286257</td>\n",
       "      <td>0.026306</td>\n",
       "      <td>-0.022683</td>\n",
       "      <td>0.031371</td>\n",
       "      <td>-0.027600</td>\n",
       "      <td>-0.012691</td>\n",
       "      <td>1.000000</td>\n",
       "      <td>-0.772357</td>\n",
       "      <td>-0.013986</td>\n",
       "      <td>-0.096019</td>\n",
       "      <td>-0.014460</td>\n",
       "      <td>0.017681</td>\n",
       "      <td>0.036906</td>\n",
       "      <td>0.048970</td>\n",
       "      <td>-0.060260</td>\n",
       "      <td>-0.043963</td>\n",
       "      <td>-0.056661</td>\n",
       "      <td>-0.025765</td>\n",
       "      <td>0.052961</td>\n",
       "      <td>0.015274</td>\n",
       "    </tr>\n",
       "    <tr>\n",
       "      <th>marital_single</th>\n",
       "      <td>-0.427817</td>\n",
       "      <td>-0.013739</td>\n",
       "      <td>0.020328</td>\n",
       "      <td>-0.023120</td>\n",
       "      <td>0.027943</td>\n",
       "      <td>0.017006</td>\n",
       "      <td>-0.772357</td>\n",
       "      <td>1.000000</td>\n",
       "      <td>0.005524</td>\n",
       "      <td>0.110915</td>\n",
       "      <td>0.003115</td>\n",
       "      <td>-0.020475</td>\n",
       "      <td>-0.051716</td>\n",
       "      <td>-0.040468</td>\n",
       "      <td>0.063526</td>\n",
       "      <td>0.017907</td>\n",
       "      <td>0.053096</td>\n",
       "      <td>0.023801</td>\n",
       "      <td>-0.050480</td>\n",
       "      <td>-0.021192</td>\n",
       "    </tr>\n",
       "    <tr>\n",
       "      <th>education_secondary</th>\n",
       "      <td>-0.066689</td>\n",
       "      <td>-0.064951</td>\n",
       "      <td>0.001823</td>\n",
       "      <td>-0.018732</td>\n",
       "      <td>0.019471</td>\n",
       "      <td>-0.008932</td>\n",
       "      <td>-0.013986</td>\n",
       "      <td>0.005524</td>\n",
       "      <td>1.000000</td>\n",
       "      <td>-0.719949</td>\n",
       "      <td>0.012801</td>\n",
       "      <td>0.083224</td>\n",
       "      <td>0.051059</td>\n",
       "      <td>-0.010107</td>\n",
       "      <td>-0.031779</td>\n",
       "      <td>0.139040</td>\n",
       "      <td>0.225013</td>\n",
       "      <td>0.074827</td>\n",
       "      <td>-0.051405</td>\n",
       "      <td>-0.033018</td>\n",
       "    </tr>\n",
       "    <tr>\n",
       "      <th>education_tertiary</th>\n",
       "      <td>-0.081629</td>\n",
       "      <td>0.083429</td>\n",
       "      <td>0.000891</td>\n",
       "      <td>0.012866</td>\n",
       "      <td>-0.007568</td>\n",
       "      <td>0.022888</td>\n",
       "      <td>-0.096019</td>\n",
       "      <td>0.110915</td>\n",
       "      <td>-0.719949</td>\n",
       "      <td>1.000000</td>\n",
       "      <td>-0.015239</td>\n",
       "      <td>-0.099175</td>\n",
       "      <td>-0.045940</td>\n",
       "      <td>-0.044719</td>\n",
       "      <td>0.066448</td>\n",
       "      <td>-0.183727</td>\n",
       "      <td>-0.097794</td>\n",
       "      <td>-0.135257</td>\n",
       "      <td>0.081536</td>\n",
       "      <td>0.062796</td>\n",
       "    </tr>\n",
       "    <tr>\n",
       "      <th>default_yes</th>\n",
       "      <td>-0.017879</td>\n",
       "      <td>-0.057112</td>\n",
       "      <td>-0.010021</td>\n",
       "      <td>0.016822</td>\n",
       "      <td>-0.029979</td>\n",
       "      <td>-0.018329</td>\n",
       "      <td>-0.014460</td>\n",
       "      <td>0.003115</td>\n",
       "      <td>0.012801</td>\n",
       "      <td>-0.015239</td>\n",
       "      <td>1.000000</td>\n",
       "      <td>-0.006025</td>\n",
       "      <td>0.077234</td>\n",
       "      <td>-0.017208</td>\n",
       "      <td>-0.022419</td>\n",
       "      <td>-0.017316</td>\n",
       "      <td>-0.000837</td>\n",
       "      <td>-0.011737</td>\n",
       "      <td>0.025549</td>\n",
       "      <td>-0.003590</td>\n",
       "    </tr>\n",
       "    <tr>\n",
       "      <th>housing_yes</th>\n",
       "      <td>-0.185513</td>\n",
       "      <td>-0.065279</td>\n",
       "      <td>0.005075</td>\n",
       "      <td>-0.023599</td>\n",
       "      <td>0.124178</td>\n",
       "      <td>0.037076</td>\n",
       "      <td>0.017681</td>\n",
       "      <td>-0.020475</td>\n",
       "      <td>0.083224</td>\n",
       "      <td>-0.099175</td>\n",
       "      <td>-0.006025</td>\n",
       "      <td>1.000000</td>\n",
       "      <td>0.041323</td>\n",
       "      <td>-0.080822</td>\n",
       "      <td>-0.139173</td>\n",
       "      <td>-0.138019</td>\n",
       "      <td>0.023106</td>\n",
       "      <td>0.367090</td>\n",
       "      <td>-0.295953</td>\n",
       "      <td>-0.044853</td>\n",
       "    </tr>\n",
       "    <tr>\n",
       "      <th>loan_yes</th>\n",
       "      <td>-0.015655</td>\n",
       "      <td>-0.079532</td>\n",
       "      <td>-0.012412</td>\n",
       "      <td>0.009980</td>\n",
       "      <td>-0.022754</td>\n",
       "      <td>-0.011043</td>\n",
       "      <td>0.036906</td>\n",
       "      <td>-0.051716</td>\n",
       "      <td>0.051059</td>\n",
       "      <td>-0.045940</td>\n",
       "      <td>0.077234</td>\n",
       "      <td>0.041323</td>\n",
       "      <td>1.000000</td>\n",
       "      <td>-0.013183</td>\n",
       "      <td>-0.068185</td>\n",
       "      <td>-0.030471</td>\n",
       "      <td>0.031498</td>\n",
       "      <td>-0.053831</td>\n",
       "      <td>0.070892</td>\n",
       "      <td>0.000651</td>\n",
       "    </tr>\n",
       "    <tr>\n",
       "      <th>contact_telephone</th>\n",
       "      <td>0.170349</td>\n",
       "      <td>0.036993</td>\n",
       "      <td>-0.023201</td>\n",
       "      <td>0.053895</td>\n",
       "      <td>0.016006</td>\n",
       "      <td>0.028097</td>\n",
       "      <td>0.048970</td>\n",
       "      <td>-0.040468</td>\n",
       "      <td>-0.010107</td>\n",
       "      <td>-0.044719</td>\n",
       "      <td>-0.017208</td>\n",
       "      <td>-0.080822</td>\n",
       "      <td>-0.013183</td>\n",
       "      <td>1.000000</td>\n",
       "      <td>0.014042</td>\n",
       "      <td>0.077260</td>\n",
       "      <td>-0.041499</td>\n",
       "      <td>-0.122261</td>\n",
       "      <td>0.055331</td>\n",
       "      <td>0.066781</td>\n",
       "    </tr>\n",
       "    <tr>\n",
       "      <th>y_yes</th>\n",
       "      <td>0.025155</td>\n",
       "      <td>0.051370</td>\n",
       "      <td>0.394521</td>\n",
       "      <td>-0.073172</td>\n",
       "      <td>0.103621</td>\n",
       "      <td>0.093236</td>\n",
       "      <td>-0.060260</td>\n",
       "      <td>0.063526</td>\n",
       "      <td>-0.031779</td>\n",
       "      <td>0.066448</td>\n",
       "      <td>-0.022419</td>\n",
       "      <td>-0.139173</td>\n",
       "      <td>-0.068185</td>\n",
       "      <td>0.014042</td>\n",
       "      <td>1.000000</td>\n",
       "      <td>0.071777</td>\n",
       "      <td>-0.024663</td>\n",
       "      <td>-0.073002</td>\n",
       "      <td>-0.003166</td>\n",
       "      <td>0.055281</td>\n",
       "    </tr>\n",
       "    <tr>\n",
       "      <th>status_low</th>\n",
       "      <td>0.161979</td>\n",
       "      <td>0.009239</td>\n",
       "      <td>0.003068</td>\n",
       "      <td>-0.042319</td>\n",
       "      <td>0.006438</td>\n",
       "      <td>0.010499</td>\n",
       "      <td>-0.043963</td>\n",
       "      <td>0.017907</td>\n",
       "      <td>0.139040</td>\n",
       "      <td>-0.183727</td>\n",
       "      <td>-0.017316</td>\n",
       "      <td>-0.138019</td>\n",
       "      <td>-0.030471</td>\n",
       "      <td>0.077260</td>\n",
       "      <td>0.071777</td>\n",
       "      <td>1.000000</td>\n",
       "      <td>-0.371152</td>\n",
       "      <td>-0.040650</td>\n",
       "      <td>-0.008834</td>\n",
       "      <td>0.011061</td>\n",
       "    </tr>\n",
       "    <tr>\n",
       "      <th>status_medium</th>\n",
       "      <td>-0.101208</td>\n",
       "      <td>-0.029581</td>\n",
       "      <td>-0.003648</td>\n",
       "      <td>0.016253</td>\n",
       "      <td>-0.011604</td>\n",
       "      <td>-0.008797</td>\n",
       "      <td>-0.056661</td>\n",
       "      <td>0.053096</td>\n",
       "      <td>0.225013</td>\n",
       "      <td>-0.097794</td>\n",
       "      <td>-0.000837</td>\n",
       "      <td>0.023106</td>\n",
       "      <td>0.031498</td>\n",
       "      <td>-0.041499</td>\n",
       "      <td>-0.024663</td>\n",
       "      <td>-0.371152</td>\n",
       "      <td>1.000000</td>\n",
       "      <td>-0.027559</td>\n",
       "      <td>0.044788</td>\n",
       "      <td>-0.011712</td>\n",
       "    </tr>\n",
       "    <tr>\n",
       "      <th>month_2</th>\n",
       "      <td>-0.098132</td>\n",
       "      <td>-0.037209</td>\n",
       "      <td>0.012811</td>\n",
       "      <td>-0.067709</td>\n",
       "      <td>0.070757</td>\n",
       "      <td>-0.011406</td>\n",
       "      <td>-0.025765</td>\n",
       "      <td>0.023801</td>\n",
       "      <td>0.074827</td>\n",
       "      <td>-0.135257</td>\n",
       "      <td>-0.011737</td>\n",
       "      <td>0.367090</td>\n",
       "      <td>-0.053831</td>\n",
       "      <td>-0.122261</td>\n",
       "      <td>-0.073002</td>\n",
       "      <td>-0.040650</td>\n",
       "      <td>-0.027559</td>\n",
       "      <td>1.000000</td>\n",
       "      <td>-0.643755</td>\n",
       "      <td>-0.340872</td>\n",
       "    </tr>\n",
       "    <tr>\n",
       "      <th>month_3</th>\n",
       "      <td>0.065622</td>\n",
       "      <td>-0.038617</td>\n",
       "      <td>-0.013737</td>\n",
       "      <td>0.185327</td>\n",
       "      <td>-0.166559</td>\n",
       "      <td>-0.088359</td>\n",
       "      <td>0.052961</td>\n",
       "      <td>-0.050480</td>\n",
       "      <td>-0.051405</td>\n",
       "      <td>0.081536</td>\n",
       "      <td>0.025549</td>\n",
       "      <td>-0.295953</td>\n",
       "      <td>0.070892</td>\n",
       "      <td>0.055331</td>\n",
       "      <td>-0.003166</td>\n",
       "      <td>-0.008834</td>\n",
       "      <td>0.044788</td>\n",
       "      <td>-0.643755</td>\n",
       "      <td>1.000000</td>\n",
       "      <td>-0.230719</td>\n",
       "    </tr>\n",
       "    <tr>\n",
       "      <th>month_4</th>\n",
       "      <td>0.059278</td>\n",
       "      <td>0.126724</td>\n",
       "      <td>0.004843</td>\n",
       "      <td>-0.100505</td>\n",
       "      <td>0.040694</td>\n",
       "      <td>0.064422</td>\n",
       "      <td>0.015274</td>\n",
       "      <td>-0.021192</td>\n",
       "      <td>-0.033018</td>\n",
       "      <td>0.062796</td>\n",
       "      <td>-0.003590</td>\n",
       "      <td>-0.044853</td>\n",
       "      <td>0.000651</td>\n",
       "      <td>0.066781</td>\n",
       "      <td>0.055281</td>\n",
       "      <td>0.011061</td>\n",
       "      <td>-0.011712</td>\n",
       "      <td>-0.340872</td>\n",
       "      <td>-0.230719</td>\n",
       "      <td>1.000000</td>\n",
       "    </tr>\n",
       "  </tbody>\n",
       "</table>\n",
       "</div>"
      ],
      "text/plain": [
       "                          age   balance  duration  campaign     pdays  \\\n",
       "age                  1.000000  0.097730 -0.004648  0.004760 -0.023758   \n",
       "balance              0.097730  1.000000  0.021325 -0.014164  0.002730   \n",
       "duration            -0.004648  0.021325  1.000000 -0.084570 -0.001565   \n",
       "campaign             0.004760 -0.014164 -0.084570  1.000000 -0.088628   \n",
       "pdays               -0.023758  0.002730 -0.001565 -0.088628  1.000000   \n",
       "previous             0.001288  0.016018  0.001203 -0.032855  0.454820   \n",
       "marital_married      0.286257  0.026306 -0.022683  0.031371 -0.027600   \n",
       "marital_single      -0.427817 -0.013739  0.020328 -0.023120  0.027943   \n",
       "education_secondary -0.066689 -0.064951  0.001823 -0.018732  0.019471   \n",
       "education_tertiary  -0.081629  0.083429  0.000891  0.012866 -0.007568   \n",
       "default_yes         -0.017879 -0.057112 -0.010021  0.016822 -0.029979   \n",
       "housing_yes         -0.185513 -0.065279  0.005075 -0.023599  0.124178   \n",
       "loan_yes            -0.015655 -0.079532 -0.012412  0.009980 -0.022754   \n",
       "contact_telephone    0.170349  0.036993 -0.023201  0.053895  0.016006   \n",
       "y_yes                0.025155  0.051370  0.394521 -0.073172  0.103621   \n",
       "status_low           0.161979  0.009239  0.003068 -0.042319  0.006438   \n",
       "status_medium       -0.101208 -0.029581 -0.003648  0.016253 -0.011604   \n",
       "month_2             -0.098132 -0.037209  0.012811 -0.067709  0.070757   \n",
       "month_3              0.065622 -0.038617 -0.013737  0.185327 -0.166559   \n",
       "month_4              0.059278  0.126724  0.004843 -0.100505  0.040694   \n",
       "\n",
       "                     previous  marital_married  marital_single  \\\n",
       "age                  0.001288         0.286257       -0.427817   \n",
       "balance              0.016018         0.026306       -0.013739   \n",
       "duration             0.001203        -0.022683        0.020328   \n",
       "campaign            -0.032855         0.031371       -0.023120   \n",
       "pdays                0.454820        -0.027600        0.027943   \n",
       "previous             1.000000        -0.012691        0.017006   \n",
       "marital_married     -0.012691         1.000000       -0.772357   \n",
       "marital_single       0.017006        -0.772357        1.000000   \n",
       "education_secondary -0.008932        -0.013986        0.005524   \n",
       "education_tertiary   0.022888        -0.096019        0.110915   \n",
       "default_yes         -0.018329        -0.014460        0.003115   \n",
       "housing_yes          0.037076         0.017681       -0.020475   \n",
       "loan_yes            -0.011043         0.036906       -0.051716   \n",
       "contact_telephone    0.028097         0.048970       -0.040468   \n",
       "y_yes                0.093236        -0.060260        0.063526   \n",
       "status_low           0.010499        -0.043963        0.017907   \n",
       "status_medium       -0.008797        -0.056661        0.053096   \n",
       "month_2             -0.011406        -0.025765        0.023801   \n",
       "month_3             -0.088359         0.052961       -0.050480   \n",
       "month_4              0.064422         0.015274       -0.021192   \n",
       "\n",
       "                     education_secondary  education_tertiary  default_yes  \\\n",
       "age                            -0.066689           -0.081629    -0.017879   \n",
       "balance                        -0.064951            0.083429    -0.057112   \n",
       "duration                        0.001823            0.000891    -0.010021   \n",
       "campaign                       -0.018732            0.012866     0.016822   \n",
       "pdays                           0.019471           -0.007568    -0.029979   \n",
       "previous                       -0.008932            0.022888    -0.018329   \n",
       "marital_married                -0.013986           -0.096019    -0.014460   \n",
       "marital_single                  0.005524            0.110915     0.003115   \n",
       "education_secondary             1.000000           -0.719949     0.012801   \n",
       "education_tertiary             -0.719949            1.000000    -0.015239   \n",
       "default_yes                     0.012801           -0.015239     1.000000   \n",
       "housing_yes                     0.083224           -0.099175    -0.006025   \n",
       "loan_yes                        0.051059           -0.045940     0.077234   \n",
       "contact_telephone              -0.010107           -0.044719    -0.017208   \n",
       "y_yes                          -0.031779            0.066448    -0.022419   \n",
       "status_low                      0.139040           -0.183727    -0.017316   \n",
       "status_medium                   0.225013           -0.097794    -0.000837   \n",
       "month_2                         0.074827           -0.135257    -0.011737   \n",
       "month_3                        -0.051405            0.081536     0.025549   \n",
       "month_4                        -0.033018            0.062796    -0.003590   \n",
       "\n",
       "                     housing_yes  loan_yes  contact_telephone     y_yes  \\\n",
       "age                    -0.185513 -0.015655           0.170349  0.025155   \n",
       "balance                -0.065279 -0.079532           0.036993  0.051370   \n",
       "duration                0.005075 -0.012412          -0.023201  0.394521   \n",
       "campaign               -0.023599  0.009980           0.053895 -0.073172   \n",
       "pdays                   0.124178 -0.022754           0.016006  0.103621   \n",
       "previous                0.037076 -0.011043           0.028097  0.093236   \n",
       "marital_married         0.017681  0.036906           0.048970 -0.060260   \n",
       "marital_single         -0.020475 -0.051716          -0.040468  0.063526   \n",
       "education_secondary     0.083224  0.051059          -0.010107 -0.031779   \n",
       "education_tertiary     -0.099175 -0.045940          -0.044719  0.066448   \n",
       "default_yes            -0.006025  0.077234          -0.017208 -0.022419   \n",
       "housing_yes             1.000000  0.041323          -0.080822 -0.139173   \n",
       "loan_yes                0.041323  1.000000          -0.013183 -0.068185   \n",
       "contact_telephone      -0.080822 -0.013183           1.000000  0.014042   \n",
       "y_yes                  -0.139173 -0.068185           0.014042  1.000000   \n",
       "status_low             -0.138019 -0.030471           0.077260  0.071777   \n",
       "status_medium           0.023106  0.031498          -0.041499 -0.024663   \n",
       "month_2                 0.367090 -0.053831          -0.122261 -0.073002   \n",
       "month_3                -0.295953  0.070892           0.055331 -0.003166   \n",
       "month_4                -0.044853  0.000651           0.066781  0.055281   \n",
       "\n",
       "                     status_low  status_medium   month_2   month_3   month_4  \n",
       "age                    0.161979      -0.101208 -0.098132  0.065622  0.059278  \n",
       "balance                0.009239      -0.029581 -0.037209 -0.038617  0.126724  \n",
       "duration               0.003068      -0.003648  0.012811 -0.013737  0.004843  \n",
       "campaign              -0.042319       0.016253 -0.067709  0.185327 -0.100505  \n",
       "pdays                  0.006438      -0.011604  0.070757 -0.166559  0.040694  \n",
       "previous               0.010499      -0.008797 -0.011406 -0.088359  0.064422  \n",
       "marital_married       -0.043963      -0.056661 -0.025765  0.052961  0.015274  \n",
       "marital_single         0.017907       0.053096  0.023801 -0.050480 -0.021192  \n",
       "education_secondary    0.139040       0.225013  0.074827 -0.051405 -0.033018  \n",
       "education_tertiary    -0.183727      -0.097794 -0.135257  0.081536  0.062796  \n",
       "default_yes           -0.017316      -0.000837 -0.011737  0.025549 -0.003590  \n",
       "housing_yes           -0.138019       0.023106  0.367090 -0.295953 -0.044853  \n",
       "loan_yes              -0.030471       0.031498 -0.053831  0.070892  0.000651  \n",
       "contact_telephone      0.077260      -0.041499 -0.122261  0.055331  0.066781  \n",
       "y_yes                  0.071777      -0.024663 -0.073002 -0.003166  0.055281  \n",
       "status_low             1.000000      -0.371152 -0.040650 -0.008834  0.011061  \n",
       "status_medium         -0.371152       1.000000 -0.027559  0.044788 -0.011712  \n",
       "month_2               -0.040650      -0.027559  1.000000 -0.643755 -0.340872  \n",
       "month_3               -0.008834       0.044788 -0.643755  1.000000 -0.230719  \n",
       "month_4                0.011061      -0.011712 -0.340872 -0.230719  1.000000  "
      ]
     },
     "execution_count": 377,
     "metadata": {},
     "output_type": "execute_result"
    }
   ],
   "source": [
    "data.corr()"
   ]
  },
  {
   "cell_type": "code",
   "execution_count": 378,
   "metadata": {},
   "outputs": [],
   "source": [
    "x = data.drop(['y_yes'], axis=1)\n",
    "y = data['y_yes']"
   ]
  },
  {
   "cell_type": "markdown",
   "metadata": {},
   "source": [
    "## Random Forest Classifier"
   ]
  },
  {
   "cell_type": "code",
   "execution_count": 379,
   "metadata": {},
   "outputs": [],
   "source": [
    "from sklearn.ensemble import RandomForestClassifier"
   ]
  },
  {
   "cell_type": "code",
   "execution_count": 380,
   "metadata": {},
   "outputs": [],
   "source": [
    "rfc = RandomForestClassifier(n_estimators=300, oob_score=True)"
   ]
  },
  {
   "cell_type": "code",
   "execution_count": 381,
   "metadata": {},
   "outputs": [],
   "source": [
    "import sklearn.model_selection as md"
   ]
  },
  {
   "cell_type": "code",
   "execution_count": 382,
   "metadata": {},
   "outputs": [],
   "source": [
    "x_train, x_test, y_train, y_test = md.train_test_split(x, y, test_size=0.2, random_state= 143)"
   ]
  },
  {
   "cell_type": "code",
   "execution_count": 383,
   "metadata": {},
   "outputs": [
    {
     "name": "stdout",
     "output_type": "stream",
     "text": [
      "10\n",
      "0.8809168325591683\n",
      "50\n",
      "0.8910362751603628\n",
      "90\n",
      "0.8934140676841407\n",
      "130\n",
      "0.8943264764432648\n",
      "170\n",
      "0.8944094226940942\n",
      "210\n",
      "0.894796505197965\n",
      "250\n",
      "0.894796505197965\n",
      "290\n",
      "0.8950176952001769\n",
      "330\n",
      "0.8951006414510064\n",
      "370\n",
      "0.8951006414510064\n"
     ]
    }
   ],
   "source": [
    "for w in range(10, 400, 40):\n",
    "    gd = RandomForestClassifier(oob_score=True, n_estimators=w, random_state=400)\n",
    "    gd.fit(x_train, y_train)\n",
    "    print(w)\n",
    "    print( gd.oob_score_)"
   ]
  },
  {
   "cell_type": "code",
   "execution_count": 384,
   "metadata": {},
   "outputs": [
    {
     "name": "stdout",
     "output_type": "stream",
     "text": [
      "0.894796505197965\n"
     ]
    }
   ],
   "source": [
    "gd = RandomForestClassifier(oob_score=True, n_estimators=290, random_state=1900)\n",
    "gd.fit(x_train, y_train)\n",
    "print( gd.oob_score_)"
   ]
  },
  {
   "cell_type": "code",
   "execution_count": 385,
   "metadata": {},
   "outputs": [],
   "source": [
    "predictions = gd.predict(x_test)"
   ]
  },
  {
   "cell_type": "code",
   "execution_count": 386,
   "metadata": {},
   "outputs": [],
   "source": [
    "from sklearn.metrics import accuracy_score, confusion_matrix"
   ]
  },
  {
   "cell_type": "code",
   "execution_count": 387,
   "metadata": {},
   "outputs": [
    {
     "data": {
      "text/plain": [
       "0.8968262744664381"
      ]
     },
     "execution_count": 387,
     "metadata": {},
     "output_type": "execute_result"
    }
   ],
   "source": [
    "accuracy_score(y_test, predictions)"
   ]
  },
  {
   "cell_type": "code",
   "execution_count": 388,
   "metadata": {},
   "outputs": [],
   "source": [
    "c = confusion_matrix(y_test, predictions)"
   ]
  },
  {
   "cell_type": "code",
   "execution_count": 389,
   "metadata": {},
   "outputs": [],
   "source": [
    "mat= pd.DataFrame(c, index=['Actual neg','Actual pos'], columns=['Predicted neg','Predicted pos'])\n",
    "               "
   ]
  },
  {
   "cell_type": "code",
   "execution_count": 390,
   "metadata": {},
   "outputs": [
    {
     "data": {
      "text/html": [
       "<div>\n",
       "<style scoped>\n",
       "    .dataframe tbody tr th:only-of-type {\n",
       "        vertical-align: middle;\n",
       "    }\n",
       "\n",
       "    .dataframe tbody tr th {\n",
       "        vertical-align: top;\n",
       "    }\n",
       "\n",
       "    .dataframe thead th {\n",
       "        text-align: right;\n",
       "    }\n",
       "</style>\n",
       "<table border=\"1\" class=\"dataframe\">\n",
       "  <thead>\n",
       "    <tr style=\"text-align: right;\">\n",
       "      <th></th>\n",
       "      <th>Predicted neg</th>\n",
       "      <th>Predicted pos</th>\n",
       "    </tr>\n",
       "  </thead>\n",
       "  <tbody>\n",
       "    <tr>\n",
       "      <th>Actual neg</th>\n",
       "      <td>7746</td>\n",
       "      <td>227</td>\n",
       "    </tr>\n",
       "    <tr>\n",
       "      <th>Actual pos</th>\n",
       "      <td>706</td>\n",
       "      <td>364</td>\n",
       "    </tr>\n",
       "  </tbody>\n",
       "</table>\n",
       "</div>"
      ],
      "text/plain": [
       "            Predicted neg  Predicted pos\n",
       "Actual neg           7746            227\n",
       "Actual pos            706            364"
      ]
     },
     "execution_count": 390,
     "metadata": {},
     "output_type": "execute_result"
    }
   ],
   "source": [
    "mat"
   ]
  },
  {
   "cell_type": "code",
   "execution_count": 391,
   "metadata": {},
   "outputs": [
    {
     "data": {
      "text/plain": [
       "<matplotlib.axes._subplots.AxesSubplot at 0x23779080>"
      ]
     },
     "execution_count": 391,
     "metadata": {},
     "output_type": "execute_result"
    },
    {
     "data": {
      "image/png": "[encoded data removed]",
      "text/plain": [
       "<Figure size 432x288 with 2 Axes>"
      ]
     },
     "metadata": {
      "needs_background": "light"
     },
     "output_type": "display_data"
    }
   ],
   "source": [
    "sns.heatmap(mat, annot=True)"
   ]
  },
  {
   "cell_type": "code",
   "execution_count": 392,
   "metadata": {},
   "outputs": [],
   "source": [
    "from sklearn.metrics import roc_curve, roc_auc_score"
   ]
  },
  {
   "cell_type": "code",
   "execution_count": 393,
   "metadata": {},
   "outputs": [],
   "source": [
    "z=gd.predict_proba(x_test)[::,1]"
   ]
  },
  {
   "cell_type": "code",
   "execution_count": 394,
   "metadata": {},
   "outputs": [
    {
     "data": {
      "text/plain": [
       "0.8984957994915082"
      ]
     },
     "execution_count": 394,
     "metadata": {},
     "output_type": "execute_result"
    }
   ],
   "source": [
    "score = roc_auc_score(y_test, z)\n",
    "score"
   ]
  },
  {
   "cell_type": "code",
   "execution_count": 395,
   "metadata": {},
   "outputs": [],
   "source": [
    "fpr, tpr, threshold = roc_curve(y_test, z)"
   ]
  },
  {
   "cell_type": "code",
   "execution_count": 396,
   "metadata": {},
   "outputs": [
    {
     "data": {
      "image/png": "[encoded data removed]",
      "text/plain": [
       "<Figure size 432x288 with 1 Axes>"
      ]
     },
     "metadata": {
      "needs_background": "light"
     },
     "output_type": "display_data"
    }
   ],
   "source": [
    "plt.title('Receiver Operating Characteristic')\n",
    "plt.plot(fpr, tpr, 'b', label = 'AUC = %0.2f' % score)\n",
    "plt.legend(loc = 'lower right')\n",
    "plt.plot([0, 1], [0, 1],'r--')\n",
    "plt.xlim([0, 1])\n",
    "plt.ylim([0, 1])\n",
    "plt.ylabel('True Positive Rate')\n",
    "plt.xlabel('False Positive Rate')\n",
    "plt.show()"
   ]
  },
  {
   "cell_type": "code",
   "execution_count": 397,
   "metadata": {},
   "outputs": [
    {
     "data": {
      "text/plain": [
       "array([0.1504153 , 0.15757371, 0.34206471, 0.05271846, 0.07040502,\n",
       "       0.03611105, 0.01351795, 0.01101053, 0.0147329 , 0.01472957,\n",
       "       0.00266042, 0.03016542, 0.01293223, 0.00995113, 0.01549387,\n",
       "       0.01734799, 0.01563375, 0.02055797, 0.01197802])"
      ]
     },
     "execution_count": 397,
     "metadata": {},
     "output_type": "execute_result"
    }
   ],
   "source": [
    "gd.feature_importances_"
   ]
  },
  {
   "cell_type": "code",
   "execution_count": 398,
   "metadata": {},
   "outputs": [
    {
     "data": {
      "text/plain": [
       "duration               0.342065\n",
       "balance                0.157574\n",
       "age                    0.150415\n",
       "pdays                  0.070405\n",
       "campaign               0.052718\n",
       "previous               0.036111\n",
       "housing_yes            0.030165\n",
       "month_3                0.020558\n",
       "status_medium          0.017348\n",
       "month_2                0.015634\n",
       "status_low             0.015494\n",
       "education_secondary    0.014733\n",
       "education_tertiary     0.014730\n",
       "marital_married        0.013518\n",
       "loan_yes               0.012932\n",
       "month_4                0.011978\n",
       "marital_single         0.011011\n",
       "contact_telephone      0.009951\n",
       "default_yes            0.002660\n",
       "dtype: float64"
      ]
     },
     "execution_count": 398,
     "metadata": {},
     "output_type": "execute_result"
    }
   ],
   "source": [
    "pd.Series(gd.feature_importances_,index=x.columns.tolist()).sort_values(ascending = False)\n"
   ]
  },
  {
   "cell_type": "markdown",
   "metadata": {},
   "source": [
    "## Logistic Regression using Stats model."
   ]
  },
  {
   "cell_type": "code",
   "execution_count": 399,
   "metadata": {},
   "outputs": [],
   "source": [
    "import statsmodels.api as sm\n",
    "import sklearn.model_selection as md\n"
   ]
  },
  {
   "cell_type": "code",
   "execution_count": 400,
   "metadata": {},
   "outputs": [],
   "source": [
    "x_train, x_test, y_train, y_test = md.train_test_split(x, y, test_size=0.2, random_state=156)"
   ]
  },
  {
   "cell_type": "code",
   "execution_count": 401,
   "metadata": {},
   "outputs": [
    {
     "data": {
      "text/html": [
       "<div>\n",
       "<style scoped>\n",
       "    .dataframe tbody tr th:only-of-type {\n",
       "        vertical-align: middle;\n",
       "    }\n",
       "\n",
       "    .dataframe tbody tr th {\n",
       "        vertical-align: top;\n",
       "    }\n",
       "\n",
       "    .dataframe thead th {\n",
       "        text-align: right;\n",
       "    }\n",
       "</style>\n",
       "<table border=\"1\" class=\"dataframe\">\n",
       "  <thead>\n",
       "    <tr style=\"text-align: right;\">\n",
       "      <th></th>\n",
       "      <th>age</th>\n",
       "      <th>balance</th>\n",
       "      <th>duration</th>\n",
       "      <th>campaign</th>\n",
       "      <th>pdays</th>\n",
       "      <th>previous</th>\n",
       "      <th>marital_married</th>\n",
       "      <th>marital_single</th>\n",
       "      <th>education_secondary</th>\n",
       "      <th>education_tertiary</th>\n",
       "      <th>default_yes</th>\n",
       "      <th>housing_yes</th>\n",
       "      <th>loan_yes</th>\n",
       "      <th>contact_telephone</th>\n",
       "      <th>status_low</th>\n",
       "      <th>status_medium</th>\n",
       "      <th>month_2</th>\n",
       "      <th>month_3</th>\n",
       "      <th>month_4</th>\n",
       "    </tr>\n",
       "  </thead>\n",
       "  <tbody>\n",
       "    <tr>\n",
       "      <th>15989</th>\n",
       "      <td>47</td>\n",
       "      <td>228</td>\n",
       "      <td>89</td>\n",
       "      <td>1</td>\n",
       "      <td>-1</td>\n",
       "      <td>0</td>\n",
       "      <td>1</td>\n",
       "      <td>0</td>\n",
       "      <td>0</td>\n",
       "      <td>1</td>\n",
       "      <td>0</td>\n",
       "      <td>1</td>\n",
       "      <td>0</td>\n",
       "      <td>0</td>\n",
       "      <td>1</td>\n",
       "      <td>0</td>\n",
       "      <td>0</td>\n",
       "      <td>1</td>\n",
       "      <td>0</td>\n",
       "    </tr>\n",
       "    <tr>\n",
       "      <th>35802</th>\n",
       "      <td>36</td>\n",
       "      <td>0</td>\n",
       "      <td>52</td>\n",
       "      <td>1</td>\n",
       "      <td>-1</td>\n",
       "      <td>0</td>\n",
       "      <td>1</td>\n",
       "      <td>0</td>\n",
       "      <td>0</td>\n",
       "      <td>1</td>\n",
       "      <td>0</td>\n",
       "      <td>1</td>\n",
       "      <td>0</td>\n",
       "      <td>0</td>\n",
       "      <td>0</td>\n",
       "      <td>1</td>\n",
       "      <td>1</td>\n",
       "      <td>0</td>\n",
       "      <td>0</td>\n",
       "    </tr>\n",
       "    <tr>\n",
       "      <th>29147</th>\n",
       "      <td>41</td>\n",
       "      <td>0</td>\n",
       "      <td>108</td>\n",
       "      <td>2</td>\n",
       "      <td>-1</td>\n",
       "      <td>0</td>\n",
       "      <td>0</td>\n",
       "      <td>0</td>\n",
       "      <td>1</td>\n",
       "      <td>0</td>\n",
       "      <td>0</td>\n",
       "      <td>1</td>\n",
       "      <td>0</td>\n",
       "      <td>0</td>\n",
       "      <td>0</td>\n",
       "      <td>0</td>\n",
       "      <td>0</td>\n",
       "      <td>0</td>\n",
       "      <td>0</td>\n",
       "    </tr>\n",
       "    <tr>\n",
       "      <th>44420</th>\n",
       "      <td>93</td>\n",
       "      <td>775</td>\n",
       "      <td>476</td>\n",
       "      <td>2</td>\n",
       "      <td>13</td>\n",
       "      <td>9</td>\n",
       "      <td>1</td>\n",
       "      <td>0</td>\n",
       "      <td>1</td>\n",
       "      <td>0</td>\n",
       "      <td>0</td>\n",
       "      <td>0</td>\n",
       "      <td>0</td>\n",
       "      <td>0</td>\n",
       "      <td>1</td>\n",
       "      <td>0</td>\n",
       "      <td>0</td>\n",
       "      <td>1</td>\n",
       "      <td>0</td>\n",
       "    </tr>\n",
       "    <tr>\n",
       "      <th>9692</th>\n",
       "      <td>35</td>\n",
       "      <td>0</td>\n",
       "      <td>119</td>\n",
       "      <td>1</td>\n",
       "      <td>-1</td>\n",
       "      <td>0</td>\n",
       "      <td>0</td>\n",
       "      <td>1</td>\n",
       "      <td>0</td>\n",
       "      <td>1</td>\n",
       "      <td>0</td>\n",
       "      <td>1</td>\n",
       "      <td>1</td>\n",
       "      <td>0</td>\n",
       "      <td>1</td>\n",
       "      <td>0</td>\n",
       "      <td>1</td>\n",
       "      <td>0</td>\n",
       "      <td>0</td>\n",
       "    </tr>\n",
       "  </tbody>\n",
       "</table>\n",
       "</div>"
      ],
      "text/plain": [
       "       age  balance  duration  campaign  pdays  previous  marital_married  \\\n",
       "15989   47      228        89         1     -1         0                1   \n",
       "35802   36        0        52         1     -1         0                1   \n",
       "29147   41        0       108         2     -1         0                0   \n",
       "44420   93      775       476         2     13         9                1   \n",
       "9692    35        0       119         1     -1         0                0   \n",
       "\n",
       "       marital_single  education_secondary  education_tertiary  default_yes  \\\n",
       "15989               0                    0                   1            0   \n",
       "35802               0                    0                   1            0   \n",
       "29147               0                    1                   0            0   \n",
       "44420               0                    1                   0            0   \n",
       "9692                1                    0                   1            0   \n",
       "\n",
       "       housing_yes  loan_yes  contact_telephone  status_low  status_medium  \\\n",
       "15989            1         0                  0           1              0   \n",
       "35802            1         0                  0           0              1   \n",
       "29147            1         0                  0           0              0   \n",
       "44420            0         0                  0           1              0   \n",
       "9692             1         1                  0           1              0   \n",
       "\n",
       "       month_2  month_3  month_4  \n",
       "15989        0        1        0  \n",
       "35802        1        0        0  \n",
       "29147        0        0        0  \n",
       "44420        0        1        0  \n",
       "9692         1        0        0  "
      ]
     },
     "execution_count": 401,
     "metadata": {},
     "output_type": "execute_result"
    }
   ],
   "source": [
    "x_train.head()"
   ]
  },
  {
   "cell_type": "code",
   "execution_count": 402,
   "metadata": {},
   "outputs": [
    {
     "data": {
      "text/plain": [
       "age                    0\n",
       "balance                0\n",
       "duration               0\n",
       "campaign               0\n",
       "pdays                  0\n",
       "previous               0\n",
       "marital_married        0\n",
       "marital_single         0\n",
       "education_secondary    0\n",
       "education_tertiary     0\n",
       "default_yes            0\n",
       "housing_yes            0\n",
       "loan_yes               0\n",
       "contact_telephone      0\n",
       "status_low             0\n",
       "status_medium          0\n",
       "month_2                0\n",
       "month_3                0\n",
       "month_4                0\n",
       "dtype: int64"
      ]
     },
     "execution_count": 402,
     "metadata": {},
     "output_type": "execute_result"
    }
   ],
   "source": [
    "x_train.isnull().sum()"
   ]
  },
  {
   "cell_type": "code",
   "execution_count": 403,
   "metadata": {},
   "outputs": [],
   "source": [
    "x_train = sm.add_constant(x_train)"
   ]
  },
  {
   "cell_type": "code",
   "execution_count": 404,
   "metadata": {},
   "outputs": [],
   "source": [
    "mod = sm.GLM(y_train, x_train, family = sm.families.Binomial())"
   ]
  },
  {
   "cell_type": "code",
   "execution_count": 405,
   "metadata": {},
   "outputs": [],
   "source": [
    "result = mod.fit()"
   ]
  },
  {
   "cell_type": "code",
   "execution_count": 406,
   "metadata": {},
   "outputs": [
    {
     "name": "stdout",
     "output_type": "stream",
     "text": [
      "                 Generalized Linear Model Regression Results                  \n",
      "==============================================================================\n",
      "Dep. Variable:                  y_yes   No. Observations:                36168\n",
      "Model:                            GLM   Df Residuals:                    36148\n",
      "Model Family:                Binomial   Df Model:                           19\n",
      "Link Function:                  logit   Scale:                          1.0000\n",
      "Method:                          IRLS   Log-Likelihood:                -9829.7\n",
      "Date:                Wed, 09 Oct 2019   Deviance:                       19659.\n",
      "Time:                        10:15:49   Pearson chi2:                 1.82e+07\n",
      "No. Iterations:                     7                                         \n",
      "Covariance Type:            nonrobust                                         \n",
      "=======================================================================================\n",
      "                          coef    std err          z      P>|z|      [0.025      0.975]\n",
      "---------------------------------------------------------------------------------------\n",
      "const                  -3.2142      0.142    -22.661      0.000      -3.492      -2.936\n",
      "age                     0.0052      0.002      2.605      0.009       0.001       0.009\n",
      "balance              1.881e-05   5.27e-06      3.569      0.000    8.48e-06    2.91e-05\n",
      "duration                0.0040   6.78e-05     58.390      0.000       0.004       0.004\n",
      "campaign               -0.1208      0.011    -10.962      0.000      -0.142      -0.099\n",
      "pdays                   0.0030      0.000     16.338      0.000       0.003       0.003\n",
      "previous                0.0634      0.008      7.526      0.000       0.047       0.080\n",
      "marital_married        -0.0808      0.062     -1.313      0.189      -0.201       0.040\n",
      "marital_single          0.2905      0.069      4.186      0.000       0.154       0.426\n",
      "education_secondary     0.3183      0.064      4.959      0.000       0.193       0.444\n",
      "education_tertiary      0.7077      0.067     10.507      0.000       0.576       0.840\n",
      "default_yes            -0.2365      0.172     -1.375      0.169      -0.574       0.101\n",
      "housing_yes            -1.0437      0.044    -23.830      0.000      -1.130      -0.958\n",
      "loan_yes               -0.6417      0.063    -10.220      0.000      -0.765      -0.519\n",
      "contact_telephone      -0.0153      0.078     -0.198      0.843      -0.167       0.137\n",
      "status_low              0.4091      0.049      8.412      0.000       0.314       0.504\n",
      "status_medium           0.0162      0.049      0.332      0.740      -0.079       0.112\n",
      "month_2                -0.4421      0.059     -7.461      0.000      -0.558      -0.326\n",
      "month_3                -0.3154      0.061     -5.182      0.000      -0.435      -0.196\n",
      "month_4                -0.0632      0.070     -0.902      0.367      -0.200       0.074\n",
      "=======================================================================================\n"
     ]
    }
   ],
   "source": [
    "print(result.summary())"
   ]
  },
  {
   "cell_type": "code",
   "execution_count": 407,
   "metadata": {},
   "outputs": [],
   "source": [
    "x_train.drop(['month_4', 'status_medium', 'contact_telephone', 'default_yes', 'marital_married'], inplace=True, axis=1)\n",
    "x_train = sm.add_constant(x_train)"
   ]
  },
  {
   "cell_type": "code",
   "execution_count": 408,
   "metadata": {},
   "outputs": [],
   "source": [
    "updated_mod = sm.GLM(y_train, x_train, family = sm.families.Binomial())"
   ]
  },
  {
   "cell_type": "code",
   "execution_count": 409,
   "metadata": {},
   "outputs": [],
   "source": [
    "result2 = updated_mod.fit()"
   ]
  },
  {
   "cell_type": "code",
   "execution_count": 410,
   "metadata": {},
   "outputs": [
    {
     "name": "stdout",
     "output_type": "stream",
     "text": [
      "                 Generalized Linear Model Regression Results                  \n",
      "==============================================================================\n",
      "Dep. Variable:                  y_yes   No. Observations:                36168\n",
      "Model:                            GLM   Df Residuals:                    36153\n",
      "Model Family:                Binomial   Df Model:                           14\n",
      "Link Function:                  logit   Scale:                          1.0000\n",
      "Method:                          IRLS   Log-Likelihood:                -9832.1\n",
      "Date:                Wed, 09 Oct 2019   Deviance:                       19664.\n",
      "Time:                        10:15:49   Pearson chi2:                 1.79e+07\n",
      "No. Iterations:                     7                                         \n",
      "Covariance Type:            nonrobust                                         \n",
      "=======================================================================================\n",
      "                          coef    std err          z      P>|z|      [0.025      0.975]\n",
      "---------------------------------------------------------------------------------------\n",
      "const                  -3.3172      0.124    -26.727      0.000      -3.560      -3.074\n",
      "age                     0.0052      0.002      2.690      0.007       0.001       0.009\n",
      "balance              1.837e-05   5.24e-06      3.504      0.000    8.09e-06    2.86e-05\n",
      "duration                0.0040   6.78e-05     58.444      0.000       0.004       0.004\n",
      "campaign               -0.1211      0.011    -11.012      0.000      -0.143      -0.100\n",
      "pdays                   0.0030      0.000     16.419      0.000       0.003       0.003\n",
      "previous                0.0631      0.008      7.501      0.000       0.047       0.080\n",
      "marital_single          0.3609      0.046      7.877      0.000       0.271       0.451\n",
      "education_secondary     0.3236      0.063      5.133      0.000       0.200       0.447\n",
      "education_tertiary      0.7111      0.067     10.585      0.000       0.579       0.843\n",
      "housing_yes            -1.0447      0.044    -23.907      0.000      -1.130      -0.959\n",
      "loan_yes               -0.6482      0.063    -10.351      0.000      -0.771      -0.525\n",
      "status_low              0.4064      0.043      9.374      0.000       0.321       0.491\n",
      "month_2                -0.4105      0.048     -8.567      0.000      -0.504      -0.317\n",
      "month_3                -0.2857      0.050     -5.668      0.000      -0.384      -0.187\n",
      "=======================================================================================\n"
     ]
    }
   ],
   "source": [
    "print(result2.summary())"
   ]
  },
  {
   "cell_type": "code",
   "execution_count": 411,
   "metadata": {},
   "outputs": [],
   "source": [
    "x_test = x_test.drop(['month_4', 'status_medium', 'contact_telephone', 'default_yes', 'marital_married'], axis=1)\n",
    "x_test = sm.add_constant(x_test)"
   ]
  },
  {
   "cell_type": "code",
   "execution_count": 412,
   "metadata": {},
   "outputs": [],
   "source": [
    "from sklearn.metrics import accuracy_score, confusion_matrix, roc_curve, roc_auc_score"
   ]
  },
  {
   "cell_type": "code",
   "execution_count": 413,
   "metadata": {},
   "outputs": [],
   "source": [
    "pred = result2.predict(x_test)"
   ]
  },
  {
   "cell_type": "code",
   "execution_count": 414,
   "metadata": {},
   "outputs": [],
   "source": [
    "prediction = [1 if x > 0.5 else 0 for x in pred]"
   ]
  },
  {
   "cell_type": "code",
   "execution_count": 415,
   "metadata": {},
   "outputs": [],
   "source": [
    "accuracy = sum(prediction == y_test)/len(y_test)"
   ]
  },
  {
   "cell_type": "code",
   "execution_count": 416,
   "metadata": {},
   "outputs": [
    {
     "data": {
      "text/plain": [
       "0.8919606325334513"
      ]
     },
     "execution_count": 416,
     "metadata": {},
     "output_type": "execute_result"
    }
   ],
   "source": [
    "accuracy_score(y_test, prediction)"
   ]
  },
  {
   "cell_type": "code",
   "execution_count": 417,
   "metadata": {},
   "outputs": [
    {
     "data": {
      "text/plain": [
       "0.8648722435282838"
      ]
     },
     "execution_count": 417,
     "metadata": {},
     "output_type": "execute_result"
    }
   ],
   "source": [
    "roc_auc_score(y_test, pred)"
   ]
  },
  {
   "cell_type": "markdown",
   "metadata": {},
   "source": [
    "## Logistic model using Scikit Learn"
   ]
  },
  {
   "cell_type": "code",
   "execution_count": 418,
   "metadata": {},
   "outputs": [],
   "source": [
    "from sklearn.linear_model import LogisticRegression"
   ]
  },
  {
   "cell_type": "code",
   "execution_count": 419,
   "metadata": {},
   "outputs": [],
   "source": [
    "x_train, x_test, y_train, y_test = md.train_test_split(x, y, test_size = 0.2, random_state = 123)"
   ]
  },
  {
   "cell_type": "code",
   "execution_count": 420,
   "metadata": {},
   "outputs": [],
   "source": [
    "lr = LogisticRegression()"
   ]
  },
  {
   "cell_type": "code",
   "execution_count": 421,
   "metadata": {},
   "outputs": [
    {
     "data": {
      "text/plain": [
       "LogisticRegression(C=1.0, class_weight=None, dual=False, fit_intercept=True,\n",
       "                   intercept_scaling=1, l1_ratio=None, max_iter=100,\n",
       "                   multi_class='warn', n_jobs=None, penalty='l2',\n",
       "                   random_state=None, solver='warn', tol=0.0001, verbose=0,\n",
       "                   warm_start=False)"
      ]
     },
     "execution_count": 421,
     "metadata": {},
     "output_type": "execute_result"
    }
   ],
   "source": [
    "lr.fit(x_train, y_train)"
   ]
  },
  {
   "cell_type": "code",
   "execution_count": 422,
   "metadata": {},
   "outputs": [],
   "source": [
    "predic = lr.predict_proba(x_test)[::,1]"
   ]
  },
  {
   "cell_type": "code",
   "execution_count": 423,
   "metadata": {},
   "outputs": [],
   "source": [
    "prd = lr.predict(x_test)"
   ]
  },
  {
   "cell_type": "code",
   "execution_count": 424,
   "metadata": {},
   "outputs": [
    {
     "data": {
      "text/plain": [
       "0.8876479044564857"
      ]
     },
     "execution_count": 424,
     "metadata": {},
     "output_type": "execute_result"
    }
   ],
   "source": [
    "accuracy_score(y_test, prd)"
   ]
  },
  {
   "cell_type": "code",
   "execution_count": 425,
   "metadata": {},
   "outputs": [],
   "source": [
    "fpr, tpr, threshold = roc_curve(y_test, predic)"
   ]
  },
  {
   "cell_type": "code",
   "execution_count": 426,
   "metadata": {},
   "outputs": [
    {
     "data": {
      "text/plain": [
       "[<matplotlib.lines.Line2D at 0x24158400>]"
      ]
     },
     "execution_count": 426,
     "metadata": {},
     "output_type": "execute_result"
    },
    {
     "data": {
      "image/png": "[encoded data removed]",
      "text/plain": [
       "<Figure size 432x288 with 1 Axes>"
      ]
     },
     "metadata": {
      "needs_background": "light"
     },
     "output_type": "display_data"
    }
   ],
   "source": [
    "plt.plot(fpr, tpr, '-')"
   ]
  },
  {
   "cell_type": "code",
   "execution_count": 427,
   "metadata": {},
   "outputs": [
    {
     "data": {
      "text/plain": [
       "0.8585001282992635"
      ]
     },
     "execution_count": 427,
     "metadata": {},
     "output_type": "execute_result"
    }
   ],
   "source": [
    "roc_auc_score(y_test, predic)"
   ]
  },
  {
   "cell_type": "code",
   "execution_count": 428,
   "metadata": {},
   "outputs": [],
   "source": [
    "from sklearn.tree import DecisionTreeClassifier"
   ]
  },
  {
   "cell_type": "code",
   "execution_count": 429,
   "metadata": {},
   "outputs": [],
   "source": [
    "d = DecisionTreeClassifier(random_state=145)"
   ]
  },
  {
   "cell_type": "code",
   "execution_count": 430,
   "metadata": {},
   "outputs": [],
   "source": [
    "import sklearn.model_selection as md"
   ]
  },
  {
   "cell_type": "code",
   "execution_count": 431,
   "metadata": {},
   "outputs": [],
   "source": [
    "x_train, x_test, y_train, y_test = md.train_test_split(x, y, test_size=0.2, random_state = 543)"
   ]
  },
  {
   "cell_type": "code",
   "execution_count": 432,
   "metadata": {},
   "outputs": [],
   "source": [
    "gd = md.GridSearchCV(estimator=d, param_grid = [{\"max_depth\" : [2, 3, 4, 5, 6]}], cv=10)"
   ]
  },
  {
   "cell_type": "code",
   "execution_count": 433,
   "metadata": {},
   "outputs": [
    {
     "data": {
      "text/plain": [
       "GridSearchCV(cv=10, error_score='raise-deprecating',\n",
       "             estimator=DecisionTreeClassifier(class_weight=None,\n",
       "                                              criterion='gini', max_depth=None,\n",
       "                                              max_features=None,\n",
       "                                              max_leaf_nodes=None,\n",
       "                                              min_impurity_decrease=0.0,\n",
       "                                              min_impurity_split=None,\n",
       "                                              min_samples_leaf=1,\n",
       "                                              min_samples_split=2,\n",
       "                                              min_weight_fraction_leaf=0.0,\n",
       "                                              presort=False, random_state=145,\n",
       "                                              splitter='best'),\n",
       "             iid='warn', n_jobs=None,\n",
       "             param_grid=[{'max_depth': [2, 3, 4, 5, 6]}],\n",
       "             pre_dispatch='2*n_jobs', refit=True, return_train_score=False,\n",
       "             scoring=None, verbose=0)"
      ]
     },
     "execution_count": 433,
     "metadata": {},
     "output_type": "execute_result"
    }
   ],
   "source": [
    "gd.fit(x_train, y_train)"
   ]
  },
  {
   "cell_type": "code",
   "execution_count": 434,
   "metadata": {},
   "outputs": [
    {
     "data": {
      "text/plain": [
       "{'max_depth': 5}"
      ]
     },
     "execution_count": 434,
     "metadata": {},
     "output_type": "execute_result"
    }
   ],
   "source": [
    "gd.best_params_"
   ]
  },
  {
   "cell_type": "code",
   "execution_count": 435,
   "metadata": {},
   "outputs": [
    {
     "data": {
      "text/plain": [
       "DecisionTreeClassifier(class_weight=None, criterion='gini', max_depth=5,\n",
       "                       max_features=None, max_leaf_nodes=None,\n",
       "                       min_impurity_decrease=0.0, min_impurity_split=None,\n",
       "                       min_samples_leaf=1, min_samples_split=2,\n",
       "                       min_weight_fraction_leaf=0.0, presort=False,\n",
       "                       random_state=145, splitter='best')"
      ]
     },
     "execution_count": 435,
     "metadata": {},
     "output_type": "execute_result"
    }
   ],
   "source": [
    "gd.best_estimator_"
   ]
  },
  {
   "cell_type": "code",
   "execution_count": 436,
   "metadata": {},
   "outputs": [
    {
     "data": {
      "text/plain": [
       "0.8925135463894726"
      ]
     },
     "execution_count": 436,
     "metadata": {},
     "output_type": "execute_result"
    }
   ],
   "source": [
    "gd.score(x_test, y_test)"
   ]
  },
  {
   "cell_type": "code",
   "execution_count": 437,
   "metadata": {},
   "outputs": [],
   "source": [
    "prob = gd.predict_proba(x_test)[::,1]"
   ]
  },
  {
   "cell_type": "code",
   "execution_count": 438,
   "metadata": {},
   "outputs": [
    {
     "data": {
      "text/plain": [
       "0.8593464816807921"
      ]
     },
     "execution_count": 438,
     "metadata": {},
     "output_type": "execute_result"
    }
   ],
   "source": [
    "roc_auc_score(y_test, prob)"
   ]
  },
  {
   "cell_type": "code",
   "execution_count": 439,
   "metadata": {},
   "outputs": [
    {
     "data": {
      "text/plain": [
       "0.8925135463894726"
      ]
     },
     "execution_count": 439,
     "metadata": {},
     "output_type": "execute_result"
    }
   ],
   "source": [
    "accuracy_score(y_test, gd.predict(x_test))"
   ]
  },
  {
   "cell_type": "code",
   "execution_count": 440,
   "metadata": {},
   "outputs": [],
   "source": [
    "fpr, tpr, threshold = roc_curve(y_test, prob)"
   ]
  },
  {
   "cell_type": "code",
   "execution_count": 441,
   "metadata": {},
   "outputs": [
    {
     "data": {
      "text/plain": [
       "[<matplotlib.lines.Line2D at 0x24a3e668>]"
      ]
     },
     "execution_count": 441,
     "metadata": {},
     "output_type": "execute_result"
    },
    {
     "data": {
      "image/png": "[encoded data removed]",
      "text/plain": [
       "<Figure size 432x288 with 1 Axes>"
      ]
     },
     "metadata": {
      "needs_background": "light"
     },
     "output_type": "display_data"
    }
   ],
   "source": [
    "plt.plot(fpr, tpr, '-')"
   ]
  },
  {
   "cell_type": "code",
   "execution_count": null,
   "metadata": {},
   "outputs": [],
   "source": []
  },
  {
   "cell_type": "code",
   "execution_count": null,
   "metadata": {},
   "outputs": [],
   "source": []
  },
  {
   "cell_type": "code",
   "execution_count": null,
   "metadata": {},
   "outputs": [],
   "source": []
  },
  {
   "cell_type": "code",
   "execution_count": null,
   "metadata": {},
   "outputs": [],
   "source": []
  },
  {
   "cell_type": "code",
   "execution_count": null,
   "metadata": {},
   "outputs": [],
   "source": []
  }
 ],
 "metadata": {
  "kernelspec": {
   "display_name": "Python 3",
   "language": "python",
   "name": "python3"
  },
  "language_info": {
   "codemirror_mode": {
    "name": "ipython",
    "version": 3
   },
   "file_extension": ".py",
   "mimetype": "text/x-python",
   "name": "python",
   "nbconvert_exporter": "python",
   "pygments_lexer": "ipython3",
   "version": "3.7.3"
  }
 },
 "nbformat": 4,
 "nbformat_minor": 2
}
